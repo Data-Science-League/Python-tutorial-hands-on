{
 "cells": [
  {
   "attachments": {},
   "cell_type": "markdown",
   "metadata": {},
   "source": [
    "# Python基礎 Pandas編\n",
    "\n",
    "この講座ではPythonの基本的なライブラリの1つであるpandasについての講座です．  \n",
    "ぜひ，この講座を通じてpandas操作を身につけましょう！"
   ]
  },
  {
   "attachments": {},
   "cell_type": "markdown",
   "metadata": {},
   "source": [
    "### 1. データの読み込み\n",
    "weather.csvを読み込んでください．\n",
    "\n",
    "ヒント1：pandasのread_csvを使います．  \n",
    "ヒント2：読み込んだデータは変数dfに代入してください."
   ]
  },
  {
   "cell_type": "code",
   "execution_count": null,
   "metadata": {},
   "outputs": [],
   "source": [
    "# ----------解答----------\n",
    "\n",
    "import pandas as pd\n",
    "\n",
    "pd.read_csv('./data/weather.csv')"
   ]
  },
  {
   "attachments": {},
   "cell_type": "markdown",
   "metadata": {},
   "source": [
    "### 2. データの読み込み\n",
    "\n",
    "読み込んだデータdfの先頭3行，末尾10行を表示してください．\n",
    "\n",
    "ヒント1： 先頭を表示する際はhead関数を使用してください．  \n",
    "ヒント2： 末尾を表示する際はtail関数を使用してください．"
   ]
  },
  {
   "cell_type": "code",
   "execution_count": null,
   "metadata": {},
   "outputs": [],
   "source": [
    "# ----------解答----------\n",
    "\n"
   ]
  },
  {
   "attachments": {},
   "cell_type": "markdown",
   "metadata": {},
   "source": [
    "### 3. 不要な列，行を削除\n",
    "\n",
    "先頭行と，カラム名が「.1」　「.2」となっている列を削除した新しいデータフレームを作成してください．  \n",
    "新しいデータフレームは変数dfに代入してください．"
   ]
  },
  {
   "cell_type": "code",
   "execution_count": null,
   "metadata": {},
   "outputs": [],
   "source": [
    "# ----------解答----------\n",
    "\n"
   ]
  },
  {
   "attachments": {},
   "cell_type": "markdown",
   "metadata": {},
   "source": [
    "### 4. データの型，サイズ，列名，行名の確認\n",
    "\n",
    "下記の値を取得してください．\n",
    "- 各列のデータ型\n",
    "- DataFrameのサイズ\n",
    "- 列名\n",
    "- 行名\n",
    "- \n"
   ]
  },
  {
   "cell_type": "code",
   "execution_count": null,
   "metadata": {},
   "outputs": [],
   "source": [
    "# ----------解答----------\n",
    "\n"
   ]
  },
  {
   "cell_type": "code",
   "execution_count": 2,
   "metadata": {},
   "outputs": [],
   "source": []
  },
  {
   "cell_type": "code",
   "execution_count": null,
   "metadata": {},
   "outputs": [],
   "source": []
  }
 ],
 "metadata": {
  "kernelspec": {
   "display_name": "py39_DLS",
   "language": "python",
   "name": "python3"
  },
  "language_info": {
   "codemirror_mode": {
    "name": "ipython",
    "version": 3
   },
   "file_extension": ".py",
   "mimetype": "text/x-python",
   "name": "python",
   "nbconvert_exporter": "python",
   "pygments_lexer": "ipython3",
   "version": "3.9.16"
  },
  "orig_nbformat": 4
 },
 "nbformat": 4,
 "nbformat_minor": 2
}
