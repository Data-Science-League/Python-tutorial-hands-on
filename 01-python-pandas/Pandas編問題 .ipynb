{
 "cells": [
  {
   "attachments": {},
   "cell_type": "markdown",
   "metadata": {},
   "source": [
    "# Python基礎 Pandas編\n",
    "\n",
    "この講座ではPythonの基本的なライブラリの1つであるpandasについての講座です．  \n",
    "ぜひ，この講座を通じてpandas操作を身につけましょう！"
   ]
  },
  {
   "attachments": {},
   "cell_type": "markdown",
   "metadata": {},
   "source": [
    "### 1. データの読み込み\n",
    "weather.csvを読み込み、dfで定義して下さい"
   ]
  },
  {
   "cell_type": "code",
   "execution_count": null,
   "metadata": {},
   "outputs": [],
   "source": []
  },
  {
   "attachments": {},
   "cell_type": "markdown",
   "metadata": {},
   "source": [
    "### 2. データの読み込み\n",
    "\n",
    "読み込んだデータdfの先頭3行，末尾10行を表示してください．"
   ]
  },
  {
   "cell_type": "code",
   "execution_count": null,
   "metadata": {},
   "outputs": [],
   "source": []
  },
  {
   "attachments": {},
   "cell_type": "markdown",
   "metadata": {},
   "source": [
    "### 3. 不要な列，行を削除\n",
    "\n",
    "先頭行と，カラム名が「.1」　「.2」となっている列を削除した新しいデータフレームを作成してください．  \n",
    "新しいデータフレームは変数dfに代入してください．"
   ]
  },
  {
   "cell_type": "code",
   "execution_count": null,
   "metadata": {},
   "outputs": [],
   "source": []
  },
  {
   "attachments": {},
   "cell_type": "markdown",
   "metadata": {},
   "source": [
    "### 4. データの型，サイズ，列名，行名の確認\n",
    "\n",
    "下記の値を取得してください．\n",
    "- 各列のデータ型\n",
    "- DataFrameのサイズ\n",
    "- 列名\n",
    "- 行名\n"
   ]
  },
  {
   "cell_type": "code",
   "execution_count": null,
   "metadata": {},
   "outputs": [],
   "source": []
  },
  {
   "attachments": {},
   "cell_type": "markdown",
   "metadata": {},
   "source": [
    "### 5. 任意の要素を取得  \n",
    "dfの5〜10行目、3~6列目の要素（最高気温~最深積雪）を取得してください"
   ]
  },
  {
   "cell_type": "code",
   "execution_count": null,
   "metadata": {},
   "outputs": [],
   "source": []
  },
  {
   "attachments": {},
   "cell_type": "markdown",
   "metadata": {},
   "source": [
    "### 6. 条件抽出  \n",
    "people.csvを読み込みdf_peopleと定義してください.  \n",
    "その後、下記の条件を満たすDataFrameをそれぞれ抽出しなさい.  \n",
    "- nationalityがAmericaである  \n",
    "- ageが20以上30未満である"
   ]
  },
  {
   "cell_type": "code",
   "execution_count": null,
   "metadata": {},
   "outputs": [],
   "source": []
  },
  {
   "attachments": {},
   "cell_type": "markdown",
   "metadata": {},
   "source": [
    "### 7. ユニークな値の抽出  \n",
    "df_peopleに対して、カラム毎のユニーク（固有）な値を抽出しなさい\n"
   ]
  },
  {
   "cell_type": "code",
   "execution_count": null,
   "metadata": {},
   "outputs": [],
   "source": []
  },
  {
   "attachments": {},
   "cell_type": "markdown",
   "metadata": {},
   "source": [
    "### 8. 重複除去  \n",
    "df_peopleのnationalityの列に対し、重複がある値の行を除去したDataFrameを取得しなさい\n"
   ]
  },
  {
   "cell_type": "code",
   "execution_count": null,
   "metadata": {},
   "outputs": [],
   "source": []
  },
  {
   "attachments": {},
   "cell_type": "markdown",
   "metadata": {},
   "source": [
    "### 9. カラム名変更  \n",
    "dfに対し、各カラム毎の「（単位）」部分を削除したカラム名に変更してください  \n",
    "＜新しいカラム名＞  \n",
    "年月日、平均気温、最高気温、最低気温、降水量の合計、最深積雪、平均雲量、平均蒸気圧、平均風速、日照時間\n"
   ]
  },
  {
   "cell_type": "code",
   "execution_count": null,
   "metadata": {},
   "outputs": [],
   "source": []
  },
  {
   "attachments": {},
   "cell_type": "markdown",
   "metadata": {},
   "source": [
    "### 10. 並び替え  \n",
    "dfを最高気温が高い順に並び替えてください"
   ]
  },
  {
   "cell_type": "code",
   "execution_count": null,
   "metadata": {},
   "outputs": [],
   "source": []
  },
  {
   "attachments": {},
   "cell_type": "markdown",
   "metadata": {},
   "source": [
    "### 11. ダミー変数への処理\n",
    "df_peopleのnationalityカラムをダミー変数に変換しなさい"
   ]
  },
  {
   "cell_type": "code",
   "execution_count": null,
   "metadata": {},
   "outputs": [],
   "source": []
  },
  {
   "attachments": {},
   "cell_type": "markdown",
   "metadata": {},
   "source": [
    "### 12. 欠損値の確認  \n",
    "dfの欠損値を確認してください"
   ]
  },
  {
   "cell_type": "code",
   "execution_count": null,
   "metadata": {},
   "outputs": [],
   "source": []
  },
  {
   "attachments": {},
   "cell_type": "markdown",
   "metadata": {},
   "source": [
    "### 13. 欠損地の補完  \n",
    "dfの欠損値を全て0で補完してください"
   ]
  },
  {
   "cell_type": "code",
   "execution_count": null,
   "metadata": {},
   "outputs": [],
   "source": []
  },
  {
   "attachments": {},
   "cell_type": "markdown",
   "metadata": {},
   "source": [
    "### 14. 欠損値の削除  \n",
    "dfの欠損値を列方向で削除してください"
   ]
  },
  {
   "cell_type": "code",
   "execution_count": null,
   "metadata": {},
   "outputs": [],
   "source": []
  },
  {
   "attachments": {},
   "cell_type": "markdown",
   "metadata": {},
   "source": [
    "### 15. ユニークな値と出現回数  \n",
    "iris.csvを読み込みdf_irisと定義してください  \n",
    "その後、df_irisのClassカラムにおいて、ユニークな値とその出現回数を確認してください"
   ]
  },
  {
   "cell_type": "code",
   "execution_count": null,
   "metadata": {},
   "outputs": [],
   "source": []
  },
  {
   "attachments": {},
   "cell_type": "markdown",
   "metadata": {},
   "source": [
    "### 16. グループごとの集計  \n",
    "df_irisの下記各クラスにおけるsepal-length,sepal-width,petal-length,petal-widthの平均値を求めてください．  \n",
    "- iris-setosa  \n",
    "- iris-versicolor  \n",
    "- iris- virginica"
   ]
  },
  {
   "cell_type": "code",
   "execution_count": null,
   "metadata": {},
   "outputs": [],
   "source": []
  },
  {
   "attachments": {},
   "cell_type": "markdown",
   "metadata": {},
   "source": [
    "### 17. 統計量の確認  \n",
    "df_irisの各カラムにおける，下記統計量を算出してください．  \n",
    "- 平均値  \n",
    "- 中央値  \n",
    "- 標準偏差  \n",
    "- 最大値  \n",
    "- 最小値"
   ]
  },
  {
   "cell_type": "code",
   "execution_count": null,
   "metadata": {},
   "outputs": [],
   "source": []
  },
  {
   "attachments": {},
   "cell_type": "markdown",
   "metadata": {},
   "source": [
    "### 18. 折れ線グラフの表示  \n",
    "dfの先頭50日における平均気温，最高気温，最低気温を折れ線グラフで可視化してください  \n",
    "ただし横軸は年月とすること．"
   ]
  },
  {
   "cell_type": "code",
   "execution_count": null,
   "metadata": {},
   "outputs": [],
   "source": []
  },
  {
   "attachments": {},
   "cell_type": "markdown",
   "metadata": {},
   "source": [
    "### 19. 相関係数の関係  \n",
    "dfの平均気温，最高気温，最低気温の相関係数を算出してください．"
   ]
  },
  {
   "cell_type": "code",
   "execution_count": null,
   "metadata": {},
   "outputs": [],
   "source": []
  },
  {
   "attachments": {},
   "cell_type": "markdown",
   "metadata": {},
   "source": [
    "### 20. データの出力  \n",
    "欠損値を0で補完したdfをweather2.csvというファイル名でcsvとして出力してください．"
   ]
  },
  {
   "cell_type": "code",
   "execution_count": null,
   "metadata": {},
   "outputs": [],
   "source": []
  }
 ],
 "metadata": {
  "kernelspec": {
   "display_name": "py39_DLS",
   "language": "python",
   "name": "python3"
  },
  "language_info": {
   "codemirror_mode": {
    "name": "ipython",
    "version": 3
   },
   "file_extension": ".py",
   "mimetype": "text/x-python",
   "name": "python",
   "nbconvert_exporter": "python",
   "pygments_lexer": "ipython3",
   "version": "3.9.16"
  },
  "orig_nbformat": 4,
  "vscode": {
   "interpreter": {
    "hash": "8431785031a337bbc19c44617a1a10614b0bbc8f16770d39f63c3f3c1419d5a9"
   }
  }
 },
 "nbformat": 4,
 "nbformat_minor": 2
}
