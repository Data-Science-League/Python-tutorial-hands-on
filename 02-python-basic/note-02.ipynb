{
 "cells": [
  {
   "attachments": {},
   "cell_type": "markdown",
   "metadata": {},
   "source": [
    "# Python基礎　基本文法編  \n",
    "Pythonを扱うにあたって基本文法は非常に重要で今後の勉強速度を  \n",
    "大きく左右します．ぜひここで基礎力を身につけましょう！"
   ]
  },
  {
   "attachments": {},
   "cell_type": "markdown",
   "metadata": {},
   "source": [
    "### 1. JupyterLabのショートカット機能  \n",
    "ショートカットキーを用いてこれらの5つの操作を行ってください\n",
    "- セルの追加  \n",
    "- セルの削除  \n",
    "- Markdownセルに切り替え  \n",
    "- コードセルに切り替え  \n",
    "- セルの実行"
   ]
  },
  {
   "cell_type": "code",
   "execution_count": null,
   "metadata": {},
   "outputs": [],
   "source": []
  },
  {
   "attachments": {},
   "cell_type": "markdown",
   "metadata": {},
   "source": [
    "### 2. インストール済みのパッケージ一覧の確認  \n",
    "ご自身の環境にインストール済みのパーッケージ一覧をターミナル等で確認してください．"
   ]
  },
  {
   "cell_type": "code",
   "execution_count": null,
   "metadata": {},
   "outputs": [],
   "source": []
  },
  {
   "attachments": {},
   "cell_type": "markdown",
   "metadata": {},
   "source": [
    "## 文字列の扱い"
   ]
  },
  {
   "attachments": {},
   "cell_type": "markdown",
   "metadata": {},
   "source": [
    "### 3. 文字列の代入  \n",
    "以下の文章の〇〇に対して，format()f-stringsを使って文字列を代入しましょう．  \n",
    "「私は〇〇です．〇〇出身です．」"
   ]
  },
  {
   "cell_type": "code",
   "execution_count": null,
   "metadata": {},
   "outputs": [],
   "source": []
  },
  {
   "attachments": {},
   "cell_type": "markdown",
   "metadata": {},
   "source": [
    "### 4. エスケープシーケンス  \n",
    "次の文字列を句読点で改行しましょう．  \n",
    "「今日はDSLのPython勉強会だ．これからプログラミングをマスターするぞ．」"
   ]
  },
  {
   "cell_type": "code",
   "execution_count": null,
   "metadata": {},
   "outputs": [],
   "source": []
  },
  {
   "attachments": {},
   "cell_type": "markdown",
   "metadata": {},
   "source": [
    "### 5. 書式化  \n",
    "16.0という値を次の書式で表示しましょう．  \n",
    "- 符号付き10進数  \n",
    "- 符号付き16進数  \n",
    "- 10進浮動小数点\n"
   ]
  },
  {
   "cell_type": "code",
   "execution_count": null,
   "metadata": {},
   "outputs": [],
   "source": []
  },
  {
   "attachments": {},
   "cell_type": "markdown",
   "metadata": {},
   "source": [
    "### 6. 大文字・小文字への変換  \n",
    "以下の文字列に対して，小文字から大文字へ，大文字から小文字への変換を行いましょう．\n",
    "- \"hello\"  \n",
    "- \"HELLO\""
   ]
  },
  {
   "cell_type": "code",
   "execution_count": null,
   "metadata": {},
   "outputs": [],
   "source": []
  },
  {
   "attachments": {},
   "cell_type": "markdown",
   "metadata": {},
   "source": [
    "### 7. 文字列の分割\n",
    "下記の文字列を開業部分で分割し，リストに格納しましょう．  \n",
    "「こんにちは．\\n私はAIのロボットです.」"
   ]
  },
  {
   "cell_type": "code",
   "execution_count": null,
   "metadata": {},
   "outputs": [],
   "source": []
  },
  {
   "attachments": {},
   "cell_type": "markdown",
   "metadata": {},
   "source": [
    "### 8. 文字列の結合  \n",
    "以下のリスト内に入っている文字列を結合して1つの文にしましょう．  \n",
    "message =['こんにちは．', '私はAIのロボットです．']"
   ]
  },
  {
   "cell_type": "code",
   "execution_count": null,
   "metadata": {},
   "outputs": [],
   "source": []
  },
  {
   "attachments": {},
   "cell_type": "markdown",
   "metadata": {},
   "source": [
    "### 9. 空白除去  \n",
    "下記の文のはじめと最後にある空白を除去しましょう．  \n",
    "「　いつも食べるこのケーキはとてもおいしいね．　」  \n",
    "※全角スペースです."
   ]
  },
  {
   "cell_type": "code",
   "execution_count": null,
   "metadata": {},
   "outputs": [],
   "source": []
  },
  {
   "attachments": {},
   "cell_type": "markdown",
   "metadata": {},
   "source": [
    "### 10. 文字列の置換　　\n",
    "以下の文の「晴れ」を「雨」に置換してください．  \n",
    "「今日は晴れですね．」"
   ]
  },
  {
   "cell_type": "code",
   "execution_count": null,
   "metadata": {},
   "outputs": [],
   "source": []
  },
  {
   "attachments": {},
   "cell_type": "markdown",
   "metadata": {},
   "source": [
    "### 11. 文字列検索  \n",
    "以下のフレーズの中から「夜空」を検索し，その位置を出力しましょう．  \n",
    "「今日はとても夜空がきれいだ.」"
   ]
  },
  {
   "cell_type": "code",
   "execution_count": null,
   "metadata": {},
   "outputs": [],
   "source": []
  },
  {
   "attachments": {},
   "cell_type": "markdown",
   "metadata": {},
   "source": [
    "### 12. 型変換  \n",
    "以下のデータ型を文字列型に変換しましょう．  \n",
    "\n",
    "- int: x = 1  \n",
    "- float: x = 1.52\n",
    "- list: x = [1, 2, 3]  \n",
    "- dict: x = dict(name='join', birth='US')"
   ]
  },
  {
   "cell_type": "code",
   "execution_count": null,
   "metadata": {},
   "outputs": [],
   "source": []
  },
  {
   "attachments": {},
   "cell_type": "markdown",
   "metadata": {},
   "source": [
    "### 13. 包含関係  \n",
    "以下の文字列Aが文字列Bに含まれているか確認しましょう  \n",
    "- A: 'sba', B: 'gasba'  \n",
    "- B: 'xdh', B: 'orweit'"
   ]
  },
  {
   "cell_type": "code",
   "execution_count": null,
   "metadata": {},
   "outputs": [],
   "source": []
  },
  {
   "attachments": {},
   "cell_type": "markdown",
   "metadata": {},
   "source": [
    "## リストの扱い"
   ]
  },
  {
   "attachments": {},
   "cell_type": "markdown",
   "metadata": {},
   "source": [
    "### 14. 特定の値を抽出  \n",
    "次のリストの中から，先頭から2つ目の値と最後の値をそれぞれ出力しましょう．  \n",
    "また2をリストの最後に追加しましょう．  \n",
    "numbers = [0, 3, 8, -4, 9, 1]"
   ]
  },
  {
   "cell_type": "code",
   "execution_count": null,
   "metadata": {},
   "outputs": [],
   "source": []
  },
  {
   "attachments": {},
   "cell_type": "markdown",
   "metadata": {},
   "source": [
    "### 15. 特定の値を挿入  \n",
    "先ほどのnumbersリストの先頭に5を挿入しましょう．  \n",
    "さらに最後から1つ手前に-3を挿入しましょう."
   ]
  },
  {
   "cell_type": "code",
   "execution_count": null,
   "metadata": {},
   "outputs": [],
   "source": []
  },
  {
   "attachments": {},
   "cell_type": "markdown",
   "metadata": {},
   "source": [
    "### 16. 特定の値を削除  \n",
    "先ほどのリストから1つ目の5と最後から3番目の要素を削除しましょう．  \n",
    "numbers = [5, 0, 3, 8, -4, 9, 1, 5, 2]"
   ]
  },
  {
   "attachments": {},
   "cell_type": "markdown",
   "metadata": {},
   "source": [
    "### 17. フィルター  \n",
    "次の，偶数のみ取り出す関数とfilter()を用いて先ほどのnumbersリストから  \n",
    "偶数のみを取り出したリストを作成しましょう．  \n",
    "  \n"
   ]
  },
  {
   "cell_type": "code",
   "execution_count": 1,
   "metadata": {},
   "outputs": [],
   "source": [
    "def isEven(number):  \n",
    "    if number % 2 == 0:  \n",
    "        print(f'This number, {number} is even!')  \n",
    "        return True  \n",
    "    else:  \n",
    "        print(f'This number, {number} is odd!')  \n",
    "        return False  "
   ]
  },
  {
   "attachments": {},
   "cell_type": "markdown",
   "metadata": {},
   "source": [
    "### 18. 引数と一致する要素のインデックス  \n",
    "先ほどのnumbersリストの中から要素が-4のインデックスを取得しましょう．"
   ]
  },
  {
   "attachments": {},
   "cell_type": "markdown",
   "metadata": {},
   "source": [
    "### 19. ソート(=並び替え)，昇順/降順  \n",
    "先ほどのnumbersリストの純所を昇順/降順にそれぞれ並び替えましょう．"
   ]
  },
  {
   "attachments": {},
   "cell_type": "markdown",
   "metadata": {},
   "source": [
    "## 辞書の扱い"
   ]
  },
  {
   "cell_type": "markdown",
   "metadata": {},
   "source": []
  }
 ],
 "metadata": {
  "kernelspec": {
   "display_name": "py39_DLS",
   "language": "python",
   "name": "python3"
  },
  "language_info": {
   "codemirror_mode": {
    "name": "ipython",
    "version": 3
   },
   "file_extension": ".py",
   "mimetype": "text/x-python",
   "name": "python",
   "nbconvert_exporter": "python",
   "pygments_lexer": "ipython3",
   "version": "3.9.16"
  },
  "orig_nbformat": 4
 },
 "nbformat": 4,
 "nbformat_minor": 2
}
