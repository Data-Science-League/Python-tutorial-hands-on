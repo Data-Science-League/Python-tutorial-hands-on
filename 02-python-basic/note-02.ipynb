{
 "cells": [
  {
   "attachments": {},
   "cell_type": "markdown",
   "metadata": {},
   "source": [
    "# Python基礎　基本文法編  \n",
    "Pythonを扱うにあたって基本文法は非常に重要で今後の勉強速度を  \n",
    "大きく左右します．ぜひここで基礎力を身につけましょう！"
   ]
  },
  {
   "attachments": {},
   "cell_type": "markdown",
   "metadata": {},
   "source": [
    "### 1. JupyterLabのショートカット機能  \n",
    "ショートカットキーを用いてこれらの5つの操作を行ってください\n",
    "- セルの追加  \n",
    "- セルの削除  \n",
    "- Markdownセルに切り替え  \n",
    "- コードセルに切り替え  \n",
    "- セルの実行"
   ]
  },
  {
   "cell_type": "code",
   "execution_count": null,
   "metadata": {},
   "outputs": [],
   "source": []
  },
  {
   "attachments": {},
   "cell_type": "markdown",
   "metadata": {},
   "source": [
    "### 2. インストール済みのパッケージ一覧の確認  \n",
    "ご自身の環境にインストール済みのパーッケージ一覧をターミナル等で確認してください．"
   ]
  },
  {
   "cell_type": "code",
   "execution_count": null,
   "metadata": {},
   "outputs": [],
   "source": []
  },
  {
   "attachments": {},
   "cell_type": "markdown",
   "metadata": {},
   "source": [
    "## 文字列の扱い"
   ]
  },
  {
   "attachments": {},
   "cell_type": "markdown",
   "metadata": {},
   "source": [
    "### 3. 文字列の代入  \n",
    "以下の文章の〇〇に対して，format()f-stringsを使って文字列を代入しましょう．  \n",
    "「私は〇〇です．〇〇出身です．」"
   ]
  },
  {
   "cell_type": "code",
   "execution_count": null,
   "metadata": {},
   "outputs": [],
   "source": []
  },
  {
   "attachments": {},
   "cell_type": "markdown",
   "metadata": {},
   "source": [
    "### 4. エスケープシーケンス  \n",
    "次の文字列を句読点で改行しましょう．  \n",
    "「今日はDSLのPython勉強会だ．これからプログラミングをマスターするぞ．」"
   ]
  },
  {
   "cell_type": "code",
   "execution_count": null,
   "metadata": {},
   "outputs": [],
   "source": []
  },
  {
   "attachments": {},
   "cell_type": "markdown",
   "metadata": {},
   "source": [
    "### 5. 書式化  \n",
    "16.0という値を次の書式で表示しましょう．  \n",
    "- 符号付き10進数  \n",
    "- 符号付き16進数  \n",
    "- 10進浮動小数点\n"
   ]
  },
  {
   "cell_type": "code",
   "execution_count": null,
   "metadata": {},
   "outputs": [],
   "source": []
  },
  {
   "attachments": {},
   "cell_type": "markdown",
   "metadata": {},
   "source": [
    "### 6. 大文字・小文字への変換  \n",
    "以下の文字列に対して，小文字から大文字へ，大文字から小文字への変換を行いましょう．\n",
    "- \"hello\"  \n",
    "- \"HELLO\""
   ]
  },
  {
   "cell_type": "code",
   "execution_count": null,
   "metadata": {},
   "outputs": [],
   "source": []
  },
  {
   "attachments": {},
   "cell_type": "markdown",
   "metadata": {},
   "source": [
    "### 7. 文字列の分割\n",
    "下記の文字列を開業部分で分割し，リストに格納しましょう．  \n",
    "「こんにちは．\\n私はAIのロボットです.」"
   ]
  },
  {
   "cell_type": "code",
   "execution_count": null,
   "metadata": {},
   "outputs": [],
   "source": []
  },
  {
   "attachments": {},
   "cell_type": "markdown",
   "metadata": {},
   "source": [
    "### 8. 文字列の結合  \n",
    "以下のリスト内に入っている文字列を結合して1つの文にしましょう．  \n",
    "message =['こんにちは．', '私はAIのロボットです．']"
   ]
  },
  {
   "cell_type": "code",
   "execution_count": null,
   "metadata": {},
   "outputs": [],
   "source": []
  },
  {
   "attachments": {},
   "cell_type": "markdown",
   "metadata": {},
   "source": [
    "### 9. 空白除去  \n",
    "下記の文のはじめと最後にある空白を除去しましょう．  \n",
    "「　いつも食べるこのケーキはとてもおいしいね．　」  \n",
    "※全角スペースです."
   ]
  },
  {
   "cell_type": "code",
   "execution_count": null,
   "metadata": {},
   "outputs": [],
   "source": []
  },
  {
   "attachments": {},
   "cell_type": "markdown",
   "metadata": {},
   "source": [
    "### 10. 文字列の置換　　\n",
    "以下の文の「晴れ」を「雨」に置換してください．  \n",
    "「今日は晴れですね．」"
   ]
  },
  {
   "cell_type": "code",
   "execution_count": null,
   "metadata": {},
   "outputs": [],
   "source": []
  },
  {
   "attachments": {},
   "cell_type": "markdown",
   "metadata": {},
   "source": [
    "### 11. 文字列検索  \n",
    "以下のフレーズの中から「夜空」を検索し，その位置を出力しましょう．  \n",
    "「今日はとても夜空がきれいだ.」"
   ]
  },
  {
   "cell_type": "code",
   "execution_count": null,
   "metadata": {},
   "outputs": [],
   "source": []
  },
  {
   "attachments": {},
   "cell_type": "markdown",
   "metadata": {},
   "source": [
    "### 12. 型変換  \n",
    "以下のデータ型を文字列型に変換しましょう．  \n",
    "\n",
    "- int: x = 1  \n",
    "- float: x = 1.52\n",
    "- list: x = [1, 2, 3]  \n",
    "- dict: x = dict(name='join', birth='US')"
   ]
  },
  {
   "cell_type": "code",
   "execution_count": null,
   "metadata": {},
   "outputs": [],
   "source": []
  },
  {
   "attachments": {},
   "cell_type": "markdown",
   "metadata": {},
   "source": [
    "### 13. 包含関係  \n",
    "以下の文字列Aが文字列Bに含まれているか確認しましょう  \n",
    "- A: 'sba', B: 'gasba'  \n",
    "- B: 'xdh', B: 'orweit'"
   ]
  },
  {
   "cell_type": "code",
   "execution_count": null,
   "metadata": {},
   "outputs": [],
   "source": []
  },
  {
   "attachments": {},
   "cell_type": "markdown",
   "metadata": {},
   "source": [
    "## リストの扱い"
   ]
  },
  {
   "attachments": {},
   "cell_type": "markdown",
   "metadata": {},
   "source": [
    "### 14. 特定の値を抽出  \n",
    "次のリストの中から，先頭から2つ目の値と最後の値をそれぞれ出力しましょう．  \n",
    "また2をリストの最後に追加しましょう．  \n",
    "numbers = [0, 3, 8, -4, 9, 1]"
   ]
  },
  {
   "cell_type": "code",
   "execution_count": null,
   "metadata": {},
   "outputs": [],
   "source": []
  },
  {
   "attachments": {},
   "cell_type": "markdown",
   "metadata": {},
   "source": [
    "### 15. 特定の値を挿入  \n",
    "先ほどのnumbersリストの先頭に5を挿入しましょう．  \n",
    "さらに最後から1つ手前に-3を挿入しましょう."
   ]
  },
  {
   "cell_type": "code",
   "execution_count": null,
   "metadata": {},
   "outputs": [],
   "source": []
  },
  {
   "attachments": {},
   "cell_type": "markdown",
   "metadata": {},
   "source": [
    "### 16. 特定の値を削除  \n",
    "先ほどのリストから1つ目の5と最後から3番目の要素を削除しましょう．  \n",
    "numbers = [5, 0, 3, 8, -4, 9, 1, 5, 2]"
   ]
  },
  {
   "attachments": {},
   "cell_type": "markdown",
   "metadata": {},
   "source": [
    "### 17. フィルター  \n",
    "次の，偶数のみ取り出す関数とfilter()を用いて先ほどのnumbersリストから  \n",
    "偶数のみを取り出したリストを作成しましょう．  \n",
    "  \n"
   ]
  },
  {
   "cell_type": "code",
   "execution_count": 1,
   "metadata": {},
   "outputs": [],
   "source": [
    "def isEven(number):  \n",
    "    if number % 2 == 0:  \n",
    "        print(f'This number, {number} is even!')  \n",
    "        return True  \n",
    "    else:  \n",
    "        print(f'This number, {number} is odd!')  \n",
    "        return False  "
   ]
  },
  {
   "attachments": {},
   "cell_type": "markdown",
   "metadata": {},
   "source": [
    "### 18. 引数と一致する要素のインデックス  \n",
    "先ほどのnumbersリストの中から要素が-4のインデックスを取得しましょう．"
   ]
  },
  {
   "attachments": {},
   "cell_type": "markdown",
   "metadata": {},
   "source": [
    "### 19. ソート(=並び替え)，昇順/降順  \n",
    "先ほどのnumbersリストの純所を昇順/降順にそれぞれ並び替えましょう．"
   ]
  },
  {
   "attachments": {},
   "cell_type": "markdown",
   "metadata": {},
   "source": [
    "## 辞書の扱い"
   ]
  },
  {
   "attachments": {},
   "cell_type": "markdown",
   "metadata": {},
   "source": [
    "### 20. 要素の削除  \n",
    "以下の辞書データからpopメソッドを使って，要素Aと要素Bを削除しましょう．  \n",
    "また，clearメソッドを使って，すべての要素を削除しましょう．  \n",
    "  \n",
    "dictionary = {'A' : 'DSL', 'B' : 'データサイエンス', 'C' : 'パイソン', 'D' : '統計'}"
   ]
  },
  {
   "attachments": {},
   "cell_type": "markdown",
   "metadata": {},
   "source": [
    "### 21. 情報の取得  \n",
    "以下の辞書かた次の処理を行いましょう．  \n",
    "- キーのみの表示  \n",
    "- 値の中にデータサイエンスという文字列が存在するか  \n",
    "- 全てのキーと値の表示  \n",
    "\n",
    "\n",
    "dictionary = {'A' : 'DSL', 'B' : 'データサイエンス', 'C' : 'パイソン', 'D' : '統計'}\n"
   ]
  },
  {
   "attachments": {},
   "cell_type": "markdown",
   "metadata": {},
   "source": [
    "### 22. 辞書内の要素検索  \n",
    "以下の辞書からAとCというキーに対応する値を表示しましょう．  \n",
    "  \n",
    "dictionary = {'A' : 'DSL', 'B' : 'データサイエンス', 'C' : 'パイソン', 'D' : '統計'}"
   ]
  },
  {
   "attachments": {},
   "cell_type": "markdown",
   "metadata": {},
   "source": [
    "## 制御構文(if文)"
   ]
  },
  {
   "attachments": {},
   "cell_type": "markdown",
   "metadata": {},
   "source": [
    "### 23. if文を使って条件分岐  \n",
    "if文を使って以下の処理を実装してください．  \n",
    "int型の変数であるnumを用意し，numが以下の条件の時に，コロン(:)の右側にある文字列を出力する．  \n",
    "- numが正の値の場合：正の値です．  \n",
    "- numが0の場合：0です．\n",
    "- numが負の値の場合：負の値です．"
   ]
  },
  {
   "attachments": {},
   "cell_type": "markdown",
   "metadata": {},
   "source": [
    "### 24. 論理演算子を使って複数条件の指定  \n",
    "以下の条件分岐に対応する実装を行ってください．  \n",
    "- aは整数  \n",
    "- aが0以上10未満かつ偶数：一桁の偶数です  \n",
    "- aが0未満かつ奇数：負の奇数です  \n",
    "- それ以外：整数です"
   ]
  },
  {
   "attachments": {},
   "cell_type": "markdown",
   "metadata": {},
   "source": [
    "## 制御構文(for文)"
   ]
  },
  {
   "attachments": {},
   "cell_type": "markdown",
   "metadata": {},
   "source": [
    "### 25. リストの要素を表示  \n",
    "下記のリストの要素を先頭から出力しましょう．  \n",
    "  \n",
    "names = ['John', 'Kevin', 'Louis']"
   ]
  },
  {
   "attachments": {},
   "cell_type": "markdown",
   "metadata": {},
   "source": [
    "### 26. range関数  \n",
    "range関数を用いて0~9を出力しましょう．"
   ]
  },
  {
   "attachments": {},
   "cell_type": "markdown",
   "metadata": {},
   "source": [
    "### 27. 強制終了  \n",
    "26問目の処理に追加でi=6の時「終了！」と出力して  \n",
    "ループを抜け出すように実装しましょう．"
   ]
  },
  {
   "attachments": {},
   "cell_type": "markdown",
   "metadata": {},
   "source": [
    "### 28. ループの途中で特定の処理を実行  \n",
    "26問目の処理に追加でi=3の時のみ出力結果が出ないように  \n",
    "実装してみましょう．"
   ]
  },
  {
   "attachments": {},
   "cell_type": "markdown",
   "metadata": {},
   "source": [
    "### 29. 複数のリストを同時に処理  \n",
    "下記2つのリストを用意し，それぞれのリストから性名を同時に出力しましょう．  \n",
    "- lasts=['加藤', '佐藤'，'田中']  \n",
    "- firsts=['雄一', '卓也', '太郎']"
   ]
  },
  {
   "attachments": {},
   "cell_type": "markdown",
   "metadata": {},
   "source": [
    "### 30.要素と同時にインデックス情報の取得  \n",
    "下記リストを用意し，要素とそのインデックスを取得した上で  \n",
    "「xx番のyyです．」と出力しましょう．  \n",
    "  \n",
    "例：0晩の加藤です．  \n",
    "lasts=['加藤', '佐藤', '田中']"
   ]
  },
  {
   "attachments": {},
   "cell_type": "markdown",
   "metadata": {},
   "source": [
    "### 31. 内包表記  \n",
    "以下の2つのパターンで0から9未満の2の倍数が入ったリスト  \n",
    "[0, 2, 4, 6, 8]を作成しましょう．  \n",
    "  \n",
    "- 空のリストnumsを予め用意しforループ内で.append()関数を用いて要素を追加する  \n",
    "- 1行で同様のリストnumbersを作成する"
   ]
  },
  {
   "attachments": {},
   "cell_type": "markdown",
   "metadata": {},
   "source": [
    "## 例外処理"
   ]
  },
  {
   "attachments": {},
   "cell_type": "markdown",
   "metadata": {},
   "source": [
    "### 32. 0で割ったときの例外処理  \n",
    "- 10をnumで割った時の結果を出力しましょう  \n",
    "- 0で割った(割れない)場合に「エラー」を出力しましょう"
   ]
  },
  {
   "attachments": {},
   "cell_type": "markdown",
   "metadata": {},
   "source": [
    "### 33. 具体的なエラー内容の出力  \n",
    "- 10をある数字numで割った時の結果を出力しましょう  \n",
    "- エラーがZeroDivisionErrorだった場合に，エラー内容を出力しましょう"
   ]
  },
  {
   "attachments": {},
   "cell_type": "markdown",
   "metadata": {},
   "source": [
    "### 34. エラー内容ごとの例外処理  \n",
    "次のdivide()関数では変数a,bがそれぞれ数値の場合に正常に数値計算が行われています  \n",
    "aまたはbが文字列の例外処理(TypeError)をexceptを追加して実装しましょう"
   ]
  },
  {
   "cell_type": "code",
   "execution_count": null,
   "metadata": {},
   "outputs": [],
   "source": []
  },
  {
   "attachments": {},
   "cell_type": "markdown",
   "metadata": {},
   "source": [
    "### 35. 通常終了時に行う処理  \n",
    "先ほどのdivide()関数で例外処理が発生しなかった場合に「正常に終了しました．」  \n",
    "と表示されるようにしましょう．"
   ]
  },
  {
   "attachments": {},
   "cell_type": "markdown",
   "metadata": {},
   "source": [
    "### 36. 例外も含めた終了時に行う処理  \n",
    "先ほどのdivide()関数で例外処理発生の有無に限らず「すべての処理が終了しました．」  \n",
    "と表示されるようにしましょう．"
   ]
  },
  {
   "attachments": {},
   "cell_type": "markdown",
   "metadata": {},
   "source": [
    "### 37. 例外をスルー  \n",
    "こちらのdivide()関数でTypeErrorの例外処理が発生した場合，  \n",
    "何も処理を行わずにスルーしましょう．"
   ]
  },
  {
   "cell_type": "code",
   "execution_count": null,
   "metadata": {},
   "outputs": [],
   "source": []
  },
  {
   "attachments": {},
   "cell_type": "markdown",
   "metadata": {},
   "source": [
    "## クラス"
   ]
  },
  {
   "attachments": {},
   "cell_type": "markdown",
   "metadata": {},
   "source": [
    "### 38.classの基礎  \n",
    "Personクラスを用意し，クラス変数としてnationality: 'japan'，クラスメソッドとして  \n",
    "say_hello()を実装しましょう．  \n",
    "say_hello()メソッドでは「こんにちは，私の国籍は〇〇です．」  \n",
    "と出力するようにしましょう．なお〇〇には国籍名(nationality)が入ります．"
   ]
  },
  {
   "attachments": {},
   "cell_type": "markdown",
   "metadata": {},
   "source": [
    "### 39. コントラスタの設定  \n",
    "先ほどのPersonクラスにコントラスタ(インスタンス生成時に呼び出される関数)を使って，  \n",
    "引数に名前を設定してnameというインスタンス変数を持たせましょう．  \n",
    "またsay_my_name()という自分の名前を出力するクラスメソッドを実装しましょう．"
   ]
  },
  {
   "cell_type": "code",
   "execution_count": null,
   "metadata": {},
   "outputs": [],
   "source": []
  },
  {
   "attachments": {},
   "cell_type": "markdown",
   "metadata": {},
   "source": [
    "### 40. クラスの継承  \n",
    "先ほどのPersonクラスを継承したKidクラスを作成しましょう．  \n",
    "その際に自分の年齢を出力するようにクラスメソッドsay_hello(age)(年齢を引数)を  \n",
    "変更しましょう．"
   ]
  },
  {
   "cell_type": "code",
   "execution_count": null,
   "metadata": {},
   "outputs": [],
   "source": []
  },
  {
   "attachments": {},
   "cell_type": "markdown",
   "metadata": {},
   "source": [
    "### 41. privateとpublic  \n",
    "先ほどのPersonクラス内の変数nationalituyを外部から呼び出せないprivateな変数に，  \n",
    "メソッドsay_my_name()も外部から呼び出せないprivateなメソッドに変更しましょう．"
   ]
  },
  {
   "attachments": {},
   "cell_type": "markdown",
   "metadata": {},
   "source": [
    "### 42. ファイル操作の基本  \n",
    "テキストファイルを用意し，テキストファイルからテキストデータを取得して  \n",
    "出力しましょう．  \n",
    "※read()，close()メソッドを使用する方法"
   ]
  },
  {
   "attachments": {},
   "cell_type": "markdown",
   "metadata": {},
   "source": [
    "### 43. with構文  \n",
    "先ほどのテキストデータを取得する処理をwith構文を使って実装しましょう．"
   ]
  },
  {
   "attachments": {},
   "cell_type": "markdown",
   "metadata": {},
   "source": [
    "### 44. jsonモジュール  \n",
    "jsonモジュールを使って以下のjsonファイルを読み込みましょう"
   ]
  },
  {
   "cell_type": "code",
   "execution_count": null,
   "metadata": {},
   "outputs": [],
   "source": []
  },
  {
   "attachments": {},
   "cell_type": "markdown",
   "metadata": {},
   "source": [
    "### 45. 全ファイルの情報取得  \n",
    "カレントディレクトリ内のすべてのファイル情報を取得しましょう"
   ]
  },
  {
   "attachments": {},
   "cell_type": "markdown",
   "metadata": {},
   "source": [
    "### 46. ファイル情報の取得  \n",
    "カレントディレクトリ内のファイル情報を取得しましょう"
   ]
  },
  {
   "attachments": {},
   "cell_type": "markdown",
   "metadata": {},
   "source": [
    "### 47. 絶対パスを含んだファイル名の取得  \n",
    "45問目で取得したファイルの絶対パスを出力しましょう"
   ]
  },
  {
   "attachments": {},
   "cell_type": "markdown",
   "metadata": {},
   "source": [
    "### 48. ファイル名の取得  \n",
    "45問目で取得したファイルのファイル名のみを出力しましょう"
   ]
  },
  {
   "attachments": {},
   "cell_type": "markdown",
   "metadata": {},
   "source": [
    "### 49. ファイル・ディレクトリの存在確認  \n",
    "カレントディレクトリ内にxyzディレクトリが存在するか確認してみましょう  \n",
    "また，47問目で出力したファイルが存在するか確認してみましょう．"
   ]
  },
  {
   "attachments": {},
   "cell_type": "markdown",
   "metadata": {},
   "source": [
    "### 50. ディレクトリの存在確認  \n",
    "別の方法で，49問目で確認したディレクトリの存在を確認してみましょう"
   ]
  },
  {
   "attachments": {},
   "cell_type": "markdown",
   "metadata": {},
   "source": [
    "### 51. ファイルの存在確認  \n",
    "問題49で確認したファイルを別の方法で確認してみましょう"
   ]
  },
  {
   "attachments": {},
   "cell_type": "markdown",
   "metadata": {},
   "source": [
    "### 52. パス名の結合  \n",
    "問題45で行ったパス名をos.path.join()で結合してみましょう"
   ]
  },
  {
   "attachments": {},
   "cell_type": "markdown",
   "metadata": {},
   "source": [
    "### 53. ディレクトリの作成  \n",
    "カレントディレクトリにDSLディレクトリを作成しましょう"
   ]
  },
  {
   "attachments": {},
   "cell_type": "markdown",
   "metadata": {},
   "source": [
    "### 54. ファイルの削除  \n",
    "カレントディレクトリ内にあるsample.txtを削除しましょう  \n",
    "また，ファイルがない場合は自身で作成しましょう"
   ]
  },
  {
   "attachments": {},
   "cell_type": "markdown",
   "metadata": {},
   "source": [
    "### 55. ディレクトリの名前変更  \n",
    "カレントディレクトリにあるDSLフォルダの名前を自分の名前に変更しましょう"
   ]
  },
  {
   "attachments": {},
   "cell_type": "markdown",
   "metadata": {},
   "source": [
    "### 56. 環境変数の確認  \n",
    "環境変数であるPATHの確認を行いましょう"
   ]
  },
  {
   "attachments": {},
   "cell_type": "markdown",
   "metadata": {},
   "source": [
    "### 57. Unixコマンド  \n",
    "os.sysytem()でUnixコマンドを使ってみましょう"
   ]
  },
  {
   "cell_type": "markdown",
   "metadata": {},
   "source": []
  }
 ],
 "metadata": {
  "kernelspec": {
   "display_name": "py39_DLS",
   "language": "python",
   "name": "python3"
  },
  "language_info": {
   "codemirror_mode": {
    "name": "ipython",
    "version": 3
   },
   "file_extension": ".py",
   "mimetype": "text/x-python",
   "name": "python",
   "nbconvert_exporter": "python",
   "pygments_lexer": "ipython3",
   "version": "3.9.16"
  },
  "orig_nbformat": 4
 },
 "nbformat": 4,
 "nbformat_minor": 2
}
