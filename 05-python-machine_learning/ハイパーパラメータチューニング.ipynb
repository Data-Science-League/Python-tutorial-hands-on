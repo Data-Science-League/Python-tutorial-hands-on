{
 "cells": [
  {
   "attachments": {},
   "cell_type": "markdown",
   "metadata": {},
   "source": [
    "# 機械学習"
   ]
  },
  {
   "attachments": {},
   "cell_type": "markdown",
   "metadata": {},
   "source": [
    "## 3. ハイパーパラメータチューニング"
   ]
  },
  {
   "attachments": {},
   "cell_type": "markdown",
   "metadata": {},
   "source": [
    "ハイパーパラメータとは各アルゴリズムに付随してアルゴリズムの挙動を制御するための値です．  \n",
    "モデル学習の前に，ハイパーパラメータを調整することによって過学習の抑制や精度の向上が期待できます．"
   ]
  },
  {
   "attachments": {},
   "cell_type": "markdown",
   "metadata": {},
   "source": [
    "ここではハイパーパラメータを手動で調整する方法とグリッドサーチの二種類を順に実装していきます．"
   ]
  },
  {
   "attachments": {},
   "cell_type": "markdown",
   "metadata": {},
   "source": [
    "### 3.1 ハイパーパラメータの調整方法(手動編)"
   ]
  },
  {
   "cell_type": "code",
   "execution_count": 65,
   "metadata": {},
   "outputs": [],
   "source": [
    "import numpy as np\n",
    "import pandas as pd"
   ]
  },
  {
   "cell_type": "code",
   "execution_count": 66,
   "metadata": {},
   "outputs": [],
   "source": [
    "from sklearn.datasets import load_breast_cancer #乳がんに関するデータセット"
   ]
  },
  {
   "cell_type": "code",
   "execution_count": 67,
   "metadata": {},
   "outputs": [],
   "source": [
    "dataset = load_breast_cancer() #データセットの読み込み"
   ]
  },
  {
   "cell_type": "code",
   "execution_count": 68,
   "metadata": {},
   "outputs": [],
   "source": [
    "t = dataset.target #正解ラベル\n",
    "x = dataset.data #特徴量"
   ]
  },
  {
   "cell_type": "code",
   "execution_count": 69,
   "metadata": {},
   "outputs": [
    {
     "data": {
      "text/plain": [
       "((569,), (569, 30))"
      ]
     },
     "execution_count": 69,
     "metadata": {},
     "output_type": "execute_result"
    }
   ],
   "source": [
    "t.shape, x.shape #データの形状"
   ]
  },
  {
   "cell_type": "code",
   "execution_count": 70,
   "metadata": {},
   "outputs": [],
   "source": [
    "from sklearn.model_selection import train_test_split"
   ]
  },
  {
   "attachments": {},
   "cell_type": "markdown",
   "metadata": {},
   "source": [
    "トレーニングと評価用のデータの混ぜたtrain_valとtestで分割します"
   ]
  },
  {
   "cell_type": "code",
   "execution_count": 71,
   "metadata": {},
   "outputs": [],
   "source": [
    "x_train_val, x_test, t_train_val, t_test = train_test_split(x, t, test_size=0.2, random_state=1)"
   ]
  },
  {
   "attachments": {},
   "cell_type": "markdown",
   "metadata": {},
   "source": [
    "トレーニングと評価用データにさらに分割します"
   ]
  },
  {
   "cell_type": "code",
   "execution_count": 72,
   "metadata": {},
   "outputs": [],
   "source": [
    "x_train, x_val, t_train, t_val = train_test_split(x_train_val, t_train_val, test_size=0.3, random_state=1)"
   ]
  },
  {
   "attachments": {},
   "cell_type": "markdown",
   "metadata": {},
   "source": [
    "ここから先は以前と同様に進めます"
   ]
  },
  {
   "cell_type": "code",
   "execution_count": 73,
   "metadata": {},
   "outputs": [
    {
     "data": {
      "text/plain": [
       "((318, 30), (137, 30), (114, 30))"
      ]
     },
     "execution_count": 73,
     "metadata": {},
     "output_type": "execute_result"
    }
   ],
   "source": [
    "x_train.shape, x_val.shape, x_test.shape #データの形状"
   ]
  },
  {
   "cell_type": "code",
   "execution_count": 74,
   "metadata": {},
   "outputs": [],
   "source": [
    "from sklearn.tree import DecisionTreeClassifier"
   ]
  },
  {
   "cell_type": "code",
   "execution_count": 75,
   "metadata": {},
   "outputs": [],
   "source": [
    "dtree = DecisionTreeClassifier(random_state=0) #決定木のインスタンスを作成"
   ]
  },
  {
   "cell_type": "code",
   "execution_count": 76,
   "metadata": {},
   "outputs": [
    {
     "data": {
      "text/html": [
       "<style>#sk-container-id-9 {color: black;background-color: white;}#sk-container-id-9 pre{padding: 0;}#sk-container-id-9 div.sk-toggleable {background-color: white;}#sk-container-id-9 label.sk-toggleable__label {cursor: pointer;display: block;width: 100%;margin-bottom: 0;padding: 0.3em;box-sizing: border-box;text-align: center;}#sk-container-id-9 label.sk-toggleable__label-arrow:before {content: \"▸\";float: left;margin-right: 0.25em;color: #696969;}#sk-container-id-9 label.sk-toggleable__label-arrow:hover:before {color: black;}#sk-container-id-9 div.sk-estimator:hover label.sk-toggleable__label-arrow:before {color: black;}#sk-container-id-9 div.sk-toggleable__content {max-height: 0;max-width: 0;overflow: hidden;text-align: left;background-color: #f0f8ff;}#sk-container-id-9 div.sk-toggleable__content pre {margin: 0.2em;color: black;border-radius: 0.25em;background-color: #f0f8ff;}#sk-container-id-9 input.sk-toggleable__control:checked~div.sk-toggleable__content {max-height: 200px;max-width: 100%;overflow: auto;}#sk-container-id-9 input.sk-toggleable__control:checked~label.sk-toggleable__label-arrow:before {content: \"▾\";}#sk-container-id-9 div.sk-estimator input.sk-toggleable__control:checked~label.sk-toggleable__label {background-color: #d4ebff;}#sk-container-id-9 div.sk-label input.sk-toggleable__control:checked~label.sk-toggleable__label {background-color: #d4ebff;}#sk-container-id-9 input.sk-hidden--visually {border: 0;clip: rect(1px 1px 1px 1px);clip: rect(1px, 1px, 1px, 1px);height: 1px;margin: -1px;overflow: hidden;padding: 0;position: absolute;width: 1px;}#sk-container-id-9 div.sk-estimator {font-family: monospace;background-color: #f0f8ff;border: 1px dotted black;border-radius: 0.25em;box-sizing: border-box;margin-bottom: 0.5em;}#sk-container-id-9 div.sk-estimator:hover {background-color: #d4ebff;}#sk-container-id-9 div.sk-parallel-item::after {content: \"\";width: 100%;border-bottom: 1px solid gray;flex-grow: 1;}#sk-container-id-9 div.sk-label:hover label.sk-toggleable__label {background-color: #d4ebff;}#sk-container-id-9 div.sk-serial::before {content: \"\";position: absolute;border-left: 1px solid gray;box-sizing: border-box;top: 0;bottom: 0;left: 50%;z-index: 0;}#sk-container-id-9 div.sk-serial {display: flex;flex-direction: column;align-items: center;background-color: white;padding-right: 0.2em;padding-left: 0.2em;position: relative;}#sk-container-id-9 div.sk-item {position: relative;z-index: 1;}#sk-container-id-9 div.sk-parallel {display: flex;align-items: stretch;justify-content: center;background-color: white;position: relative;}#sk-container-id-9 div.sk-item::before, #sk-container-id-9 div.sk-parallel-item::before {content: \"\";position: absolute;border-left: 1px solid gray;box-sizing: border-box;top: 0;bottom: 0;left: 50%;z-index: -1;}#sk-container-id-9 div.sk-parallel-item {display: flex;flex-direction: column;z-index: 1;position: relative;background-color: white;}#sk-container-id-9 div.sk-parallel-item:first-child::after {align-self: flex-end;width: 50%;}#sk-container-id-9 div.sk-parallel-item:last-child::after {align-self: flex-start;width: 50%;}#sk-container-id-9 div.sk-parallel-item:only-child::after {width: 0;}#sk-container-id-9 div.sk-dashed-wrapped {border: 1px dashed gray;margin: 0 0.4em 0.5em 0.4em;box-sizing: border-box;padding-bottom: 0.4em;background-color: white;}#sk-container-id-9 div.sk-label label {font-family: monospace;font-weight: bold;display: inline-block;line-height: 1.2em;}#sk-container-id-9 div.sk-label-container {text-align: center;}#sk-container-id-9 div.sk-container {/* jupyter's `normalize.less` sets `[hidden] { display: none; }` but bootstrap.min.css set `[hidden] { display: none !important; }` so we also need the `!important` here to be able to override the default hidden behavior on the sphinx rendered scikit-learn.org. See: https://github.com/scikit-learn/scikit-learn/issues/21755 */display: inline-block !important;position: relative;}#sk-container-id-9 div.sk-text-repr-fallback {display: none;}</style><div id=\"sk-container-id-9\" class=\"sk-top-container\"><div class=\"sk-text-repr-fallback\"><pre>DecisionTreeClassifier(random_state=0)</pre><b>In a Jupyter environment, please rerun this cell to show the HTML representation or trust the notebook. <br />On GitHub, the HTML representation is unable to render, please try loading this page with nbviewer.org.</b></div><div class=\"sk-container\" hidden><div class=\"sk-item\"><div class=\"sk-estimator sk-toggleable\"><input class=\"sk-toggleable__control sk-hidden--visually\" id=\"sk-estimator-id-17\" type=\"checkbox\" checked><label for=\"sk-estimator-id-17\" class=\"sk-toggleable__label sk-toggleable__label-arrow\">DecisionTreeClassifier</label><div class=\"sk-toggleable__content\"><pre>DecisionTreeClassifier(random_state=0)</pre></div></div></div></div></div>"
      ],
      "text/plain": [
       "DecisionTreeClassifier(random_state=0)"
      ]
     },
     "execution_count": 76,
     "metadata": {},
     "output_type": "execute_result"
    }
   ],
   "source": [
    "dtree.fit(x_train, t_train)"
   ]
  },
  {
   "cell_type": "code",
   "execution_count": 77,
   "metadata": {},
   "outputs": [
    {
     "name": "stdout",
     "output_type": "stream",
     "text": [
      "training score: 1.0\n",
      "validation score: 0.927007299270073\n"
     ]
    }
   ],
   "source": [
    "print(f'training score: {dtree.score(x_train, t_train)}')\n",
    "print(f'validation score: {dtree.score(x_val, t_val)}')"
   ]
  },
  {
   "attachments": {},
   "cell_type": "markdown",
   "metadata": {},
   "source": [
    "上記のように少し過学習の傾向があります  \n",
    "したがってハイパーパラメータを手動で操作し過学習の傾向をなくします．"
   ]
  },
  {
   "cell_type": "code",
   "execution_count": 78,
   "metadata": {},
   "outputs": [],
   "source": [
    "dtree = DecisionTreeClassifier(max_depth=10,min_samples_split=30, random_state=0)"
   ]
  },
  {
   "attachments": {},
   "cell_type": "markdown",
   "metadata": {},
   "source": [
    "ここではmax_depth，min_samples_splitを調整しています．"
   ]
  },
  {
   "cell_type": "code",
   "execution_count": 79,
   "metadata": {},
   "outputs": [
    {
     "data": {
      "text/html": [
       "<style>#sk-container-id-10 {color: black;background-color: white;}#sk-container-id-10 pre{padding: 0;}#sk-container-id-10 div.sk-toggleable {background-color: white;}#sk-container-id-10 label.sk-toggleable__label {cursor: pointer;display: block;width: 100%;margin-bottom: 0;padding: 0.3em;box-sizing: border-box;text-align: center;}#sk-container-id-10 label.sk-toggleable__label-arrow:before {content: \"▸\";float: left;margin-right: 0.25em;color: #696969;}#sk-container-id-10 label.sk-toggleable__label-arrow:hover:before {color: black;}#sk-container-id-10 div.sk-estimator:hover label.sk-toggleable__label-arrow:before {color: black;}#sk-container-id-10 div.sk-toggleable__content {max-height: 0;max-width: 0;overflow: hidden;text-align: left;background-color: #f0f8ff;}#sk-container-id-10 div.sk-toggleable__content pre {margin: 0.2em;color: black;border-radius: 0.25em;background-color: #f0f8ff;}#sk-container-id-10 input.sk-toggleable__control:checked~div.sk-toggleable__content {max-height: 200px;max-width: 100%;overflow: auto;}#sk-container-id-10 input.sk-toggleable__control:checked~label.sk-toggleable__label-arrow:before {content: \"▾\";}#sk-container-id-10 div.sk-estimator input.sk-toggleable__control:checked~label.sk-toggleable__label {background-color: #d4ebff;}#sk-container-id-10 div.sk-label input.sk-toggleable__control:checked~label.sk-toggleable__label {background-color: #d4ebff;}#sk-container-id-10 input.sk-hidden--visually {border: 0;clip: rect(1px 1px 1px 1px);clip: rect(1px, 1px, 1px, 1px);height: 1px;margin: -1px;overflow: hidden;padding: 0;position: absolute;width: 1px;}#sk-container-id-10 div.sk-estimator {font-family: monospace;background-color: #f0f8ff;border: 1px dotted black;border-radius: 0.25em;box-sizing: border-box;margin-bottom: 0.5em;}#sk-container-id-10 div.sk-estimator:hover {background-color: #d4ebff;}#sk-container-id-10 div.sk-parallel-item::after {content: \"\";width: 100%;border-bottom: 1px solid gray;flex-grow: 1;}#sk-container-id-10 div.sk-label:hover label.sk-toggleable__label {background-color: #d4ebff;}#sk-container-id-10 div.sk-serial::before {content: \"\";position: absolute;border-left: 1px solid gray;box-sizing: border-box;top: 0;bottom: 0;left: 50%;z-index: 0;}#sk-container-id-10 div.sk-serial {display: flex;flex-direction: column;align-items: center;background-color: white;padding-right: 0.2em;padding-left: 0.2em;position: relative;}#sk-container-id-10 div.sk-item {position: relative;z-index: 1;}#sk-container-id-10 div.sk-parallel {display: flex;align-items: stretch;justify-content: center;background-color: white;position: relative;}#sk-container-id-10 div.sk-item::before, #sk-container-id-10 div.sk-parallel-item::before {content: \"\";position: absolute;border-left: 1px solid gray;box-sizing: border-box;top: 0;bottom: 0;left: 50%;z-index: -1;}#sk-container-id-10 div.sk-parallel-item {display: flex;flex-direction: column;z-index: 1;position: relative;background-color: white;}#sk-container-id-10 div.sk-parallel-item:first-child::after {align-self: flex-end;width: 50%;}#sk-container-id-10 div.sk-parallel-item:last-child::after {align-self: flex-start;width: 50%;}#sk-container-id-10 div.sk-parallel-item:only-child::after {width: 0;}#sk-container-id-10 div.sk-dashed-wrapped {border: 1px dashed gray;margin: 0 0.4em 0.5em 0.4em;box-sizing: border-box;padding-bottom: 0.4em;background-color: white;}#sk-container-id-10 div.sk-label label {font-family: monospace;font-weight: bold;display: inline-block;line-height: 1.2em;}#sk-container-id-10 div.sk-label-container {text-align: center;}#sk-container-id-10 div.sk-container {/* jupyter's `normalize.less` sets `[hidden] { display: none; }` but bootstrap.min.css set `[hidden] { display: none !important; }` so we also need the `!important` here to be able to override the default hidden behavior on the sphinx rendered scikit-learn.org. See: https://github.com/scikit-learn/scikit-learn/issues/21755 */display: inline-block !important;position: relative;}#sk-container-id-10 div.sk-text-repr-fallback {display: none;}</style><div id=\"sk-container-id-10\" class=\"sk-top-container\"><div class=\"sk-text-repr-fallback\"><pre>DecisionTreeClassifier(max_depth=10, min_samples_split=30, random_state=0)</pre><b>In a Jupyter environment, please rerun this cell to show the HTML representation or trust the notebook. <br />On GitHub, the HTML representation is unable to render, please try loading this page with nbviewer.org.</b></div><div class=\"sk-container\" hidden><div class=\"sk-item\"><div class=\"sk-estimator sk-toggleable\"><input class=\"sk-toggleable__control sk-hidden--visually\" id=\"sk-estimator-id-18\" type=\"checkbox\" checked><label for=\"sk-estimator-id-18\" class=\"sk-toggleable__label sk-toggleable__label-arrow\">DecisionTreeClassifier</label><div class=\"sk-toggleable__content\"><pre>DecisionTreeClassifier(max_depth=10, min_samples_split=30, random_state=0)</pre></div></div></div></div></div>"
      ],
      "text/plain": [
       "DecisionTreeClassifier(max_depth=10, min_samples_split=30, random_state=0)"
      ]
     },
     "execution_count": 79,
     "metadata": {},
     "output_type": "execute_result"
    }
   ],
   "source": [
    "dtree.fit(x_train, t_train)"
   ]
  },
  {
   "cell_type": "code",
   "execution_count": 80,
   "metadata": {},
   "outputs": [
    {
     "name": "stdout",
     "output_type": "stream",
     "text": [
      "training score: 0.9308176100628931\n",
      "validation score: 0.9562043795620438\n"
     ]
    }
   ],
   "source": [
    "print(f'training score: {dtree.score(x_train, t_train)}')\n",
    "print(f'validation score: {dtree.score(x_val, t_val)}')"
   ]
  },
  {
   "cell_type": "code",
   "execution_count": 81,
   "metadata": {},
   "outputs": [
    {
     "name": "stdout",
     "output_type": "stream",
     "text": [
      "test score: 0.9298245614035088\n"
     ]
    }
   ],
   "source": [
    "print(f'test score: {dtree.score(x_test, t_test)}')"
   ]
  },
  {
   "attachments": {},
   "cell_type": "markdown",
   "metadata": {},
   "source": [
    "このように手動で導いたハイパーパラメータは必ずしも最適とは言えません．  \n",
    "これから手動ではなく，効率的に最適なハイパーパラメータを求めたいと思います．"
   ]
  },
  {
   "attachments": {},
   "cell_type": "markdown",
   "metadata": {},
   "source": [
    "ハイパーパラメータの調整方法(グリッドサーチ)"
   ]
  },
  {
   "attachments": {},
   "cell_type": "markdown",
   "metadata": {},
   "source": [
    "メリット  \n",
    "- 指定された範囲を網羅するため，ある程度漏れがなくハイパーパラメータの探索ができます．"
   ]
  },
  {
   "attachments": {},
   "cell_type": "markdown",
   "metadata": {},
   "source": [
    "デメリット  \n",
    "- 場合によっては大量のパターンの組み合わせを計算するため，学習に時間を要します，"
   ]
  },
  {
   "cell_type": "code",
   "execution_count": 82,
   "metadata": {},
   "outputs": [],
   "source": [
    "from sklearn.model_selection import GridSearchCV #グリッドサーチを行うためのクラス"
   ]
  },
  {
   "cell_type": "code",
   "execution_count": 83,
   "metadata": {},
   "outputs": [],
   "source": [
    "estimator = DecisionTreeClassifier(random_state=0) # estimator =　学習に用いるモデル"
   ]
  },
  {
   "cell_type": "code",
   "execution_count": 84,
   "metadata": {},
   "outputs": [],
   "source": [
    "param_grid = [{\n",
    "    'max_depth': [3, 20, 50], #パラメータの値の候補\n",
    "    'min_samples_split': [3, 20, 30] #パラメータの値の候補\n",
    "}]"
   ]
  },
  {
   "cell_type": "code",
   "execution_count": 85,
   "metadata": {},
   "outputs": [],
   "source": [
    "cv = 5 #クロスバリデーションの分割数"
   ]
  },
  {
   "cell_type": "code",
   "execution_count": 86,
   "metadata": {},
   "outputs": [],
   "source": [
    "tuned_model = GridSearchCV(estimator=estimator, param_grid=param_grid, cv=cv, return_train_score=False) #グリッドサーチのインスタンスを作成"
   ]
  },
  {
   "cell_type": "code",
   "execution_count": 87,
   "metadata": {},
   "outputs": [
    {
     "data": {
      "text/html": [
       "<style>#sk-container-id-11 {color: black;background-color: white;}#sk-container-id-11 pre{padding: 0;}#sk-container-id-11 div.sk-toggleable {background-color: white;}#sk-container-id-11 label.sk-toggleable__label {cursor: pointer;display: block;width: 100%;margin-bottom: 0;padding: 0.3em;box-sizing: border-box;text-align: center;}#sk-container-id-11 label.sk-toggleable__label-arrow:before {content: \"▸\";float: left;margin-right: 0.25em;color: #696969;}#sk-container-id-11 label.sk-toggleable__label-arrow:hover:before {color: black;}#sk-container-id-11 div.sk-estimator:hover label.sk-toggleable__label-arrow:before {color: black;}#sk-container-id-11 div.sk-toggleable__content {max-height: 0;max-width: 0;overflow: hidden;text-align: left;background-color: #f0f8ff;}#sk-container-id-11 div.sk-toggleable__content pre {margin: 0.2em;color: black;border-radius: 0.25em;background-color: #f0f8ff;}#sk-container-id-11 input.sk-toggleable__control:checked~div.sk-toggleable__content {max-height: 200px;max-width: 100%;overflow: auto;}#sk-container-id-11 input.sk-toggleable__control:checked~label.sk-toggleable__label-arrow:before {content: \"▾\";}#sk-container-id-11 div.sk-estimator input.sk-toggleable__control:checked~label.sk-toggleable__label {background-color: #d4ebff;}#sk-container-id-11 div.sk-label input.sk-toggleable__control:checked~label.sk-toggleable__label {background-color: #d4ebff;}#sk-container-id-11 input.sk-hidden--visually {border: 0;clip: rect(1px 1px 1px 1px);clip: rect(1px, 1px, 1px, 1px);height: 1px;margin: -1px;overflow: hidden;padding: 0;position: absolute;width: 1px;}#sk-container-id-11 div.sk-estimator {font-family: monospace;background-color: #f0f8ff;border: 1px dotted black;border-radius: 0.25em;box-sizing: border-box;margin-bottom: 0.5em;}#sk-container-id-11 div.sk-estimator:hover {background-color: #d4ebff;}#sk-container-id-11 div.sk-parallel-item::after {content: \"\";width: 100%;border-bottom: 1px solid gray;flex-grow: 1;}#sk-container-id-11 div.sk-label:hover label.sk-toggleable__label {background-color: #d4ebff;}#sk-container-id-11 div.sk-serial::before {content: \"\";position: absolute;border-left: 1px solid gray;box-sizing: border-box;top: 0;bottom: 0;left: 50%;z-index: 0;}#sk-container-id-11 div.sk-serial {display: flex;flex-direction: column;align-items: center;background-color: white;padding-right: 0.2em;padding-left: 0.2em;position: relative;}#sk-container-id-11 div.sk-item {position: relative;z-index: 1;}#sk-container-id-11 div.sk-parallel {display: flex;align-items: stretch;justify-content: center;background-color: white;position: relative;}#sk-container-id-11 div.sk-item::before, #sk-container-id-11 div.sk-parallel-item::before {content: \"\";position: absolute;border-left: 1px solid gray;box-sizing: border-box;top: 0;bottom: 0;left: 50%;z-index: -1;}#sk-container-id-11 div.sk-parallel-item {display: flex;flex-direction: column;z-index: 1;position: relative;background-color: white;}#sk-container-id-11 div.sk-parallel-item:first-child::after {align-self: flex-end;width: 50%;}#sk-container-id-11 div.sk-parallel-item:last-child::after {align-self: flex-start;width: 50%;}#sk-container-id-11 div.sk-parallel-item:only-child::after {width: 0;}#sk-container-id-11 div.sk-dashed-wrapped {border: 1px dashed gray;margin: 0 0.4em 0.5em 0.4em;box-sizing: border-box;padding-bottom: 0.4em;background-color: white;}#sk-container-id-11 div.sk-label label {font-family: monospace;font-weight: bold;display: inline-block;line-height: 1.2em;}#sk-container-id-11 div.sk-label-container {text-align: center;}#sk-container-id-11 div.sk-container {/* jupyter's `normalize.less` sets `[hidden] { display: none; }` but bootstrap.min.css set `[hidden] { display: none !important; }` so we also need the `!important` here to be able to override the default hidden behavior on the sphinx rendered scikit-learn.org. See: https://github.com/scikit-learn/scikit-learn/issues/21755 */display: inline-block !important;position: relative;}#sk-container-id-11 div.sk-text-repr-fallback {display: none;}</style><div id=\"sk-container-id-11\" class=\"sk-top-container\"><div class=\"sk-text-repr-fallback\"><pre>GridSearchCV(cv=5, estimator=DecisionTreeClassifier(random_state=0),\n",
       "             param_grid=[{&#x27;max_depth&#x27;: [3, 20, 50],\n",
       "                          &#x27;min_samples_split&#x27;: [3, 20, 30]}])</pre><b>In a Jupyter environment, please rerun this cell to show the HTML representation or trust the notebook. <br />On GitHub, the HTML representation is unable to render, please try loading this page with nbviewer.org.</b></div><div class=\"sk-container\" hidden><div class=\"sk-item sk-dashed-wrapped\"><div class=\"sk-label-container\"><div class=\"sk-label sk-toggleable\"><input class=\"sk-toggleable__control sk-hidden--visually\" id=\"sk-estimator-id-19\" type=\"checkbox\" ><label for=\"sk-estimator-id-19\" class=\"sk-toggleable__label sk-toggleable__label-arrow\">GridSearchCV</label><div class=\"sk-toggleable__content\"><pre>GridSearchCV(cv=5, estimator=DecisionTreeClassifier(random_state=0),\n",
       "             param_grid=[{&#x27;max_depth&#x27;: [3, 20, 50],\n",
       "                          &#x27;min_samples_split&#x27;: [3, 20, 30]}])</pre></div></div></div><div class=\"sk-parallel\"><div class=\"sk-parallel-item\"><div class=\"sk-item\"><div class=\"sk-label-container\"><div class=\"sk-label sk-toggleable\"><input class=\"sk-toggleable__control sk-hidden--visually\" id=\"sk-estimator-id-20\" type=\"checkbox\" ><label for=\"sk-estimator-id-20\" class=\"sk-toggleable__label sk-toggleable__label-arrow\">estimator: DecisionTreeClassifier</label><div class=\"sk-toggleable__content\"><pre>DecisionTreeClassifier(random_state=0)</pre></div></div></div><div class=\"sk-serial\"><div class=\"sk-item\"><div class=\"sk-estimator sk-toggleable\"><input class=\"sk-toggleable__control sk-hidden--visually\" id=\"sk-estimator-id-21\" type=\"checkbox\" ><label for=\"sk-estimator-id-21\" class=\"sk-toggleable__label sk-toggleable__label-arrow\">DecisionTreeClassifier</label><div class=\"sk-toggleable__content\"><pre>DecisionTreeClassifier(random_state=0)</pre></div></div></div></div></div></div></div></div></div></div>"
      ],
      "text/plain": [
       "GridSearchCV(cv=5, estimator=DecisionTreeClassifier(random_state=0),\n",
       "             param_grid=[{'max_depth': [3, 20, 50],\n",
       "                          'min_samples_split': [3, 20, 30]}])"
      ]
     },
     "execution_count": 87,
     "metadata": {},
     "output_type": "execute_result"
    }
   ],
   "source": [
    "tuned_model.fit(x_train_val, t_train_val) #グリッドサーチの実行"
   ]
  },
  {
   "cell_type": "code",
   "execution_count": 88,
   "metadata": {},
   "outputs": [
    {
     "data": {
      "text/html": [
       "<div>\n",
       "<style scoped>\n",
       "    .dataframe tbody tr th:only-of-type {\n",
       "        vertical-align: middle;\n",
       "    }\n",
       "\n",
       "    .dataframe tbody tr th {\n",
       "        vertical-align: top;\n",
       "    }\n",
       "\n",
       "    .dataframe thead th {\n",
       "        text-align: right;\n",
       "    }\n",
       "</style>\n",
       "<table border=\"1\" class=\"dataframe\">\n",
       "  <thead>\n",
       "    <tr style=\"text-align: right;\">\n",
       "      <th></th>\n",
       "      <th>0</th>\n",
       "      <th>1</th>\n",
       "      <th>2</th>\n",
       "      <th>3</th>\n",
       "      <th>4</th>\n",
       "      <th>5</th>\n",
       "      <th>6</th>\n",
       "      <th>7</th>\n",
       "      <th>8</th>\n",
       "    </tr>\n",
       "  </thead>\n",
       "  <tbody>\n",
       "    <tr>\n",
       "      <th>mean_fit_time</th>\n",
       "      <td>0.004916</td>\n",
       "      <td>0.003806</td>\n",
       "      <td>0.004196</td>\n",
       "      <td>0.00553</td>\n",
       "      <td>0.004052</td>\n",
       "      <td>0.007857</td>\n",
       "      <td>0.006539</td>\n",
       "      <td>0.00694</td>\n",
       "      <td>0.004746</td>\n",
       "    </tr>\n",
       "    <tr>\n",
       "      <th>std_fit_time</th>\n",
       "      <td>0.001851</td>\n",
       "      <td>0.002802</td>\n",
       "      <td>0.002559</td>\n",
       "      <td>0.002411</td>\n",
       "      <td>0.003611</td>\n",
       "      <td>0.001282</td>\n",
       "      <td>0.003541</td>\n",
       "      <td>0.004064</td>\n",
       "      <td>0.004057</td>\n",
       "    </tr>\n",
       "    <tr>\n",
       "      <th>mean_score_time</th>\n",
       "      <td>0.001357</td>\n",
       "      <td>0.001611</td>\n",
       "      <td>0.001616</td>\n",
       "      <td>0.000112</td>\n",
       "      <td>0.000417</td>\n",
       "      <td>0.000111</td>\n",
       "      <td>0.0</td>\n",
       "      <td>0.000823</td>\n",
       "      <td>0.001629</td>\n",
       "    </tr>\n",
       "    <tr>\n",
       "      <th>std_score_time</th>\n",
       "      <td>0.001733</td>\n",
       "      <td>0.003221</td>\n",
       "      <td>0.003232</td>\n",
       "      <td>0.000224</td>\n",
       "      <td>0.000833</td>\n",
       "      <td>0.000221</td>\n",
       "      <td>0.0</td>\n",
       "      <td>0.001158</td>\n",
       "      <td>0.003257</td>\n",
       "    </tr>\n",
       "    <tr>\n",
       "      <th>param_max_depth</th>\n",
       "      <td>3</td>\n",
       "      <td>3</td>\n",
       "      <td>3</td>\n",
       "      <td>20</td>\n",
       "      <td>20</td>\n",
       "      <td>20</td>\n",
       "      <td>50</td>\n",
       "      <td>50</td>\n",
       "      <td>50</td>\n",
       "    </tr>\n",
       "    <tr>\n",
       "      <th>param_min_samples_split</th>\n",
       "      <td>3</td>\n",
       "      <td>20</td>\n",
       "      <td>30</td>\n",
       "      <td>3</td>\n",
       "      <td>20</td>\n",
       "      <td>30</td>\n",
       "      <td>3</td>\n",
       "      <td>20</td>\n",
       "      <td>30</td>\n",
       "    </tr>\n",
       "    <tr>\n",
       "      <th>params</th>\n",
       "      <td>{'max_depth': 3, 'min_samples_split': 3}</td>\n",
       "      <td>{'max_depth': 3, 'min_samples_split': 20}</td>\n",
       "      <td>{'max_depth': 3, 'min_samples_split': 30}</td>\n",
       "      <td>{'max_depth': 20, 'min_samples_split': 3}</td>\n",
       "      <td>{'max_depth': 20, 'min_samples_split': 20}</td>\n",
       "      <td>{'max_depth': 20, 'min_samples_split': 30}</td>\n",
       "      <td>{'max_depth': 50, 'min_samples_split': 3}</td>\n",
       "      <td>{'max_depth': 50, 'min_samples_split': 20}</td>\n",
       "      <td>{'max_depth': 50, 'min_samples_split': 30}</td>\n",
       "    </tr>\n",
       "    <tr>\n",
       "      <th>split0_test_score</th>\n",
       "      <td>0.923077</td>\n",
       "      <td>0.912088</td>\n",
       "      <td>0.912088</td>\n",
       "      <td>0.956044</td>\n",
       "      <td>0.912088</td>\n",
       "      <td>0.912088</td>\n",
       "      <td>0.956044</td>\n",
       "      <td>0.912088</td>\n",
       "      <td>0.912088</td>\n",
       "    </tr>\n",
       "    <tr>\n",
       "      <th>split1_test_score</th>\n",
       "      <td>0.901099</td>\n",
       "      <td>0.901099</td>\n",
       "      <td>0.901099</td>\n",
       "      <td>0.912088</td>\n",
       "      <td>0.901099</td>\n",
       "      <td>0.901099</td>\n",
       "      <td>0.912088</td>\n",
       "      <td>0.901099</td>\n",
       "      <td>0.901099</td>\n",
       "    </tr>\n",
       "    <tr>\n",
       "      <th>split2_test_score</th>\n",
       "      <td>0.934066</td>\n",
       "      <td>0.934066</td>\n",
       "      <td>0.934066</td>\n",
       "      <td>0.923077</td>\n",
       "      <td>0.934066</td>\n",
       "      <td>0.934066</td>\n",
       "      <td>0.923077</td>\n",
       "      <td>0.934066</td>\n",
       "      <td>0.934066</td>\n",
       "    </tr>\n",
       "    <tr>\n",
       "      <th>split3_test_score</th>\n",
       "      <td>0.945055</td>\n",
       "      <td>0.934066</td>\n",
       "      <td>0.934066</td>\n",
       "      <td>0.967033</td>\n",
       "      <td>0.945055</td>\n",
       "      <td>0.945055</td>\n",
       "      <td>0.967033</td>\n",
       "      <td>0.945055</td>\n",
       "      <td>0.945055</td>\n",
       "    </tr>\n",
       "    <tr>\n",
       "      <th>split4_test_score</th>\n",
       "      <td>0.901099</td>\n",
       "      <td>0.901099</td>\n",
       "      <td>0.901099</td>\n",
       "      <td>0.956044</td>\n",
       "      <td>0.934066</td>\n",
       "      <td>0.901099</td>\n",
       "      <td>0.956044</td>\n",
       "      <td>0.934066</td>\n",
       "      <td>0.901099</td>\n",
       "    </tr>\n",
       "    <tr>\n",
       "      <th>mean_test_score</th>\n",
       "      <td>0.920879</td>\n",
       "      <td>0.916484</td>\n",
       "      <td>0.916484</td>\n",
       "      <td>0.942857</td>\n",
       "      <td>0.925275</td>\n",
       "      <td>0.918681</td>\n",
       "      <td>0.942857</td>\n",
       "      <td>0.925275</td>\n",
       "      <td>0.918681</td>\n",
       "    </tr>\n",
       "    <tr>\n",
       "      <th>std_test_score</th>\n",
       "      <td>0.017582</td>\n",
       "      <td>0.014906</td>\n",
       "      <td>0.014906</td>\n",
       "      <td>0.021308</td>\n",
       "      <td>0.01615</td>\n",
       "      <td>0.017855</td>\n",
       "      <td>0.021308</td>\n",
       "      <td>0.01615</td>\n",
       "      <td>0.017855</td>\n",
       "    </tr>\n",
       "    <tr>\n",
       "      <th>rank_test_score</th>\n",
       "      <td>5</td>\n",
       "      <td>8</td>\n",
       "      <td>8</td>\n",
       "      <td>1</td>\n",
       "      <td>3</td>\n",
       "      <td>6</td>\n",
       "      <td>1</td>\n",
       "      <td>3</td>\n",
       "      <td>6</td>\n",
       "    </tr>\n",
       "  </tbody>\n",
       "</table>\n",
       "</div>"
      ],
      "text/plain": [
       "                                                                0  \\\n",
       "mean_fit_time                                            0.004916   \n",
       "std_fit_time                                             0.001851   \n",
       "mean_score_time                                          0.001357   \n",
       "std_score_time                                           0.001733   \n",
       "param_max_depth                                                 3   \n",
       "param_min_samples_split                                         3   \n",
       "params                   {'max_depth': 3, 'min_samples_split': 3}   \n",
       "split0_test_score                                        0.923077   \n",
       "split1_test_score                                        0.901099   \n",
       "split2_test_score                                        0.934066   \n",
       "split3_test_score                                        0.945055   \n",
       "split4_test_score                                        0.901099   \n",
       "mean_test_score                                          0.920879   \n",
       "std_test_score                                           0.017582   \n",
       "rank_test_score                                                 5   \n",
       "\n",
       "                                                                 1  \\\n",
       "mean_fit_time                                             0.003806   \n",
       "std_fit_time                                              0.002802   \n",
       "mean_score_time                                           0.001611   \n",
       "std_score_time                                            0.003221   \n",
       "param_max_depth                                                  3   \n",
       "param_min_samples_split                                         20   \n",
       "params                   {'max_depth': 3, 'min_samples_split': 20}   \n",
       "split0_test_score                                         0.912088   \n",
       "split1_test_score                                         0.901099   \n",
       "split2_test_score                                         0.934066   \n",
       "split3_test_score                                         0.934066   \n",
       "split4_test_score                                         0.901099   \n",
       "mean_test_score                                           0.916484   \n",
       "std_test_score                                            0.014906   \n",
       "rank_test_score                                                  8   \n",
       "\n",
       "                                                                 2  \\\n",
       "mean_fit_time                                             0.004196   \n",
       "std_fit_time                                              0.002559   \n",
       "mean_score_time                                           0.001616   \n",
       "std_score_time                                            0.003232   \n",
       "param_max_depth                                                  3   \n",
       "param_min_samples_split                                         30   \n",
       "params                   {'max_depth': 3, 'min_samples_split': 30}   \n",
       "split0_test_score                                         0.912088   \n",
       "split1_test_score                                         0.901099   \n",
       "split2_test_score                                         0.934066   \n",
       "split3_test_score                                         0.934066   \n",
       "split4_test_score                                         0.901099   \n",
       "mean_test_score                                           0.916484   \n",
       "std_test_score                                            0.014906   \n",
       "rank_test_score                                                  8   \n",
       "\n",
       "                                                                 3  \\\n",
       "mean_fit_time                                              0.00553   \n",
       "std_fit_time                                              0.002411   \n",
       "mean_score_time                                           0.000112   \n",
       "std_score_time                                            0.000224   \n",
       "param_max_depth                                                 20   \n",
       "param_min_samples_split                                          3   \n",
       "params                   {'max_depth': 20, 'min_samples_split': 3}   \n",
       "split0_test_score                                         0.956044   \n",
       "split1_test_score                                         0.912088   \n",
       "split2_test_score                                         0.923077   \n",
       "split3_test_score                                         0.967033   \n",
       "split4_test_score                                         0.956044   \n",
       "mean_test_score                                           0.942857   \n",
       "std_test_score                                            0.021308   \n",
       "rank_test_score                                                  1   \n",
       "\n",
       "                                                                  4  \\\n",
       "mean_fit_time                                              0.004052   \n",
       "std_fit_time                                               0.003611   \n",
       "mean_score_time                                            0.000417   \n",
       "std_score_time                                             0.000833   \n",
       "param_max_depth                                                  20   \n",
       "param_min_samples_split                                          20   \n",
       "params                   {'max_depth': 20, 'min_samples_split': 20}   \n",
       "split0_test_score                                          0.912088   \n",
       "split1_test_score                                          0.901099   \n",
       "split2_test_score                                          0.934066   \n",
       "split3_test_score                                          0.945055   \n",
       "split4_test_score                                          0.934066   \n",
       "mean_test_score                                            0.925275   \n",
       "std_test_score                                              0.01615   \n",
       "rank_test_score                                                   3   \n",
       "\n",
       "                                                                  5  \\\n",
       "mean_fit_time                                              0.007857   \n",
       "std_fit_time                                               0.001282   \n",
       "mean_score_time                                            0.000111   \n",
       "std_score_time                                             0.000221   \n",
       "param_max_depth                                                  20   \n",
       "param_min_samples_split                                          30   \n",
       "params                   {'max_depth': 20, 'min_samples_split': 30}   \n",
       "split0_test_score                                          0.912088   \n",
       "split1_test_score                                          0.901099   \n",
       "split2_test_score                                          0.934066   \n",
       "split3_test_score                                          0.945055   \n",
       "split4_test_score                                          0.901099   \n",
       "mean_test_score                                            0.918681   \n",
       "std_test_score                                             0.017855   \n",
       "rank_test_score                                                   6   \n",
       "\n",
       "                                                                 6  \\\n",
       "mean_fit_time                                             0.006539   \n",
       "std_fit_time                                              0.003541   \n",
       "mean_score_time                                                0.0   \n",
       "std_score_time                                                 0.0   \n",
       "param_max_depth                                                 50   \n",
       "param_min_samples_split                                          3   \n",
       "params                   {'max_depth': 50, 'min_samples_split': 3}   \n",
       "split0_test_score                                         0.956044   \n",
       "split1_test_score                                         0.912088   \n",
       "split2_test_score                                         0.923077   \n",
       "split3_test_score                                         0.967033   \n",
       "split4_test_score                                         0.956044   \n",
       "mean_test_score                                           0.942857   \n",
       "std_test_score                                            0.021308   \n",
       "rank_test_score                                                  1   \n",
       "\n",
       "                                                                  7  \\\n",
       "mean_fit_time                                               0.00694   \n",
       "std_fit_time                                               0.004064   \n",
       "mean_score_time                                            0.000823   \n",
       "std_score_time                                             0.001158   \n",
       "param_max_depth                                                  50   \n",
       "param_min_samples_split                                          20   \n",
       "params                   {'max_depth': 50, 'min_samples_split': 20}   \n",
       "split0_test_score                                          0.912088   \n",
       "split1_test_score                                          0.901099   \n",
       "split2_test_score                                          0.934066   \n",
       "split3_test_score                                          0.945055   \n",
       "split4_test_score                                          0.934066   \n",
       "mean_test_score                                            0.925275   \n",
       "std_test_score                                              0.01615   \n",
       "rank_test_score                                                   3   \n",
       "\n",
       "                                                                  8  \n",
       "mean_fit_time                                              0.004746  \n",
       "std_fit_time                                               0.004057  \n",
       "mean_score_time                                            0.001629  \n",
       "std_score_time                                             0.003257  \n",
       "param_max_depth                                                  50  \n",
       "param_min_samples_split                                          30  \n",
       "params                   {'max_depth': 50, 'min_samples_split': 30}  \n",
       "split0_test_score                                          0.912088  \n",
       "split1_test_score                                          0.901099  \n",
       "split2_test_score                                          0.934066  \n",
       "split3_test_score                                          0.945055  \n",
       "split4_test_score                                          0.901099  \n",
       "mean_test_score                                            0.918681  \n",
       "std_test_score                                             0.017855  \n",
       "rank_test_score                                                   6  "
      ]
     },
     "execution_count": 88,
     "metadata": {},
     "output_type": "execute_result"
    }
   ],
   "source": [
    "pd.DataFrame(tuned_model.cv_results_).T"
   ]
  },
  {
   "attachments": {},
   "cell_type": "markdown",
   "metadata": {},
   "source": [
    "上記の表のうち，mean_test_scoreに注目して，最も評価がよいものを確認します．  \n",
    "今回はmax_depth:20，max_samples_split3の時を採用します．"
   ]
  },
  {
   "cell_type": "code",
   "execution_count": 89,
   "metadata": {},
   "outputs": [],
   "source": [
    "param_grid = [{\n",
    "    'max_depth': [5, 10, 15],\n",
    "    'min_samples_split': [10, 12, 15],\n",
    "}]"
   ]
  },
  {
   "attachments": {},
   "cell_type": "markdown",
   "metadata": {},
   "source": [
    "上記のように，高かった評価のハイパーパラメータの値の前後を見ていきます"
   ]
  },
  {
   "cell_type": "code",
   "execution_count": 90,
   "metadata": {},
   "outputs": [],
   "source": [
    "cv = 5"
   ]
  },
  {
   "cell_type": "code",
   "execution_count": 91,
   "metadata": {},
   "outputs": [],
   "source": [
    "tuned_model = GridSearchCV(estimator=estimator, param_grid=param_grid, cv=cv, return_train_score=False)"
   ]
  },
  {
   "cell_type": "code",
   "execution_count": 92,
   "metadata": {},
   "outputs": [
    {
     "data": {
      "text/html": [
       "<style>#sk-container-id-12 {color: black;background-color: white;}#sk-container-id-12 pre{padding: 0;}#sk-container-id-12 div.sk-toggleable {background-color: white;}#sk-container-id-12 label.sk-toggleable__label {cursor: pointer;display: block;width: 100%;margin-bottom: 0;padding: 0.3em;box-sizing: border-box;text-align: center;}#sk-container-id-12 label.sk-toggleable__label-arrow:before {content: \"▸\";float: left;margin-right: 0.25em;color: #696969;}#sk-container-id-12 label.sk-toggleable__label-arrow:hover:before {color: black;}#sk-container-id-12 div.sk-estimator:hover label.sk-toggleable__label-arrow:before {color: black;}#sk-container-id-12 div.sk-toggleable__content {max-height: 0;max-width: 0;overflow: hidden;text-align: left;background-color: #f0f8ff;}#sk-container-id-12 div.sk-toggleable__content pre {margin: 0.2em;color: black;border-radius: 0.25em;background-color: #f0f8ff;}#sk-container-id-12 input.sk-toggleable__control:checked~div.sk-toggleable__content {max-height: 200px;max-width: 100%;overflow: auto;}#sk-container-id-12 input.sk-toggleable__control:checked~label.sk-toggleable__label-arrow:before {content: \"▾\";}#sk-container-id-12 div.sk-estimator input.sk-toggleable__control:checked~label.sk-toggleable__label {background-color: #d4ebff;}#sk-container-id-12 div.sk-label input.sk-toggleable__control:checked~label.sk-toggleable__label {background-color: #d4ebff;}#sk-container-id-12 input.sk-hidden--visually {border: 0;clip: rect(1px 1px 1px 1px);clip: rect(1px, 1px, 1px, 1px);height: 1px;margin: -1px;overflow: hidden;padding: 0;position: absolute;width: 1px;}#sk-container-id-12 div.sk-estimator {font-family: monospace;background-color: #f0f8ff;border: 1px dotted black;border-radius: 0.25em;box-sizing: border-box;margin-bottom: 0.5em;}#sk-container-id-12 div.sk-estimator:hover {background-color: #d4ebff;}#sk-container-id-12 div.sk-parallel-item::after {content: \"\";width: 100%;border-bottom: 1px solid gray;flex-grow: 1;}#sk-container-id-12 div.sk-label:hover label.sk-toggleable__label {background-color: #d4ebff;}#sk-container-id-12 div.sk-serial::before {content: \"\";position: absolute;border-left: 1px solid gray;box-sizing: border-box;top: 0;bottom: 0;left: 50%;z-index: 0;}#sk-container-id-12 div.sk-serial {display: flex;flex-direction: column;align-items: center;background-color: white;padding-right: 0.2em;padding-left: 0.2em;position: relative;}#sk-container-id-12 div.sk-item {position: relative;z-index: 1;}#sk-container-id-12 div.sk-parallel {display: flex;align-items: stretch;justify-content: center;background-color: white;position: relative;}#sk-container-id-12 div.sk-item::before, #sk-container-id-12 div.sk-parallel-item::before {content: \"\";position: absolute;border-left: 1px solid gray;box-sizing: border-box;top: 0;bottom: 0;left: 50%;z-index: -1;}#sk-container-id-12 div.sk-parallel-item {display: flex;flex-direction: column;z-index: 1;position: relative;background-color: white;}#sk-container-id-12 div.sk-parallel-item:first-child::after {align-self: flex-end;width: 50%;}#sk-container-id-12 div.sk-parallel-item:last-child::after {align-self: flex-start;width: 50%;}#sk-container-id-12 div.sk-parallel-item:only-child::after {width: 0;}#sk-container-id-12 div.sk-dashed-wrapped {border: 1px dashed gray;margin: 0 0.4em 0.5em 0.4em;box-sizing: border-box;padding-bottom: 0.4em;background-color: white;}#sk-container-id-12 div.sk-label label {font-family: monospace;font-weight: bold;display: inline-block;line-height: 1.2em;}#sk-container-id-12 div.sk-label-container {text-align: center;}#sk-container-id-12 div.sk-container {/* jupyter's `normalize.less` sets `[hidden] { display: none; }` but bootstrap.min.css set `[hidden] { display: none !important; }` so we also need the `!important` here to be able to override the default hidden behavior on the sphinx rendered scikit-learn.org. See: https://github.com/scikit-learn/scikit-learn/issues/21755 */display: inline-block !important;position: relative;}#sk-container-id-12 div.sk-text-repr-fallback {display: none;}</style><div id=\"sk-container-id-12\" class=\"sk-top-container\"><div class=\"sk-text-repr-fallback\"><pre>GridSearchCV(cv=5, estimator=DecisionTreeClassifier(random_state=0),\n",
       "             param_grid=[{&#x27;max_depth&#x27;: [5, 10, 15],\n",
       "                          &#x27;min_samples_split&#x27;: [10, 12, 15]}])</pre><b>In a Jupyter environment, please rerun this cell to show the HTML representation or trust the notebook. <br />On GitHub, the HTML representation is unable to render, please try loading this page with nbviewer.org.</b></div><div class=\"sk-container\" hidden><div class=\"sk-item sk-dashed-wrapped\"><div class=\"sk-label-container\"><div class=\"sk-label sk-toggleable\"><input class=\"sk-toggleable__control sk-hidden--visually\" id=\"sk-estimator-id-22\" type=\"checkbox\" ><label for=\"sk-estimator-id-22\" class=\"sk-toggleable__label sk-toggleable__label-arrow\">GridSearchCV</label><div class=\"sk-toggleable__content\"><pre>GridSearchCV(cv=5, estimator=DecisionTreeClassifier(random_state=0),\n",
       "             param_grid=[{&#x27;max_depth&#x27;: [5, 10, 15],\n",
       "                          &#x27;min_samples_split&#x27;: [10, 12, 15]}])</pre></div></div></div><div class=\"sk-parallel\"><div class=\"sk-parallel-item\"><div class=\"sk-item\"><div class=\"sk-label-container\"><div class=\"sk-label sk-toggleable\"><input class=\"sk-toggleable__control sk-hidden--visually\" id=\"sk-estimator-id-23\" type=\"checkbox\" ><label for=\"sk-estimator-id-23\" class=\"sk-toggleable__label sk-toggleable__label-arrow\">estimator: DecisionTreeClassifier</label><div class=\"sk-toggleable__content\"><pre>DecisionTreeClassifier(random_state=0)</pre></div></div></div><div class=\"sk-serial\"><div class=\"sk-item\"><div class=\"sk-estimator sk-toggleable\"><input class=\"sk-toggleable__control sk-hidden--visually\" id=\"sk-estimator-id-24\" type=\"checkbox\" ><label for=\"sk-estimator-id-24\" class=\"sk-toggleable__label sk-toggleable__label-arrow\">DecisionTreeClassifier</label><div class=\"sk-toggleable__content\"><pre>DecisionTreeClassifier(random_state=0)</pre></div></div></div></div></div></div></div></div></div></div>"
      ],
      "text/plain": [
       "GridSearchCV(cv=5, estimator=DecisionTreeClassifier(random_state=0),\n",
       "             param_grid=[{'max_depth': [5, 10, 15],\n",
       "                          'min_samples_split': [10, 12, 15]}])"
      ]
     },
     "execution_count": 92,
     "metadata": {},
     "output_type": "execute_result"
    }
   ],
   "source": [
    "tuned_model.fit(x_train_val, t_train_val)"
   ]
  },
  {
   "cell_type": "code",
   "execution_count": 93,
   "metadata": {},
   "outputs": [
    {
     "data": {
      "text/html": [
       "<div>\n",
       "<style scoped>\n",
       "    .dataframe tbody tr th:only-of-type {\n",
       "        vertical-align: middle;\n",
       "    }\n",
       "\n",
       "    .dataframe tbody tr th {\n",
       "        vertical-align: top;\n",
       "    }\n",
       "\n",
       "    .dataframe thead th {\n",
       "        text-align: right;\n",
       "    }\n",
       "</style>\n",
       "<table border=\"1\" class=\"dataframe\">\n",
       "  <thead>\n",
       "    <tr style=\"text-align: right;\">\n",
       "      <th></th>\n",
       "      <th>0</th>\n",
       "      <th>1</th>\n",
       "      <th>2</th>\n",
       "      <th>3</th>\n",
       "      <th>4</th>\n",
       "      <th>5</th>\n",
       "      <th>6</th>\n",
       "      <th>7</th>\n",
       "      <th>8</th>\n",
       "    </tr>\n",
       "  </thead>\n",
       "  <tbody>\n",
       "    <tr>\n",
       "      <th>mean_fit_time</th>\n",
       "      <td>0.006184</td>\n",
       "      <td>0.006169</td>\n",
       "      <td>0.00319</td>\n",
       "      <td>0.006487</td>\n",
       "      <td>0.006148</td>\n",
       "      <td>0.006167</td>\n",
       "      <td>0.0061</td>\n",
       "      <td>0.005027</td>\n",
       "      <td>0.005524</td>\n",
       "    </tr>\n",
       "    <tr>\n",
       "      <th>std_fit_time</th>\n",
       "      <td>0.002344</td>\n",
       "      <td>0.003577</td>\n",
       "      <td>0.00317</td>\n",
       "      <td>0.004306</td>\n",
       "      <td>0.003718</td>\n",
       "      <td>0.00374</td>\n",
       "      <td>0.001885</td>\n",
       "      <td>0.002721</td>\n",
       "      <td>0.001334</td>\n",
       "    </tr>\n",
       "    <tr>\n",
       "      <th>mean_score_time</th>\n",
       "      <td>0.001019</td>\n",
       "      <td>0.0</td>\n",
       "      <td>0.0</td>\n",
       "      <td>0.000102</td>\n",
       "      <td>0.000417</td>\n",
       "      <td>0.000102</td>\n",
       "      <td>0.0</td>\n",
       "      <td>0.000232</td>\n",
       "      <td>0.001601</td>\n",
       "    </tr>\n",
       "    <tr>\n",
       "      <th>std_score_time</th>\n",
       "      <td>0.001069</td>\n",
       "      <td>0.0</td>\n",
       "      <td>0.0</td>\n",
       "      <td>0.000204</td>\n",
       "      <td>0.000833</td>\n",
       "      <td>0.000205</td>\n",
       "      <td>0.0</td>\n",
       "      <td>0.000464</td>\n",
       "      <td>0.003202</td>\n",
       "    </tr>\n",
       "    <tr>\n",
       "      <th>param_max_depth</th>\n",
       "      <td>5</td>\n",
       "      <td>5</td>\n",
       "      <td>5</td>\n",
       "      <td>10</td>\n",
       "      <td>10</td>\n",
       "      <td>10</td>\n",
       "      <td>15</td>\n",
       "      <td>15</td>\n",
       "      <td>15</td>\n",
       "    </tr>\n",
       "    <tr>\n",
       "      <th>param_min_samples_split</th>\n",
       "      <td>10</td>\n",
       "      <td>12</td>\n",
       "      <td>15</td>\n",
       "      <td>10</td>\n",
       "      <td>12</td>\n",
       "      <td>15</td>\n",
       "      <td>10</td>\n",
       "      <td>12</td>\n",
       "      <td>15</td>\n",
       "    </tr>\n",
       "    <tr>\n",
       "      <th>params</th>\n",
       "      <td>{'max_depth': 5, 'min_samples_split': 10}</td>\n",
       "      <td>{'max_depth': 5, 'min_samples_split': 12}</td>\n",
       "      <td>{'max_depth': 5, 'min_samples_split': 15}</td>\n",
       "      <td>{'max_depth': 10, 'min_samples_split': 10}</td>\n",
       "      <td>{'max_depth': 10, 'min_samples_split': 12}</td>\n",
       "      <td>{'max_depth': 10, 'min_samples_split': 15}</td>\n",
       "      <td>{'max_depth': 15, 'min_samples_split': 10}</td>\n",
       "      <td>{'max_depth': 15, 'min_samples_split': 12}</td>\n",
       "      <td>{'max_depth': 15, 'min_samples_split': 15}</td>\n",
       "    </tr>\n",
       "    <tr>\n",
       "      <th>split0_test_score</th>\n",
       "      <td>0.967033</td>\n",
       "      <td>0.923077</td>\n",
       "      <td>0.912088</td>\n",
       "      <td>0.967033</td>\n",
       "      <td>0.923077</td>\n",
       "      <td>0.912088</td>\n",
       "      <td>0.967033</td>\n",
       "      <td>0.923077</td>\n",
       "      <td>0.912088</td>\n",
       "    </tr>\n",
       "    <tr>\n",
       "      <th>split1_test_score</th>\n",
       "      <td>0.912088</td>\n",
       "      <td>0.901099</td>\n",
       "      <td>0.901099</td>\n",
       "      <td>0.912088</td>\n",
       "      <td>0.901099</td>\n",
       "      <td>0.901099</td>\n",
       "      <td>0.912088</td>\n",
       "      <td>0.901099</td>\n",
       "      <td>0.901099</td>\n",
       "    </tr>\n",
       "    <tr>\n",
       "      <th>split2_test_score</th>\n",
       "      <td>0.923077</td>\n",
       "      <td>0.934066</td>\n",
       "      <td>0.934066</td>\n",
       "      <td>0.923077</td>\n",
       "      <td>0.934066</td>\n",
       "      <td>0.934066</td>\n",
       "      <td>0.923077</td>\n",
       "      <td>0.934066</td>\n",
       "      <td>0.934066</td>\n",
       "    </tr>\n",
       "    <tr>\n",
       "      <th>split3_test_score</th>\n",
       "      <td>0.956044</td>\n",
       "      <td>0.956044</td>\n",
       "      <td>0.945055</td>\n",
       "      <td>0.956044</td>\n",
       "      <td>0.956044</td>\n",
       "      <td>0.945055</td>\n",
       "      <td>0.956044</td>\n",
       "      <td>0.956044</td>\n",
       "      <td>0.945055</td>\n",
       "    </tr>\n",
       "    <tr>\n",
       "      <th>split4_test_score</th>\n",
       "      <td>0.967033</td>\n",
       "      <td>0.967033</td>\n",
       "      <td>0.934066</td>\n",
       "      <td>0.967033</td>\n",
       "      <td>0.967033</td>\n",
       "      <td>0.934066</td>\n",
       "      <td>0.967033</td>\n",
       "      <td>0.967033</td>\n",
       "      <td>0.934066</td>\n",
       "    </tr>\n",
       "    <tr>\n",
       "      <th>mean_test_score</th>\n",
       "      <td>0.945055</td>\n",
       "      <td>0.936264</td>\n",
       "      <td>0.925275</td>\n",
       "      <td>0.945055</td>\n",
       "      <td>0.936264</td>\n",
       "      <td>0.925275</td>\n",
       "      <td>0.945055</td>\n",
       "      <td>0.936264</td>\n",
       "      <td>0.925275</td>\n",
       "    </tr>\n",
       "    <tr>\n",
       "      <th>std_test_score</th>\n",
       "      <td>0.023051</td>\n",
       "      <td>0.023466</td>\n",
       "      <td>0.01615</td>\n",
       "      <td>0.023051</td>\n",
       "      <td>0.023466</td>\n",
       "      <td>0.01615</td>\n",
       "      <td>0.023051</td>\n",
       "      <td>0.023466</td>\n",
       "      <td>0.01615</td>\n",
       "    </tr>\n",
       "    <tr>\n",
       "      <th>rank_test_score</th>\n",
       "      <td>1</td>\n",
       "      <td>4</td>\n",
       "      <td>7</td>\n",
       "      <td>1</td>\n",
       "      <td>4</td>\n",
       "      <td>7</td>\n",
       "      <td>1</td>\n",
       "      <td>4</td>\n",
       "      <td>7</td>\n",
       "    </tr>\n",
       "  </tbody>\n",
       "</table>\n",
       "</div>"
      ],
      "text/plain": [
       "                                                                 0  \\\n",
       "mean_fit_time                                             0.006184   \n",
       "std_fit_time                                              0.002344   \n",
       "mean_score_time                                           0.001019   \n",
       "std_score_time                                            0.001069   \n",
       "param_max_depth                                                  5   \n",
       "param_min_samples_split                                         10   \n",
       "params                   {'max_depth': 5, 'min_samples_split': 10}   \n",
       "split0_test_score                                         0.967033   \n",
       "split1_test_score                                         0.912088   \n",
       "split2_test_score                                         0.923077   \n",
       "split3_test_score                                         0.956044   \n",
       "split4_test_score                                         0.967033   \n",
       "mean_test_score                                           0.945055   \n",
       "std_test_score                                            0.023051   \n",
       "rank_test_score                                                  1   \n",
       "\n",
       "                                                                 1  \\\n",
       "mean_fit_time                                             0.006169   \n",
       "std_fit_time                                              0.003577   \n",
       "mean_score_time                                                0.0   \n",
       "std_score_time                                                 0.0   \n",
       "param_max_depth                                                  5   \n",
       "param_min_samples_split                                         12   \n",
       "params                   {'max_depth': 5, 'min_samples_split': 12}   \n",
       "split0_test_score                                         0.923077   \n",
       "split1_test_score                                         0.901099   \n",
       "split2_test_score                                         0.934066   \n",
       "split3_test_score                                         0.956044   \n",
       "split4_test_score                                         0.967033   \n",
       "mean_test_score                                           0.936264   \n",
       "std_test_score                                            0.023466   \n",
       "rank_test_score                                                  4   \n",
       "\n",
       "                                                                 2  \\\n",
       "mean_fit_time                                              0.00319   \n",
       "std_fit_time                                               0.00317   \n",
       "mean_score_time                                                0.0   \n",
       "std_score_time                                                 0.0   \n",
       "param_max_depth                                                  5   \n",
       "param_min_samples_split                                         15   \n",
       "params                   {'max_depth': 5, 'min_samples_split': 15}   \n",
       "split0_test_score                                         0.912088   \n",
       "split1_test_score                                         0.901099   \n",
       "split2_test_score                                         0.934066   \n",
       "split3_test_score                                         0.945055   \n",
       "split4_test_score                                         0.934066   \n",
       "mean_test_score                                           0.925275   \n",
       "std_test_score                                             0.01615   \n",
       "rank_test_score                                                  7   \n",
       "\n",
       "                                                                  3  \\\n",
       "mean_fit_time                                              0.006487   \n",
       "std_fit_time                                               0.004306   \n",
       "mean_score_time                                            0.000102   \n",
       "std_score_time                                             0.000204   \n",
       "param_max_depth                                                  10   \n",
       "param_min_samples_split                                          10   \n",
       "params                   {'max_depth': 10, 'min_samples_split': 10}   \n",
       "split0_test_score                                          0.967033   \n",
       "split1_test_score                                          0.912088   \n",
       "split2_test_score                                          0.923077   \n",
       "split3_test_score                                          0.956044   \n",
       "split4_test_score                                          0.967033   \n",
       "mean_test_score                                            0.945055   \n",
       "std_test_score                                             0.023051   \n",
       "rank_test_score                                                   1   \n",
       "\n",
       "                                                                  4  \\\n",
       "mean_fit_time                                              0.006148   \n",
       "std_fit_time                                               0.003718   \n",
       "mean_score_time                                            0.000417   \n",
       "std_score_time                                             0.000833   \n",
       "param_max_depth                                                  10   \n",
       "param_min_samples_split                                          12   \n",
       "params                   {'max_depth': 10, 'min_samples_split': 12}   \n",
       "split0_test_score                                          0.923077   \n",
       "split1_test_score                                          0.901099   \n",
       "split2_test_score                                          0.934066   \n",
       "split3_test_score                                          0.956044   \n",
       "split4_test_score                                          0.967033   \n",
       "mean_test_score                                            0.936264   \n",
       "std_test_score                                             0.023466   \n",
       "rank_test_score                                                   4   \n",
       "\n",
       "                                                                  5  \\\n",
       "mean_fit_time                                              0.006167   \n",
       "std_fit_time                                                0.00374   \n",
       "mean_score_time                                            0.000102   \n",
       "std_score_time                                             0.000205   \n",
       "param_max_depth                                                  10   \n",
       "param_min_samples_split                                          15   \n",
       "params                   {'max_depth': 10, 'min_samples_split': 15}   \n",
       "split0_test_score                                          0.912088   \n",
       "split1_test_score                                          0.901099   \n",
       "split2_test_score                                          0.934066   \n",
       "split3_test_score                                          0.945055   \n",
       "split4_test_score                                          0.934066   \n",
       "mean_test_score                                            0.925275   \n",
       "std_test_score                                              0.01615   \n",
       "rank_test_score                                                   7   \n",
       "\n",
       "                                                                  6  \\\n",
       "mean_fit_time                                                0.0061   \n",
       "std_fit_time                                               0.001885   \n",
       "mean_score_time                                                 0.0   \n",
       "std_score_time                                                  0.0   \n",
       "param_max_depth                                                  15   \n",
       "param_min_samples_split                                          10   \n",
       "params                   {'max_depth': 15, 'min_samples_split': 10}   \n",
       "split0_test_score                                          0.967033   \n",
       "split1_test_score                                          0.912088   \n",
       "split2_test_score                                          0.923077   \n",
       "split3_test_score                                          0.956044   \n",
       "split4_test_score                                          0.967033   \n",
       "mean_test_score                                            0.945055   \n",
       "std_test_score                                             0.023051   \n",
       "rank_test_score                                                   1   \n",
       "\n",
       "                                                                  7  \\\n",
       "mean_fit_time                                              0.005027   \n",
       "std_fit_time                                               0.002721   \n",
       "mean_score_time                                            0.000232   \n",
       "std_score_time                                             0.000464   \n",
       "param_max_depth                                                  15   \n",
       "param_min_samples_split                                          12   \n",
       "params                   {'max_depth': 15, 'min_samples_split': 12}   \n",
       "split0_test_score                                          0.923077   \n",
       "split1_test_score                                          0.901099   \n",
       "split2_test_score                                          0.934066   \n",
       "split3_test_score                                          0.956044   \n",
       "split4_test_score                                          0.967033   \n",
       "mean_test_score                                            0.936264   \n",
       "std_test_score                                             0.023466   \n",
       "rank_test_score                                                   4   \n",
       "\n",
       "                                                                  8  \n",
       "mean_fit_time                                              0.005524  \n",
       "std_fit_time                                               0.001334  \n",
       "mean_score_time                                            0.001601  \n",
       "std_score_time                                             0.003202  \n",
       "param_max_depth                                                  15  \n",
       "param_min_samples_split                                          15  \n",
       "params                   {'max_depth': 15, 'min_samples_split': 15}  \n",
       "split0_test_score                                          0.912088  \n",
       "split1_test_score                                          0.901099  \n",
       "split2_test_score                                          0.934066  \n",
       "split3_test_score                                          0.945055  \n",
       "split4_test_score                                          0.934066  \n",
       "mean_test_score                                            0.925275  \n",
       "std_test_score                                              0.01615  \n",
       "rank_test_score                                                   7  "
      ]
     },
     "execution_count": 93,
     "metadata": {},
     "output_type": "execute_result"
    }
   ],
   "source": [
    "pd.DataFrame(tuned_model.cv_results_).T"
   ]
  },
  {
   "attachments": {},
   "cell_type": "markdown",
   "metadata": {},
   "source": [
    "先ほどよりも全体の評価が上がったことが確認できます．"
   ]
  },
  {
   "cell_type": "code",
   "execution_count": 94,
   "metadata": {},
   "outputs": [
    {
     "data": {
      "text/plain": [
       "{'max_depth': 5, 'min_samples_split': 10}"
      ]
     },
     "execution_count": 94,
     "metadata": {},
     "output_type": "execute_result"
    }
   ],
   "source": [
    "tuned_model.best_params_"
   ]
  },
  {
   "cell_type": "code",
   "execution_count": 95,
   "metadata": {},
   "outputs": [],
   "source": [
    "best_model = tuned_model.best_estimator_ #最適なモデルの取得"
   ]
  },
  {
   "cell_type": "code",
   "execution_count": 96,
   "metadata": {},
   "outputs": [
    {
     "name": "stdout",
     "output_type": "stream",
     "text": [
      "training score: 0.9934065934065934\n",
      "test score: 0.956140350877193\n"
     ]
    }
   ],
   "source": [
    "print(f'training score: {best_model.score(x_train_val, t_train_val)}')\n",
    "print(f'test score: {best_model.score(x_test, t_test)}')"
   ]
  },
  {
   "cell_type": "code",
   "execution_count": null,
   "metadata": {},
   "outputs": [],
   "source": []
  }
 ],
 "metadata": {
  "kernelspec": {
   "display_name": "py39_DLS",
   "language": "python",
   "name": "python3"
  },
  "language_info": {
   "codemirror_mode": {
    "name": "ipython",
    "version": 3
   },
   "file_extension": ".py",
   "mimetype": "text/x-python",
   "name": "python",
   "nbconvert_exporter": "python",
   "pygments_lexer": "ipython3",
   "version": "3.9.16"
  },
  "orig_nbformat": 4
 },
 "nbformat": 4,
 "nbformat_minor": 2
}
