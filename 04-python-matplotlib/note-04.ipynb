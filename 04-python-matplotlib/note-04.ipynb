{
 "cells": [
  {
   "attachments": {},
   "cell_type": "markdown",
   "metadata": {},
   "source": [
    "# Python基礎 Matplotlib編  \n",
    "この講座ではPythonの基本的なライブラリの1つであるmatplotlibについての講座です．  \n",
    "ぜひ，この講座を通じてmatplotlib操作を身につけましょう！"
   ]
  },
  {
   "cell_type": "markdown",
   "metadata": {},
   "source": []
  }
 ],
 "metadata": {
  "language_info": {
   "name": "python"
  },
  "orig_nbformat": 4
 },
 "nbformat": 4,
 "nbformat_minor": 2
}
