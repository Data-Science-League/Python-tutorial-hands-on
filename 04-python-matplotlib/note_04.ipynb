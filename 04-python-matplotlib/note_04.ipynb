{
 "cells": [
  {
   "cell_type": "markdown",
   "id": "033a68b9",
   "metadata": {},
   "source": [
    "# Python Matlab編"
   ]
  },
  {
   "cell_type": "markdown",
   "id": "53ae5175",
   "metadata": {},
   "source": [
    "## 1.折れ線グラフ"
   ]
  },
  {
   "cell_type": "markdown",
   "id": "601a3723",
   "metadata": {},
   "source": [
    "まずモジュールのimportをします。matplotlibとnumpyをimportします。"
   ]
  },
  {
   "cell_type": "code",
   "execution_count": null,
   "id": "9a3cedf2",
   "metadata": {},
   "outputs": [],
   "source": [
    "# -------解答-------"
   ]
  },
  {
   "cell_type": "markdown",
   "id": "b5fe5665",
   "metadata": {},
   "source": [
    "以下のコードで作成した変数xとyを用いて折れ線グラフを出力してください。"
   ]
  },
  {
   "cell_type": "code",
   "execution_count": null,
   "id": "de2d81be",
   "metadata": {},
   "outputs": [],
   "source": [
    "x = np.arrange(10)\n",
    "y = np.random.randint(-10, 10, -10)"
   ]
  },
  {
   "cell_type": "code",
   "execution_count": null,
   "id": "022b8a86",
   "metadata": {},
   "outputs": [],
   "source": [
    "# -------解答-------"
   ]
  },
  {
   "cell_type": "markdown",
   "id": "ca57821a",
   "metadata": {},
   "source": [
    "## 2.散布図"
   ]
  },
  {
   "cell_type": "code",
   "execution_count": null,
   "id": "ec1692db",
   "metadata": {},
   "outputs": [],
   "source": [
    "# -------解答-------"
   ]
  },
  {
   "cell_type": "markdown",
   "id": "091e56f2",
   "metadata": {},
   "source": [
    "## 3.ヒストグラム"
   ]
  },
  {
   "cell_type": "markdown",
   "id": "6602220a",
   "metadata": {},
   "source": [
    "以下のコードで用意したデータを用いてヒストグラムを作成してください。"
   ]
  },
  {
   "cell_type": "code",
   "execution_count": null,
   "id": "559e629e",
   "metadata": {},
   "outputs": [],
   "source": [
    "data = np.random.randint(0, 10, 10)"
   ]
  },
  {
   "cell_type": "code",
   "execution_count": null,
   "id": "91f8c5c1",
   "metadata": {},
   "outputs": [],
   "source": [
    "# -------解答-------"
   ]
  },
  {
   "cell_type": "markdown",
   "id": "3b10f6ac",
   "metadata": {},
   "source": [
    "## 4.棒グラフ"
   ]
  },
  {
   "cell_type": "markdown",
   "id": "d5ec57d9",
   "metadata": {},
   "source": [
    "以下のコードで作成した変数xとyを用いて棒グラフを作成してください。"
   ]
  },
  {
   "cell_type": "code",
   "execution_count": null,
   "id": "bcceb095",
   "metadata": {
    "collapsed": true
   },
   "outputs": [],
   "source": [
    "x = ['Sam', 'John', 'Kevin', 'Adam']\n",
    "y = np.random.randint(0, 200, 4)"
   ]
  },
  {
   "cell_type": "code",
   "execution_count": null,
   "id": "b6cf3a31",
   "metadata": {},
   "outputs": [],
   "source": [
    "# -------解答-------"
   ]
  },
  {
   "cell_type": "markdown",
   "id": "226c19d5",
   "metadata": {},
   "source": [
    "## 5.タイトルとラベル"
   ]
  },
  {
   "cell_type": "markdown",
   "id": "b705193d",
   "metadata": {},
   "source": [
    "まずは1で作成したグラフにタイトル\"Result\"をつけてください。\n",
    "またx軸には\"x axis\"、y軸には\"y axis\"というラベルもつけてください。"
   ]
  },
  {
   "cell_type": "code",
   "execution_count": null,
   "id": "7d2e9435",
   "metadata": {},
   "outputs": [],
   "source": [
    "x = np.arrange(10)\n",
    "y = np.random.randint(-10, 10, -10)\n",
    "plt.plot(x, y)\n",
    "# -------解答-------"
   ]
  },
  {
   "cell_type": "markdown",
   "id": "c2f5d40b",
   "metadata": {},
   "source": [
    "## 6.軸範囲"
   ]
  },
  {
   "cell_type": "raw",
   "id": "293d25b4",
   "metadata": {},
   "source": [
    "グラフの軸範囲を指定します。先ほど2で作成した散布図を使います。以下のコードで作成したグラフのx軸の範囲を0~40とし、y軸の範囲を0~120としてください。"
   ]
  },
  {
   "cell_type": "code",
   "execution_count": null,
   "id": "59e9243c",
   "metadata": {},
   "outputs": [],
   "source": [
    "x1 = np.random.randint(10, 20, 20)\n",
    "x2 = np.random.randint(20, 30, 20)\n",
    "y1 = np.random.randint(50, 100, 20)\n",
    "y2 = np.random.randint(0, 40, 20)\n",
    "\n",
    "plt.scatter(x1, y1)\n",
    "plt.scatter(x2, y2)\n",
    "# -------解答-------"
   ]
  },
  {
   "cell_type": "markdown",
   "id": "f5272837",
   "metadata": {},
   "source": [
    "## 7.対数軸"
   ]
  },
  {
   "cell_type": "markdown",
   "id": "a408962c",
   "metadata": {},
   "source": [
    "以下のコードで作成したグラフにおいて、軸のスケールをlog(対数関数に調整してください。"
   ]
  },
  {
   "cell_type": "code",
   "execution_count": null,
   "id": "b20b7289",
   "metadata": {},
   "outputs": [],
   "source": [
    "x = np.linspace(0, 10, 500)\n",
    "y = np.exp(x)\n",
    "\n",
    "# -------解答-------"
   ]
  },
  {
   "cell_type": "code",
   "execution_count": null,
   "id": "ac6e7a3f",
   "metadata": {},
   "outputs": [],
   "source": [
    "plt.plot(x, y)"
   ]
  },
  {
   "cell_type": "markdown",
   "id": "cd02a6b3",
   "metadata": {},
   "source": [
    "## 8.凡例"
   ]
  },
  {
   "cell_type": "markdown",
   "id": "18d3bf66",
   "metadata": {},
   "source": [
    "以下のコードを実行したグラフに対して、sin,cosという凡例を付けたグラフを作成してください。"
   ]
  },
  {
   "cell_type": "code",
   "execution_count": null,
   "id": "c61b9c0f",
   "metadata": {},
   "outputs": [],
   "source": [
    "x = np.linspace(0, 2*np.pi, 500)\n",
    "y1 = np.sin(x)\n",
    "y2 = np.cos(x)\n",
    "\n",
    "#下記コードに追加して作成\n",
    "plt.plot(x, y1)\n",
    "plt.plot(x, y2)\n",
    "\n",
    "plt.ylim(-2, 2)"
   ]
  },
  {
   "cell_type": "markdown",
   "id": "bd7909a0",
   "metadata": {},
   "source": [
    "## 9.マーカの種類・サイズ変更"
   ]
  },
  {
   "cell_type": "markdown",
   "id": "ebc9e48f",
   "metadata": {},
   "source": [
    "以下のコードで作成した散布図のマーカの種類とサイズを変更してみてください。\n",
    "・マーカ：星、サイズ：80\n",
    "・マーカ：三角形、サイズ：60\n",
    "・マーカ：×、サイズ：30"
   ]
  },
  {
   "cell_type": "code",
   "execution_count": null,
   "id": "442e825d",
   "metadata": {
    "collapsed": true
   },
   "outputs": [],
   "source": [
    "x1 = np.random.randint(10, 35, 20)\n",
    "x2 = np.random.randint(5, 45, 20)\n",
    "x3 = np.random.randint(0, 40, 20)\n",
    "y1 = np.random.randint(50, 100, 20)\n",
    "y2 = np.random.randint(0, 40, 20)\n",
    "y3 = np.random.randint(20, 80, 20)\n",
    "\n",
    "#下記コードに追加して作成\n",
    "plt.scatter(x1, y1)\n",
    "plt.scatter(x2, y2)\n",
    "plt.scatter(x3, y3)"
   ]
  },
  {
   "cell_type": "markdown",
   "id": "4aa54998",
   "metadata": {},
   "source": [
    "## 10.注釈"
   ]
  },
  {
   "cell_type": "markdown",
   "id": "9a3a547c",
   "metadata": {},
   "source": [
    "以下のコードで作成したグラフに注釈を加えましょう。\n",
    "最小値となる部分に対して矢印を使ってmin valueというテキストを表示してください。"
   ]
  },
  {
   "cell_type": "code",
   "execution_count": null,
   "id": "d9d1629f",
   "metadata": {},
   "outputs": [],
   "source": [
    "data = [5, 3, 4, 2, 0, 3, 2, 1, 4 ,6, 8, 5]\n",
    "plt.plot(data)\n",
    "# -------解答-------"
   ]
  },
  {
   "cell_type": "markdown",
   "id": "53a26cc2",
   "metadata": {},
   "source": [
    "## 11.目盛り"
   ]
  },
  {
   "cell_type": "markdown",
   "id": "cfe68a5c",
   "metadata": {},
   "source": [
    "先ほどのグラフの目盛りは、x軸が0から11までの2刻み、y軸が0から8まで1刻みとなっています。こちらのx軸を1刻み、y軸を2刻みとなるように変更してください。"
   ]
  },
  {
   "cell_type": "code",
   "execution_count": null,
   "id": "f053de26",
   "metadata": {},
   "outputs": [],
   "source": [
    "data = [5, 3, 4, 2, 0, 3, 2, 1, 4 ,6, 8, 5]\n",
    "plt.plot(data)\n",
    "plt.annotate('min value', xy=(4.2, 0), xytext=(9, 1), arrowprops=dict(facecolor='black', 'shrink'=0.05))\n",
    "# -------解答-------"
   ]
  },
  {
   "cell_type": "markdown",
   "id": "7976bf36",
   "metadata": {},
   "source": [
    "## 12.グリッド線"
   ]
  },
  {
   "cell_type": "markdown",
   "id": "b1bd9b02",
   "metadata": {},
   "source": [
    "グラフにグリッド線を追加してください。"
   ]
  },
  {
   "cell_type": "code",
   "execution_count": null,
   "id": "4413321e",
   "metadata": {},
   "outputs": [],
   "source": [
    "data = [5, 3, 4, 2, 0, 3, 2, 1, 4 ,6, 8, 5]\n",
    "plt.plot(data)\n",
    "# -------解答-------"
   ]
  },
  {
   "cell_type": "markdown",
   "id": "3e129b35",
   "metadata": {},
   "source": [
    "## 13.複数グラフの表示"
   ]
  },
  {
   "cell_type": "markdown",
   "id": "2bf92cca",
   "metadata": {},
   "source": [
    "以下のデータに対し、異なる形状のグラフを横並びに3つ表示してください。<br>\n",
    "ただし、3つのグラフを表示する全体のグラフサイズは横9インチ、縦3インチとしてください。"
   ]
  },
  {
   "cell_type": "code",
   "execution_count": 1,
   "id": "548de58f",
   "metadata": {},
   "outputs": [],
   "source": [
    "names = ['Sam', 'John', 'Kevin', 'Adam']\n",
    "values = [60, 170, 10, 120]"
   ]
  },
  {
   "cell_type": "code",
   "execution_count": null,
   "id": "ea734b86",
   "metadata": {},
   "outputs": [],
   "source": [
    "# -------解答-------\n",
    "#棒グラフ\n",
    "#散布図\n",
    "#折れ線グラフ"
   ]
  },
  {
   "cell_type": "markdown",
   "id": "50de28b2",
   "metadata": {},
   "source": [
    "## 14.ヒープマップ"
   ]
  },
  {
   "cell_type": "markdown",
   "id": "9d61f4e3",
   "metadata": {},
   "source": [
    "以下のコードで用意した10×10のデータに対して、最小値0が白色で最大値1が青色となるカラーマップBluesを使ってヒートマップを作成してください。"
   ]
  },
  {
   "cell_type": "code",
   "execution_count": null,
   "id": "b27dc16b",
   "metadata": {},
   "outputs": [],
   "source": [
    "data = np.random.rand(10, 10)"
   ]
  },
  {
   "cell_type": "code",
   "execution_count": null,
   "id": "a203692a",
   "metadata": {},
   "outputs": [],
   "source": [
    "# -------解答-------"
   ]
  },
  {
   "cell_type": "markdown",
   "id": "8c10f673",
   "metadata": {},
   "source": [
    "## 15.3次元グラフ"
   ]
  },
  {
   "cell_type": "markdown",
   "id": "b9f3390e",
   "metadata": {},
   "source": [
    "次のデータを使って3次元に点をプロットしてみてください。こちらのデータはz軸方向に螺旋のような動きをしながら伸びていくものです。"
   ]
  },
  {
   "cell_type": "code",
   "execution_count": null,
   "id": "d24b42f2",
   "metadata": {},
   "outputs": [],
   "source": [
    "theta = np.linspace(-4*np.pi, 4*np.pi, 100)\n",
    "z = np.linspace(-2, 2, 100)\n",
    "r = z**2 + 1\n",
    "x = r * np.sin(theta)\n",
    "y = r * np.cos(theta)"
   ]
  },
  {
   "cell_type": "code",
   "execution_count": null,
   "id": "40de56c8",
   "metadata": {},
   "outputs": [],
   "source": [
    "# -------解答-------"
   ]
  },
  {
   "cell_type": "markdown",
   "id": "fc306074",
   "metadata": {},
   "source": [
    "## 16.円グラフ"
   ]
  },
  {
   "cell_type": "markdown",
   "id": "4a746a11",
   "metadata": {},
   "source": [
    "以下に用意したデータを用いて円グラフを作成してください。"
   ]
  },
  {
   "cell_type": "code",
   "execution_count": null,
   "id": "3a2fde62",
   "metadata": {},
   "outputs": [],
   "source": [
    "x = np.array([100, 200, 300, 400, 500])\n",
    "labels = [\"Apple\", \"Banana\", \"Orange\", \"Grape\", \"Strawberry\"]\n",
    "colots = [\"red\", \"yellow\", \"orange\", \"purple\", \"pink\"]"
   ]
  },
  {
   "cell_type": "code",
   "execution_count": null,
   "id": "103b587d",
   "metadata": {},
   "outputs": [],
   "source": [
    "# -------解答-------"
   ]
  },
  {
   "cell_type": "markdown",
   "id": "881997e0",
   "metadata": {},
   "source": [
    "## 17.GUIウィジェット"
   ]
  },
  {
   "cell_type": "markdown",
   "id": "9ada59ff",
   "metadata": {},
   "source": [
    "以下のコードで作成した散布図上にカーソルを持っていくとカーソルの座標が表示されるようにしてください。<br>\n",
    "ただし、MatplotlibのGUIウィジェットはJupyter Notebook上では使えないため、この問題に関してはターミナルでPythonインタプリタを起動した状態で確認してください。"
   ]
  },
  {
   "cell_type": "code",
   "execution_count": null,
   "id": "aeacf07e",
   "metadata": {},
   "outputs": [],
   "source": [
    "fig = plt.figure(figsize=(8, 6))\n",
    "ax = fig.add_subplot(111, facecolot='#FFFFCC')\n",
    "\n",
    "x, y = 4*(np.random.rand(2, 100)- .5)\n",
    "ax.plot(x, y, 'o')\n",
    "ax.set_xlim(-2, 2)\n",
    "ax.set_ylim(-2, 2)\n",
    "\n",
    "#下記コードに追加して作成\n",
    "plt.show()\n",
    "'''\n",
    "ヒント\n",
    "今回はMatplotlibのウェジェットを使うためにmatplotlib.widgets\n",
    "をモジュールの中Cursorクラスを利用します。\n",
    "'''"
   ]
  },
  {
   "cell_type": "markdown",
   "id": "b8acaea6",
   "metadata": {},
   "source": [
    "## 18.演習問題"
   ]
  },
  {
   "cell_type": "markdown",
   "id": "868579d1",
   "metadata": {},
   "source": [
    "以下の2つのグラフを1つのグラフ(figsize=(9,6))として縦に2つ並べた形に修正してください。"
   ]
  },
  {
   "cell_type": "code",
   "execution_count": 3,
   "id": "d16d9389",
   "metadata": {
    "scrolled": true
   },
   "outputs": [
    {
     "ename": "SyntaxError",
     "evalue": "invalid syntax (477000553.py, line 6)",
     "output_type": "error",
     "traceback": [
      "\u001b[0;36m  Cell \u001b[0;32mIn[3], line 6\u001b[0;36m\u001b[0m\n\u001b[0;31m    plt.xlabel('x axis')plt.xlabel('x axis')\u001b[0m\n\u001b[0m                        ^\u001b[0m\n\u001b[0;31mSyntaxError\u001b[0m\u001b[0;31m:\u001b[0m invalid syntax\n"
     ]
    }
   ],
   "source": [
    "#下記コードに追加して作成\n",
    "#グラフ1\n",
    "x1 = np.arange(10)\n",
    "y1 = np.random.randint(-10, 10, 10)\n",
    "plt.plot(x1, y1)\n",
    "plt.title('Result')\n",
    "plt.xlabel('x axis')\n",
    "plt.ylabel('y axis')"
   ]
  },
  {
   "cell_type": "code",
   "execution_count": null,
   "id": "bf2f4d99",
   "metadata": {},
   "outputs": [],
   "source": [
    "#下記コードに追加して作成\n",
    "#グラフ2\n",
    "x2 = ['Sam', 'John', 'Kevin', 'Adam'] \n",
    "y2 = np.random.randint(0. 200, 4)\n",
    "plt.bar(x2, y2)"
   ]
  },
  {
   "cell_type": "markdown",
   "id": "ae5d4c1d",
   "metadata": {},
   "source": [
    "## 19.演習問題"
   ]
  },
  {
   "cell_type": "markdown",
   "id": "e0176372",
   "metadata": {},
   "source": [
    "次のデータを使って以下の図のようなグラフを作成してください<br>\n",
    "なお、円グラフの特徴は以下になります。<br>\n",
    "・円グラフ(Hogsのみ半径10%分のオフセット)<br>\n",
    "・影あり<br>\n",
    "・小数点以下1桁%まで表示<br>\n",
    "・0時の位置から反時計回りに始まる<br>"
   ]
  },
  {
   "cell_type": "code",
   "execution_count": null,
   "id": "725c1d01",
   "metadata": {},
   "outputs": [],
   "source": [
    "labels = 'Frogs', 'Hogs', 'Dogs', 'Logs'\n",
    "sizes = [15, 30, 45, 10]"
   ]
  },
  {
   "cell_type": "code",
   "execution_count": null,
   "id": "147f9a7f",
   "metadata": {},
   "outputs": [],
   "source": [
    "# -------解答-------"
   ]
  },
  {
   "cell_type": "markdown",
   "id": "ae337b57",
   "metadata": {},
   "source": [
    "## 20.演習問題"
   ]
  },
  {
   "cell_type": "markdown",
   "id": "79bbaa72",
   "metadata": {},
   "source": [
    "次の3つのデータを使って、以下の図のような積み上げタイプのヒストグラムを作成してください。ただし、ビンの数は10としています。"
   ]
  },
  {
   "cell_type": "code",
   "execution_count": null,
   "id": "2b265ef5",
   "metadata": {},
   "outputs": [],
   "source": [
    "mu1, sigma1 = 100, 15\n",
    "mu2, sigma2 = 90, 20\n",
    "mu3, sigma3 = 110, 10\n",
    "x1 = mu1 + sigma1 * np.random.randn(100)\n",
    "x2 = mu2 + sigma2 * np.random.randn(100)\n",
    "x3 = mu3 + sigma3 * np.random.randn(100)"
   ]
  },
  {
   "cell_type": "code",
   "execution_count": null,
   "id": "4ce96baa",
   "metadata": {},
   "outputs": [],
   "source": [
    "# -------解答-------"
   ]
  }
 ],
 "metadata": {
  "kernelspec": {
   "display_name": "Python 3 (ipykernel)",
   "language": "python",
   "name": "python3"
  },
  "language_info": {
   "codemirror_mode": {
    "name": "ipython",
    "version": 3
   },
   "file_extension": ".py",
   "mimetype": "text/x-python",
   "name": "python",
   "nbconvert_exporter": "python",
   "pygments_lexer": "ipython3",
   "version": "3.10.9"
  }
 },
 "nbformat": 4,
 "nbformat_minor": 5
}
