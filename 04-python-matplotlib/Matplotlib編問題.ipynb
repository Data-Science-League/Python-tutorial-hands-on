{
 "cells": [
  {
   "attachments": {},
   "cell_type": "markdown",
   "id": "033a68b9",
   "metadata": {},
   "source": [
    "# Python Matplotlib編  \n",
    "データの可視化においてMatplotlibは欠かせないライブラリであります．  \n",
    "ぜひ，ここで身につけておきましょう"
   ]
  },
  {
   "attachments": {},
   "cell_type": "markdown",
   "id": "53ae5175",
   "metadata": {},
   "source": [
    "### 1. 折れ線グラフ  \n",
    "以下のコードで作成した変数xとyを用いて折れ線グラフを出力してください。"
   ]
  },
  {
   "cell_type": "code",
   "execution_count": 57,
   "id": "de2d81be",
   "metadata": {},
   "outputs": [],
   "source": [
    "x = np.arange(10)\n",
    "y = np.random.randint(-10, 10, 10)"
   ]
  },
  {
   "cell_type": "code",
   "execution_count": null,
   "id": "47c3d7d1",
   "metadata": {},
   "outputs": [],
   "source": []
  },
  {
   "attachments": {},
   "cell_type": "markdown",
   "id": "ca57821a",
   "metadata": {},
   "source": [
    "### 2. 散布図  \n",
    "以下のコードで作成した変数x1,x2とy1,y2を用いて散布図を出力してください"
   ]
  },
  {
   "cell_type": "code",
   "execution_count": 4,
   "id": "773a2554",
   "metadata": {},
   "outputs": [],
   "source": [
    "x1 = np.random.randint(10, 20, 20)\n",
    "x2 = np.random.randint(20, 30, 20)\n",
    "y1 = np.random.randint(50, 100, 20)\n",
    "y2 = np.random.randint(0, 40, 20)"
   ]
  },
  {
   "cell_type": "code",
   "execution_count": null,
   "id": "3f91f36e",
   "metadata": {},
   "outputs": [],
   "source": []
  },
  {
   "attachments": {},
   "cell_type": "markdown",
   "id": "091e56f2",
   "metadata": {},
   "source": [
    "### 3. ヒストグラム  \n",
    "以下のコードで用意したデータを用いてヒストグラムを作成してください。"
   ]
  },
  {
   "cell_type": "code",
   "execution_count": 63,
   "id": "559e629e",
   "metadata": {},
   "outputs": [],
   "source": [
    "data = np.random.randint(0, 10, 10)"
   ]
  },
  {
   "cell_type": "code",
   "execution_count": null,
   "id": "d5f0cf47",
   "metadata": {},
   "outputs": [],
   "source": []
  },
  {
   "attachments": {},
   "cell_type": "markdown",
   "id": "3b10f6ac",
   "metadata": {},
   "source": [
    "### 4. 棒グラフ  \n",
    "以下のコードで作成した変数xとyを用いて棒グラフを作成してください。"
   ]
  },
  {
   "cell_type": "code",
   "execution_count": 65,
   "id": "bcceb095",
   "metadata": {
    "collapsed": true
   },
   "outputs": [],
   "source": [
    "x = ['Sam', 'John', 'Kevin', 'Adam']\n",
    "y = np.random.randint(0, 200, 4)"
   ]
  },
  {
   "cell_type": "code",
   "execution_count": null,
   "id": "6fb4704d",
   "metadata": {},
   "outputs": [],
   "source": []
  },
  {
   "attachments": {},
   "cell_type": "markdown",
   "id": "226c19d5",
   "metadata": {},
   "source": [
    "### 5. タイトルとラベル  \n",
    "まずは1で作成したグラフにタイトル\"Result\"をつけてください．  \n",
    "またx軸には\"x axis\"、y軸には\"y axis\"というラベルもつけてください。"
   ]
  },
  {
   "cell_type": "code",
   "execution_count": null,
   "id": "7d2e9435",
   "metadata": {},
   "outputs": [],
   "source": []
  },
  {
   "attachments": {},
   "cell_type": "markdown",
   "id": "c2f5d40b",
   "metadata": {},
   "source": [
    "### 6. 軸範囲  \n",
    "グラフの軸範囲を指定します。先ほど2で作成した散布図を使います。  \n",
    "以下のコードで作成したグラフのx軸の範囲を0~40とし、y軸の範囲を0~120としてください。"
   ]
  },
  {
   "cell_type": "code",
   "execution_count": null,
   "id": "bd2e88bd",
   "metadata": {},
   "outputs": [],
   "source": [
    "x1 = np.random.randint(10, 20, 20)\n",
    "x2 = np.random.randint(20, 30, 20)\n",
    "y1 = np.random.randint(50, 100, 20)\n",
    "y2 = np.random.randint(0, 40, 20)"
   ]
  },
  {
   "cell_type": "code",
   "execution_count": null,
   "id": "f9451f98",
   "metadata": {},
   "outputs": [],
   "source": []
  },
  {
   "attachments": {},
   "cell_type": "markdown",
   "id": "f5272837",
   "metadata": {},
   "source": [
    "### 7. 対数軸  \n",
    "以下のコードで作成したグラフにおいて、軸のスケールをlog(対数関数に調整してください。)"
   ]
  },
  {
   "cell_type": "code",
   "execution_count": 93,
   "id": "b20b7289",
   "metadata": {},
   "outputs": [],
   "source": [
    "x = np.linspace(0, 10, 500)\n",
    "y = np.exp(x) # 指数関数"
   ]
  },
  {
   "cell_type": "code",
   "execution_count": null,
   "id": "42addd7e",
   "metadata": {},
   "outputs": [],
   "source": []
  },
  {
   "attachments": {},
   "cell_type": "markdown",
   "id": "cd02a6b3",
   "metadata": {},
   "source": [
    "### 8. 凡例  \n",
    "以下のコードを実行したグラフに対して、sin,cosという凡例を付けたグラフを作成してください。"
   ]
  },
  {
   "cell_type": "code",
   "execution_count": null,
   "id": "c61b9c0f",
   "metadata": {},
   "outputs": [],
   "source": [
    "x = np.linspace(0, 2*np.pi, 500)\n",
    "y1 = np.sin(x)\n",
    "y2 = np.cos(x)\n",
    "\n",
    "plt.plot(x, y1)\n",
    "plt.plot(x, y2)\n",
    "\n",
    "plt.ylim(-2, 2)"
   ]
  },
  {
   "cell_type": "code",
   "execution_count": null,
   "id": "811a675f",
   "metadata": {},
   "outputs": [],
   "source": []
  },
  {
   "attachments": {},
   "cell_type": "markdown",
   "id": "bd7909a0",
   "metadata": {},
   "source": [
    "### 9. マーカの種類・サイズ変更  \n",
    "以下のコードで作成した散布図のマーカの種類とサイズを変更してみてください。  \n",
    "- マーカ：星、サイズ：80  \n",
    "- マーカ：三角形、サイズ：60  \n",
    "- マーカ：×、サイズ：30"
   ]
  },
  {
   "cell_type": "code",
   "execution_count": null,
   "id": "442e825d",
   "metadata": {
    "collapsed": true
   },
   "outputs": [],
   "source": [
    "x1 = np.random.randint(10, 35, 20)\n",
    "x2 = np.random.randint(5, 45, 20)\n",
    "x3 = np.random.randint(0, 40, 20)\n",
    "y1 = np.random.randint(50, 100, 20)\n",
    "y2 = np.random.randint(0, 40, 20)\n",
    "y3 = np.random.randint(20, 80, 20)\n",
    "\n",
    "plt.scatter(x1, y1)\n",
    "plt.scatter(x2, y2)\n",
    "plt.scatter(x3, y3)"
   ]
  },
  {
   "cell_type": "code",
   "execution_count": null,
   "id": "b626cb2b",
   "metadata": {},
   "outputs": [],
   "source": []
  },
  {
   "attachments": {},
   "cell_type": "markdown",
   "id": "4aa54998",
   "metadata": {},
   "source": [
    "### 10. 注釈  \n",
    "以下のコードで作成したグラフに注釈を加えましょう。  \n",
    "最小値となる部分に対して矢印を使ってmin valueというテキストを表示してください。"
   ]
  },
  {
   "cell_type": "code",
   "execution_count": null,
   "id": "d9d1629f",
   "metadata": {},
   "outputs": [],
   "source": [
    "data = [5, 3, 4, 2, 0, 3, 2, 1, 4 ,6, 8, 5]\n",
    "\n",
    "plt.plot(data)"
   ]
  },
  {
   "cell_type": "code",
   "execution_count": null,
   "id": "d17ed22e",
   "metadata": {},
   "outputs": [],
   "source": []
  },
  {
   "attachments": {},
   "cell_type": "markdown",
   "id": "53a26cc2",
   "metadata": {},
   "source": [
    "### 11. 目盛り  \n",
    "先ほどのグラフの目盛りは、x軸が0から11までの2刻み、y軸が0から8まで1刻みとなっています。  \n",
    "こちらのx軸を1刻み、y軸を2刻みとなるように変更してください。"
   ]
  },
  {
   "cell_type": "code",
   "execution_count": null,
   "id": "f053de26",
   "metadata": {},
   "outputs": [],
   "source": [
    "data = [5, 3, 4, 2, 0, 3, 2, 1, 4 ,6, 8, 5]\n",
    "plt.plot(data)\n",
    "\n",
    "plt.annotate('min value', xy=(4.2, 0), xytext=(9, 1), arrowprops=dict(facecolor='black', shrink=0.05)) # 注釈をつける"
   ]
  },
  {
   "cell_type": "code",
   "execution_count": null,
   "id": "e2f5251e",
   "metadata": {},
   "outputs": [],
   "source": []
  },
  {
   "attachments": {},
   "cell_type": "markdown",
   "id": "7976bf36",
   "metadata": {},
   "source": [
    "### 12. グリッド線  \n",
    "以下のソースコードの表すグラフにグリッド線を追加してください。"
   ]
  },
  {
   "cell_type": "code",
   "execution_count": null,
   "id": "4413321e",
   "metadata": {},
   "outputs": [],
   "source": [
    "data = [5, 3, 4, 2, 0, 3, 2, 1, 4 ,6, 8, 5]\n",
    "plt.plot(data)"
   ]
  },
  {
   "cell_type": "code",
   "execution_count": null,
   "id": "0636431c",
   "metadata": {},
   "outputs": [],
   "source": []
  },
  {
   "attachments": {},
   "cell_type": "markdown",
   "id": "3e129b35",
   "metadata": {},
   "source": [
    "### 13. 複数グラフの表示  \n",
    "以下のデータに対し、異なる形状のグラフを横並びに3つ表示してください。  \n",
    "ただし、3つのグラフを表示する全体のグラフサイズは横9インチ、縦3インチとしてください。  \n",
    "- 棒グラフ(plt.bar())  \n",
    "- 散布図(plt.scatter())  \n",
    "- 折れ線グラフ(plt.plot())"
   ]
  },
  {
   "cell_type": "code",
   "execution_count": 105,
   "id": "548de58f",
   "metadata": {},
   "outputs": [],
   "source": [
    "names = ['Sam', 'John', 'Kevin', 'Adam']\n",
    "values = [60, 170, 10, 120]"
   ]
  },
  {
   "cell_type": "code",
   "execution_count": null,
   "id": "62b4ac41",
   "metadata": {},
   "outputs": [],
   "source": []
  },
  {
   "attachments": {},
   "cell_type": "markdown",
   "id": "50de28b2",
   "metadata": {},
   "source": [
    "### 14. ヒープマップ  \n",
    "以下のコードで用意した10×10のデータに対して、最小値0が白色で最大値1が青色となる  \n",
    "カラーマップBluesを使ってヒートマップを作成してください。"
   ]
  },
  {
   "cell_type": "code",
   "execution_count": 107,
   "id": "b27dc16b",
   "metadata": {},
   "outputs": [],
   "source": [
    "data = np.random.rand(10, 10)"
   ]
  },
  {
   "cell_type": "code",
   "execution_count": null,
   "id": "7daa86f1",
   "metadata": {},
   "outputs": [],
   "source": []
  },
  {
   "attachments": {},
   "cell_type": "markdown",
   "id": "8c10f673",
   "metadata": {},
   "source": [
    "### 15. 3次元グラフ  \n",
    "次のデータを使って3次元に点をプロットしてみてください。  \n",
    "こちらのデータはz軸方向に螺旋のような動きをしながら伸びていくものです。"
   ]
  },
  {
   "cell_type": "code",
   "execution_count": 109,
   "id": "d24b42f2",
   "metadata": {},
   "outputs": [],
   "source": [
    "theta = np.linspace(-4*np.pi, 4*np.pi, 100)\n",
    "z = np.linspace(-2, 2, 100)\n",
    "r = z**2 + 1\n",
    "x = r * np.sin(theta)\n",
    "y = r * np.cos(theta)"
   ]
  },
  {
   "cell_type": "code",
   "execution_count": null,
   "id": "df91068e",
   "metadata": {},
   "outputs": [],
   "source": []
  },
  {
   "attachments": {},
   "cell_type": "markdown",
   "id": "fc306074",
   "metadata": {},
   "source": [
    "### 16. 円グラフ  \n",
    "以下に用意したデータを用いて円グラフを作成してください。"
   ]
  },
  {
   "cell_type": "code",
   "execution_count": 114,
   "id": "3a2fde62",
   "metadata": {},
   "outputs": [],
   "source": [
    "x = np.array([100, 200, 300, 400, 500])\n",
    "labels = [\"Apple\", \"Banana\", \"Orange\", \"Grape\", \"Strawberry\"]\n",
    "colors = [\"red\", \"yellow\", \"orange\", \"purple\", \"pink\"]"
   ]
  },
  {
   "cell_type": "code",
   "execution_count": null,
   "id": "4db8b88c",
   "metadata": {},
   "outputs": [],
   "source": []
  },
  {
   "attachments": {},
   "cell_type": "markdown",
   "id": "881997e0",
   "metadata": {},
   "source": [
    "## 17.GUIウィジェット  \n",
    "以下のコードで作成した散布図上にカーソルを持っていくとカーソルの座標が表示されるようにしてください。  \n",
    "ただし、MatplotlibのGUIウィジェットはJupyter Notebook上では使えないため、  \n",
    "この問題に関してはターミナルでPythonインタプリタを起動した状態で確認してください。"
   ]
  },
  {
   "cell_type": "code",
   "execution_count": null,
   "id": "aeacf07e",
   "metadata": {},
   "outputs": [],
   "source": [
    "fig = plt.figure(figsize=(8, 6))\n",
    "ax = fig.add_subplot(111, facecolor='#FFFFCC') # グラフの背景色を指定\n",
    "\n",
    "x, y = 4*(np.random.rand(2, 100)- .5) # 100個の乱数を生成\n",
    "ax.plot(x, y, 'o') # 散布図を描画\n",
    "ax.set_xlim(-2, 2) # x軸の範囲を指定\n",
    "ax.set_ylim(-2, 2) # y軸の範囲を指定\n",
    "\n",
    "#下記コードに追加して作成\n",
    "plt.show()\n",
    "'''\n",
    "ヒント\n",
    "今回はMatplotlibのウェジェットを使うためにmatplotlib.widgets\n",
    "をモジュールの中Cursorクラスを利用します。\n",
    "'''"
   ]
  },
  {
   "cell_type": "code",
   "execution_count": null,
   "id": "082352e2",
   "metadata": {},
   "outputs": [],
   "source": []
  },
  {
   "attachments": {},
   "cell_type": "markdown",
   "id": "b8acaea6",
   "metadata": {},
   "source": [
    "### 18.演習問題  \n",
    "以下の2つのグラフを1つのグラフ(figsize=(9,6))として縦に2つ並べた形に修正してください。"
   ]
  },
  {
   "cell_type": "code",
   "execution_count": null,
   "id": "d16d9389",
   "metadata": {
    "scrolled": true
   },
   "outputs": [],
   "source": [
    "#下記コードに追加して作成\n",
    "#グラフ1\n",
    "x1 = np.arange(10)\n",
    "y1 = np.random.randint(-10, 10, 10)\n",
    "plt.plot(x1, y1)\n",
    "plt.set_title('Result')\n",
    "plt.set_xlabel('x axis')\n",
    "plt.set_ylabel('y axis')\n",
    "\n",
    "#下記コードに追加して作成\n",
    "#グラフ2\n",
    "x2 = ['Sam', 'John', 'Kevin', 'Adam'] \n",
    "y2 = np.random.randint(0. 200, 4)\n",
    "plt.bar(x2, y2)"
   ]
  },
  {
   "cell_type": "code",
   "execution_count": null,
   "id": "6d4476a3",
   "metadata": {},
   "outputs": [],
   "source": []
  },
  {
   "attachments": {},
   "cell_type": "markdown",
   "id": "ae5d4c1d",
   "metadata": {},
   "source": [
    "### 19.演習問題  \n",
    "次のデータを使って以下の図のようなグラフを作成してください  \n",
    "なお、円グラフの特徴は以下になります。  \n",
    "- 円グラフ(Hogsのみ半径10%分のオフセット)  \n",
    "- 影あり  \n",
    "- 小数点以下1桁%まで表示  \n",
    "- 0時の位置から反時計回りに始まる  \n"
   ]
  },
  {
   "cell_type": "code",
   "execution_count": null,
   "id": "725c1d01",
   "metadata": {},
   "outputs": [],
   "source": [
    "labels = 'Frogs', 'Hogs', 'Dogs', 'Logs' # ラベルを指定\n",
    "sizes = [15, 30, 45, 10] # 各要素の大きさを指定"
   ]
  },
  {
   "attachments": {
    "image.png": {
     "image/png": "[encoded data removed]"
    }
   },
   "cell_type": "markdown",
   "id": "054cba1c",
   "metadata": {},
   "source": [
    "![image.png](attachment:image.png)"
   ]
  },
  {
   "cell_type": "code",
   "execution_count": null,
   "id": "04ba0403",
   "metadata": {},
   "outputs": [],
   "source": []
  },
  {
   "attachments": {},
   "cell_type": "markdown",
   "id": "ae337b57",
   "metadata": {},
   "source": [
    "### 20.演習問題  \n",
    "次の3つのデータを使って、以下の図のような積み上げタイプのヒストグラムを作成してください。ただし、ビンの数は10としています。"
   ]
  },
  {
   "cell_type": "code",
   "execution_count": null,
   "id": "2b265ef5",
   "metadata": {},
   "outputs": [],
   "source": [
    "mu1, sigma1 = 100, 15 # 平均と標準偏差\n",
    "mu2, sigma2 = 90, 20 # 平均と標準偏差\n",
    "mu3, sigma3 = 110, 10 # 平均と標準偏差\n",
    "x1 = mu1 + sigma1 * np.random.randn(100) # 正規分布に従う乱数を100個生成 \n",
    "x2 = mu2 + sigma2 * np.random.randn(100) # 正規分布に従う乱数を100個生成\n",
    "x3 = mu3 + sigma3 * np.random.randn(100) # 正規分布に従う乱数を100個生成"
   ]
  },
  {
   "attachments": {
    "image.png": {
     "image/png": "[encoded data removed]"
    }
   },
   "cell_type": "markdown",
   "id": "561a4624",
   "metadata": {},
   "source": [
    "![image.png](attachment:image.png)"
   ]
  },
  {
   "cell_type": "code",
   "execution_count": null,
   "id": "f0b9a54e",
   "metadata": {},
   "outputs": [],
   "source": []
  }
 ],
 "metadata": {
  "kernelspec": {
   "display_name": "Python 3 (ipykernel)",
   "language": "python",
   "name": "python3"
  },
  "language_info": {
   "codemirror_mode": {
    "name": "ipython",
    "version": 3
   },
   "file_extension": ".py",
   "mimetype": "text/x-python",
   "name": "python",
   "nbconvert_exporter": "python",
   "pygments_lexer": "ipython3",
   "version": "3.9.16"
  }
 },
 "nbformat": 4,
 "nbformat_minor": 5
}
