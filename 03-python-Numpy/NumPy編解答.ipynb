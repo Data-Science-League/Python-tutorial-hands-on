{
 "cells": [
  {
   "attachments": {},
   "cell_type": "markdown",
   "metadata": {},
   "source": [
    "# Python基礎 NumPy編\n",
    "\n",
    "この講座ではPythonの基本的なライブラリの1つであるnumpyについての講座です．  \n",
    "ぜひ，この講座を通じてnumpy操作を身につけましょう！"
   ]
  },
  {
   "attachments": {},
   "cell_type": "markdown",
   "metadata": {},
   "source": [
    "### 1. ベクトルの定義\n",
    "np.array()を使って次のベクトルを定義してください.\n",
    "$$\n",
    "\\boldsymbol{a} =\n",
    "        \\left[\\begin{array}{c}\n",
    "           1,2,3,4 \n",
    "        \\end{array}\\right] \\quad\n",
    "        \n",
    " \\boldsymbol{b} =\n",
    "        \\left[\\begin{array}{c}\n",
    "            4 \\\\\n",
    "            -1 \\\\\n",
    "            6 \\\\\n",
    "        \\end{array}\\right] \\quad\n",
    "$$"
   ]
  },
  {
   "cell_type": "code",
   "execution_count": 1,
   "metadata": {},
   "outputs": [],
   "source": [
    "# ----------解答----------\n",
    "\n",
    "import numpy as np\n",
    "\n",
    "a = np.array([1, 2, 3, 4])\n",
    "b = np.array([[4],\n",
    "              [-1],\n",
    "              [6]])"
   ]
  },
  {
   "attachments": {},
   "cell_type": "markdown",
   "metadata": {},
   "source": [
    "### 2. 行列の定義\n",
    "np.array()を使って次の行列を定義してください.\n",
    "$$\n",
    "\\boldsymbol{C} =\n",
    "        \\left[\\begin{array}{c}\n",
    "           3 & -1 \\\\\n",
    "           7 & 1 \n",
    "        \\end{array}\\right] \\quad\n",
    "        \n",
    " \\boldsymbol{D} =\n",
    "        \\left[\\begin{array}{c}\n",
    "            3 & -1 & 0 & 1 \\\\\n",
    "            7 & 1 & -1 & 2 \\\\\n",
    "            4 & -5 & 1 & 3 \\\\\n",
    "        \\end{array}\\right] \\quad\n",
    "$$"
   ]
  },
  {
   "cell_type": "code",
   "execution_count": 2,
   "metadata": {},
   "outputs": [],
   "source": [
    "# ----------解答----------\n",
    "\n",
    "C = np.array([[3,-2],\n",
    "              [7,1]])\n",
    "\n",
    "D = np.array([[3,-2,0,1],\n",
    "              [7,1,-1,2],\n",
    "              [4,-5,1,3]])"
   ]
  },
  {
   "attachments": {},
   "cell_type": "markdown",
   "metadata": {},
   "source": [
    "### 3. ベクトルの作成\n",
    "こちらのように規則性のあるベクトルを作成してください.\n",
    "$$\n",
    "\\boldsymbol{a} =\n",
    "        \\left[\\begin{array}{c}\n",
    "           0 & 0 \\\\ \n",
    "        \\end{array}\\right] \\quad\n",
    "        \n",
    " \\boldsymbol{b} =\n",
    "        \\left[\\begin{array}{c}\n",
    "            1 \\\\\n",
    "            1 \\\\\n",
    "            1 \\\\\n",
    "            1 \\\\\n",
    "        \\end{array}\\right] \\quad\n",
    "$$"
   ]
  },
  {
   "cell_type": "code",
   "execution_count": 3,
   "metadata": {},
   "outputs": [],
   "source": [
    "#----------解答----------\n",
    "\n",
    "a = np.zeros((1, 2))\n",
    "a[0]\n",
    "\n",
    "b = np.ones((4, 1))"
   ]
  },
  {
   "attachments": {},
   "cell_type": "markdown",
   "metadata": {},
   "source": [
    "### 4. 行列の作成\n",
    "こちらのように規則性のある行列(単位行列)を作成してください.\n",
    "$$\n",
    "\\boldsymbol{C} =\n",
    "        \\left[\\begin{array}{c}\n",
    "           1 & 0 & 0 \\\\ \n",
    "           0 & 1 & 0 \\\\ \n",
    "           0 & 0 & 1 \\\\ \n",
    "        \\end{array}\\right] \\quad\n",
    "        \n",
    " \\boldsymbol{D} =\n",
    "        \\left[\\begin{array}{c}\n",
    "            1 & 0 & 0 & 0\\\\\n",
    "            0 & 1 & 0 & 0\\\\ \n",
    "            0 & 0 & 1 & 0\\\\  \n",
    "        \\end{array}\\right] \\quad\n",
    "$$"
   ]
  },
  {
   "cell_type": "code",
   "execution_count": 4,
   "metadata": {},
   "outputs": [],
   "source": [
    "#----------解答----------\n",
    "\n",
    "C = np.eye(3)\n",
    "\n",
    "D = np.eye(3, 4)"
   ]
  },
  {
   "attachments": {},
   "cell_type": "markdown",
   "metadata": {},
   "source": [
    "### 5. 基本情報の取得\n",
    "こちらベクトルと行列の基本情報(下記項目)を取得してください.\n",
    "- 形状\n",
    "- 次元\n",
    "- データ型\n",
    "- 要素数\n",
    "$$\n",
    "\\boldsymbol{a} =\n",
    "        \\left[\\begin{array}{c}\n",
    "           2,3,4 \\\\ \n",
    "        \\end{array}\\right] \\quad\n",
    "        \n",
    " \\boldsymbol{B} =\n",
    "        \\left[\\begin{array}{c}\n",
    "            1.2 & 3.5 & 5.1 \\\\\n",
    "            -0.3 & 1.1 & -4.5 \\\\ \n",
    "        \\end{array}\\right] \\quad\n",
    "$$"
   ]
  },
  {
   "cell_type": "code",
   "execution_count": 5,
   "metadata": {},
   "outputs": [],
   "source": [
    "#----------解答----------\n",
    "\n",
    "a = np.array([2, 3, 4])\n",
    "B = np.array([[1.2,3.5,5.1],\n",
    "             [-0.3,1.1,-4.5]])"
   ]
  },
  {
   "cell_type": "code",
   "execution_count": 6,
   "metadata": {},
   "outputs": [
    {
     "data": {
      "text/plain": [
       "(3,)"
      ]
     },
     "execution_count": 6,
     "metadata": {},
     "output_type": "execute_result"
    }
   ],
   "source": [
    "#形状を取得\n",
    "a.shape"
   ]
  },
  {
   "cell_type": "code",
   "execution_count": 7,
   "metadata": {},
   "outputs": [
    {
     "data": {
      "text/plain": [
       "1"
      ]
     },
     "execution_count": 7,
     "metadata": {},
     "output_type": "execute_result"
    }
   ],
   "source": [
    "#次元を取得\n",
    "a.ndim"
   ]
  },
  {
   "cell_type": "code",
   "execution_count": 8,
   "metadata": {},
   "outputs": [
    {
     "data": {
      "text/plain": [
       "dtype('int32')"
      ]
     },
     "execution_count": 8,
     "metadata": {},
     "output_type": "execute_result"
    }
   ],
   "source": [
    "#データ型を取得\n",
    "a.dtype\n"
   ]
  },
  {
   "cell_type": "code",
   "execution_count": 9,
   "metadata": {},
   "outputs": [
    {
     "data": {
      "text/plain": [
       "3"
      ]
     },
     "execution_count": 9,
     "metadata": {},
     "output_type": "execute_result"
    }
   ],
   "source": [
    "#要素数を取得\n",
    "a.size"
   ]
  },
  {
   "cell_type": "code",
   "execution_count": 10,
   "metadata": {},
   "outputs": [
    {
     "data": {
      "text/plain": [
       "(2, 3)"
      ]
     },
     "execution_count": 10,
     "metadata": {},
     "output_type": "execute_result"
    }
   ],
   "source": [
    "B.shape"
   ]
  },
  {
   "cell_type": "code",
   "execution_count": 11,
   "metadata": {},
   "outputs": [
    {
     "data": {
      "text/plain": [
       "2"
      ]
     },
     "execution_count": 11,
     "metadata": {},
     "output_type": "execute_result"
    }
   ],
   "source": [
    "B.ndim"
   ]
  },
  {
   "cell_type": "code",
   "execution_count": 12,
   "metadata": {},
   "outputs": [
    {
     "data": {
      "text/plain": [
       "dtype('float64')"
      ]
     },
     "execution_count": 12,
     "metadata": {},
     "output_type": "execute_result"
    }
   ],
   "source": [
    "B.dtype"
   ]
  },
  {
   "cell_type": "code",
   "execution_count": 13,
   "metadata": {},
   "outputs": [
    {
     "data": {
      "text/plain": [
       "6"
      ]
     },
     "execution_count": 13,
     "metadata": {},
     "output_type": "execute_result"
    }
   ],
   "source": [
    "B.size"
   ]
  },
  {
   "attachments": {},
   "cell_type": "markdown",
   "metadata": {},
   "source": [
    "### 6.　インデックスとスライシング\n",
    "こちらのベクトル・行列から以下の項目に従ってそれぞれの要素を取得してください.\n",
    "\n",
    "ベクトル\n",
    "- 3つ目~5つ目まで\n",
    "- 逆順で\n",
    "$$\n",
    "\\boldsymbol{a} =\n",
    "        \\left[\\begin{array}{c}\n",
    "           1,3,5,7,9,11 \\\\ \n",
    "        \\end{array}\\right] \\quad\n",
    "$$\n",
    "```python\n",
    "a = np.arrange(1,13,2)\n",
    "```\n",
    "\n",
    "行列\n",
    "- 一行目全て(3つ)\n",
    "- 3行1列目(1つ)\n",
    "- 2~3行目2~3列目\n",
    "$$\n",
    " \\boldsymbol{B} =\n",
    "        \\left[\\begin{array}{c}\n",
    "            2 & 4 & 6 \\\\\n",
    "            -1 & 5 & -3 \\\\\n",
    "            0 & -2 & 3 \\\\  \n",
    "        \\end{array}\\right] \\quad\n",
    "$$"
   ]
  },
  {
   "cell_type": "code",
   "execution_count": 14,
   "metadata": {},
   "outputs": [],
   "source": [
    "#----------解答----------\n",
    "#1から12まで2ずつとる\n",
    "a = np.arange(1,13,2)\n",
    "B = np.array([[2,4,6],[-1,5,-3],[0,-2,3]])"
   ]
  },
  {
   "cell_type": "code",
   "execution_count": 15,
   "metadata": {},
   "outputs": [
    {
     "data": {
      "text/plain": [
       "array([5, 7, 9])"
      ]
     },
     "execution_count": 15,
     "metadata": {},
     "output_type": "execute_result"
    }
   ],
   "source": [
    "#[2:]で3つ目以降をとる&[:-1]で最後から2番目まで\n",
    "a[2:-1]"
   ]
  },
  {
   "cell_type": "code",
   "execution_count": 16,
   "metadata": {},
   "outputs": [
    {
     "data": {
      "text/plain": [
       "array([11,  9,  7,  5,  3,  1])"
      ]
     },
     "execution_count": 16,
     "metadata": {},
     "output_type": "execute_result"
    }
   ],
   "source": [
    "#[::-1]で逆順に表示\n",
    "a[::-1]"
   ]
  },
  {
   "cell_type": "code",
   "execution_count": 17,
   "metadata": {},
   "outputs": [
    {
     "data": {
      "text/plain": [
       "array([2, 4, 6])"
      ]
     },
     "execution_count": 17,
     "metadata": {},
     "output_type": "execute_result"
    }
   ],
   "source": [
    "B[0]"
   ]
  },
  {
   "cell_type": "code",
   "execution_count": 18,
   "metadata": {},
   "outputs": [
    {
     "data": {
      "text/plain": [
       "0"
      ]
     },
     "execution_count": 18,
     "metadata": {},
     "output_type": "execute_result"
    }
   ],
   "source": [
    "B[2,0]"
   ]
  },
  {
   "cell_type": "code",
   "execution_count": 19,
   "metadata": {},
   "outputs": [
    {
     "data": {
      "text/plain": [
       "array([[ 5, -3],\n",
       "       [-2,  3]])"
      ]
     },
     "execution_count": 19,
     "metadata": {},
     "output_type": "execute_result"
    }
   ],
   "source": [
    "B[1:,1:]"
   ]
  },
  {
   "attachments": {},
   "cell_type": "markdown",
   "metadata": {},
   "source": [
    "### 7.　四則演算\n",
    "こちらの行列の四則演算を行ってください\n",
    "\n",
    "足し算\n",
    "$$\n",
    "        \\left[\\begin{array}{c}\n",
    "           1 & 3 \\\\\n",
    "           -2 & 4 \n",
    "        \\end{array}\\right] \n",
    "        +\n",
    "        \\left[\\begin{array}{c}\n",
    "            2 & -1 \\\\\n",
    "            3 & 0 \\\\ \n",
    "        \\end{array}\\right] \n",
    "$$\n",
    "\n",
    "引き算\n",
    "$$\n",
    "        \\left[\\begin{array}{c}\n",
    "           1 & 3 \\\\\n",
    "           -2 & 4 \n",
    "        \\end{array}\\right] \n",
    "        -\n",
    "        \\left[\\begin{array}{c}\n",
    "            2 & -1 \\\\\n",
    "            3 & 0 \\\\ \n",
    "        \\end{array}\\right] \n",
    "$$\n",
    "\n",
    "行列積\n",
    "$$\n",
    "        \\left[\\begin{array}{c}\n",
    "           -2 & -5 \\\\\n",
    "           1 & 3 \n",
    "        \\end{array}\\right] \n",
    "        \\left[\\begin{array}{c}\n",
    "            3 & 0 \\\\\n",
    "            6 & -2 \\\\ \n",
    "        \\end{array}\\right] \n",
    "$$\n",
    "\n",
    "アダマール積\n",
    "$$\n",
    "        \\left[\\begin{array}{c}\n",
    "           3 & 5 \\\\\n",
    "           4 & -1 \n",
    "        \\end{array}\\right]\n",
    "        ・ \n",
    "        \\left[\\begin{array}{c}\n",
    "            -2 & 1 \\\\\n",
    "            0 & -3 \\\\ \n",
    "        \\end{array}\\right] \n",
    "$$\n",
    "\n",
    "$$\n",
    "=\n",
    "        \\left[\\begin{array}{c}\n",
    "           3*(-2) & 5*1 \\\\\n",
    "           4*0 & -1*(-3) \n",
    "        \\end{array}\\right]\n",
    "$$"
   ]
  },
  {
   "cell_type": "code",
   "execution_count": 20,
   "metadata": {},
   "outputs": [
    {
     "data": {
      "text/plain": [
       "array([[3, 2],\n",
       "       [1, 4]])"
      ]
     },
     "execution_count": 20,
     "metadata": {},
     "output_type": "execute_result"
    }
   ],
   "source": [
    "#----------解答----------\n",
    "a = np.array([[1,3],[-2,4]])\n",
    "b = np.array([[2,-1],[3,0]])\n",
    "a + b"
   ]
  },
  {
   "cell_type": "code",
   "execution_count": 21,
   "metadata": {},
   "outputs": [
    {
     "data": {
      "text/plain": [
       "array([[-1,  4],\n",
       "       [-5,  4]])"
      ]
     },
     "execution_count": 21,
     "metadata": {},
     "output_type": "execute_result"
    }
   ],
   "source": [
    "a = np.array([[1,3],[-2,4]])\n",
    "b = np.array([[2,-1],[3,0]])\n",
    "a - b"
   ]
  },
  {
   "cell_type": "code",
   "execution_count": 22,
   "metadata": {},
   "outputs": [
    {
     "data": {
      "text/plain": [
       "array([[-36,  10],\n",
       "       [ 21,  -6]])"
      ]
     },
     "execution_count": 22,
     "metadata": {},
     "output_type": "execute_result"
    }
   ],
   "source": [
    "a = np.array([[-2,-5],[1,3]])\n",
    "b = np.array([[3,0],[6,-2]])\n",
    "a @ b"
   ]
  },
  {
   "cell_type": "code",
   "execution_count": 23,
   "metadata": {},
   "outputs": [
    {
     "data": {
      "text/plain": [
       "array([[-36,  10],\n",
       "       [ 21,  -6]])"
      ]
     },
     "execution_count": 23,
     "metadata": {},
     "output_type": "execute_result"
    }
   ],
   "source": [
    "#aとbの行列積\n",
    "a.dot(b)"
   ]
  },
  {
   "cell_type": "code",
   "execution_count": 24,
   "metadata": {},
   "outputs": [
    {
     "data": {
      "text/plain": [
       "array([[-6,  5],\n",
       "       [ 0,  3]])"
      ]
     },
     "execution_count": 24,
     "metadata": {},
     "output_type": "execute_result"
    }
   ],
   "source": [
    "#アダマール積->要素同士(同じ場所同士)の掛け算\n",
    "a = np.array([[3,5],[4,-1]])\n",
    "b = np.array(([-2,1],[0,-3]))\n",
    "a * b"
   ]
  },
  {
   "attachments": {},
   "cell_type": "markdown",
   "metadata": {},
   "source": [
    "### 8. 転置\n",
    "こちらのベクトル・行列の転置を行ってください.\n",
    "$$\n",
    "\\boldsymbol{a} =\n",
    "        \\left[\\begin{array}{c}\n",
    "           2,3,4 \\\\ \n",
    "        \\end{array}\\right] \\quad\n",
    "        \n",
    " \\boldsymbol{B} =\n",
    "        \\left[\\begin{array}{c}\n",
    "            1.2 & 3.5 & 5.1 \\\\\n",
    "            -0.3 & 1.1 & -4.5 \\\\ \n",
    "        \\end{array}\\right] \\quad\n",
    "$$"
   ]
  },
  {
   "cell_type": "code",
   "execution_count": 25,
   "metadata": {},
   "outputs": [],
   "source": [
    "#----------解答----------\n",
    "\n",
    "a = np.array([2, 3, 4])\n",
    "B = np.array([[1.2,3.5,5.1],\n",
    "             [-0.3,1.1,-4.5]])"
   ]
  },
  {
   "cell_type": "code",
   "execution_count": 26,
   "metadata": {},
   "outputs": [
    {
     "data": {
      "text/plain": [
       "(3,)"
      ]
     },
     "execution_count": 26,
     "metadata": {},
     "output_type": "execute_result"
    }
   ],
   "source": [
    "a.T\n",
    "a.shape"
   ]
  },
  {
   "cell_type": "code",
   "execution_count": 27,
   "metadata": {},
   "outputs": [
    {
     "data": {
      "text/plain": [
       "array([[2],\n",
       "       [3],\n",
       "       [4]])"
      ]
     },
     "execution_count": 27,
     "metadata": {},
     "output_type": "execute_result"
    }
   ],
   "source": [
    "#一次元のベクトルは転置できないので二次元にする\n",
    "a = np.array([[2, 3, 4]])\n",
    "a.T"
   ]
  },
  {
   "cell_type": "code",
   "execution_count": 28,
   "metadata": {},
   "outputs": [
    {
     "data": {
      "text/plain": [
       "(3, 1)"
      ]
     },
     "execution_count": 28,
     "metadata": {},
     "output_type": "execute_result"
    }
   ],
   "source": [
    "a.T.shape"
   ]
  },
  {
   "cell_type": "code",
   "execution_count": 29,
   "metadata": {},
   "outputs": [
    {
     "data": {
      "text/plain": [
       "array([[ 1.2, -0.3],\n",
       "       [ 3.5,  1.1],\n",
       "       [ 5.1, -4.5]])"
      ]
     },
     "execution_count": 29,
     "metadata": {},
     "output_type": "execute_result"
    }
   ],
   "source": [
    "B.T"
   ]
  },
  {
   "attachments": {},
   "cell_type": "markdown",
   "metadata": {},
   "source": [
    "### 9. 逆行列\n",
    "下記の値を求めてください\n",
    "- 行列の行列式\n",
    "- 行列式の値が0でなければその逆行列\n",
    "$$\n",
    " \\boldsymbol{A} =\n",
    "        \\left[\\begin{array}{c}\n",
    "            4 & -2 \\\\\n",
    "            1 & 0\\\\ \n",
    "        \\end{array}\\right] \\quad\n",
    "$$"
   ]
  },
  {
   "cell_type": "code",
   "execution_count": 30,
   "metadata": {},
   "outputs": [
    {
     "data": {
      "text/plain": [
       "2.0"
      ]
     },
     "execution_count": 30,
     "metadata": {},
     "output_type": "execute_result"
    }
   ],
   "source": [
    "#----------解答----------\n",
    "\n",
    "A = np.array([[4,-2],[1,0]])\n",
    "#行列式を求める\n",
    "det = np.linalg.det(A)\n",
    "det"
   ]
  },
  {
   "cell_type": "code",
   "execution_count": 31,
   "metadata": {},
   "outputs": [],
   "source": [
    "#逆行列を求める\n",
    "Ainv = np.linalg.inv(A)"
   ]
  },
  {
   "cell_type": "code",
   "execution_count": 32,
   "metadata": {},
   "outputs": [
    {
     "data": {
      "text/plain": [
       "array([[1., 0.],\n",
       "       [0., 1.]])"
      ]
     },
     "execution_count": 32,
     "metadata": {},
     "output_type": "execute_result"
    }
   ],
   "source": [
    "#逆行列とその元の行列の行列式は単位行列となる\n",
    "A @ Ainv"
   ]
  },
  {
   "attachments": {},
   "cell_type": "markdown",
   "metadata": {},
   "source": [
    "### 10. ブロードキャスト\n",
    "NumPyで定義されたベクトル・行列にスカラーを掛けた場合の計算結果を確認してください.\n",
    "\n",
    "$$\n",
    "        \\left[\\begin{array}{c}\n",
    "            4 & -2 \\\\\n",
    "            1 & 0\\\\ \n",
    "        \\end{array}\\right] \n",
    "        * 0.5\n",
    "$$\n",
    "$$\n",
    "        \\left[\\begin{array}{c}\n",
    "            8 & 1 & 5 \\\\\n",
    "            -3 & 0 & 7\\\\ \n",
    "        \\end{array}\\right]\n",
    "        * 2 \n",
    "$$"
   ]
  },
  {
   "cell_type": "code",
   "execution_count": 33,
   "metadata": {},
   "outputs": [],
   "source": [
    "#----------解答----------\n",
    "\n",
    "A = np.array([[4,-2],[1,0]])\n",
    "B = np.array([[8,1,5],[-3,0,-7]])"
   ]
  },
  {
   "cell_type": "code",
   "execution_count": 34,
   "metadata": {},
   "outputs": [
    {
     "data": {
      "text/plain": [
       "array([[ 2. , -1. ],\n",
       "       [ 0.5,  0. ]])"
      ]
     },
     "execution_count": 34,
     "metadata": {},
     "output_type": "execute_result"
    }
   ],
   "source": [
    "A * 0.5"
   ]
  },
  {
   "cell_type": "code",
   "execution_count": 35,
   "metadata": {},
   "outputs": [
    {
     "data": {
      "text/plain": [
       "array([[ 16,   2,  10],\n",
       "       [ -6,   0, -14]])"
      ]
     },
     "execution_count": 35,
     "metadata": {},
     "output_type": "execute_result"
    }
   ],
   "source": [
    "B * 2"
   ]
  },
  {
   "attachments": {},
   "cell_type": "markdown",
   "metadata": {},
   "source": [
    "### 11. ベクトルのサイズ変更\n",
    "これらのように定義されたベクトルを次の行列にサイズ変更してください.\n",
    "```python\n",
    "d = np.arange(12)\n",
    ">>> array([0,1,2,3,4,5,6,7,8,9,10,11])\n",
    "```\n",
    "$$\n",
    " \\boldsymbol{D} =\n",
    "        \\left[\\begin{array}{c}\n",
    "            0 & 1 & 2 & 3 \\\\\n",
    "            4 & 5 & 6 & 7\\\\\n",
    "            8 & 9 & 10 & 11 \\\\ \n",
    "        \\end{array}\\right] \\quad\n",
    "$$"
   ]
  },
  {
   "cell_type": "code",
   "execution_count": 36,
   "metadata": {},
   "outputs": [],
   "source": [
    "#----------解答----------\n",
    "d = np.arange(12)"
   ]
  },
  {
   "cell_type": "code",
   "execution_count": 37,
   "metadata": {},
   "outputs": [
    {
     "data": {
      "text/plain": [
       "array([[ 0,  1,  2,  3],\n",
       "       [ 4,  5,  6,  7],\n",
       "       [ 8,  9, 10, 11]])"
      ]
     },
     "execution_count": 37,
     "metadata": {},
     "output_type": "execute_result"
    }
   ],
   "source": [
    "d.reshape(3,4)"
   ]
  },
  {
   "attachments": {},
   "cell_type": "markdown",
   "metadata": {},
   "source": [
    "### 12. 統計値\n",
    "こちらの行列の統計値(以下の項目)を確認してください.\n",
    "- 最大値 　\n",
    "- 最小値\n",
    "- 総和\n",
    "- 平均\n",
    "- 分散\n",
    "- 標準偏差\n",
    "$$\n",
    " \\boldsymbol{B} =\n",
    "        \\left[\\begin{array}{c}\n",
    "            2 & 4 & 6 \\\\\n",
    "            -1 & 5 & -3\\\\\n",
    "            0 & -2 & 3 \\\\ \n",
    "        \\end{array}\\right] \\quad\n",
    "$$\n"
   ]
  },
  {
   "cell_type": "code",
   "execution_count": 38,
   "metadata": {},
   "outputs": [],
   "source": [
    "#----------解答----------\n",
    "\n",
    "B = np.array([[2,4,6],[-1,5,-3],[0,-2,3]]) "
   ]
  },
  {
   "cell_type": "code",
   "execution_count": 39,
   "metadata": {},
   "outputs": [
    {
     "data": {
      "text/plain": [
       "6"
      ]
     },
     "execution_count": 39,
     "metadata": {},
     "output_type": "execute_result"
    }
   ],
   "source": [
    "#行列の最大値を取得\n",
    "B.max()"
   ]
  },
  {
   "cell_type": "code",
   "execution_count": 40,
   "metadata": {},
   "outputs": [
    {
     "data": {
      "text/plain": [
       "-3"
      ]
     },
     "execution_count": 40,
     "metadata": {},
     "output_type": "execute_result"
    }
   ],
   "source": [
    "#行列の最小値を取得\n",
    "B.min()\n",
    "\n",
    "#()の中でaxisを指定すると列、行ごとの統計値を取得できる\n",
    "#B.min(axis=0)\n",
    "#B.min(axis=1)"
   ]
  },
  {
   "cell_type": "code",
   "execution_count": 41,
   "metadata": {},
   "outputs": [
    {
     "data": {
      "text/plain": [
       "14"
      ]
     },
     "execution_count": 41,
     "metadata": {},
     "output_type": "execute_result"
    }
   ],
   "source": [
    "#行列の総和を取得\n",
    "B.sum()"
   ]
  },
  {
   "cell_type": "code",
   "execution_count": 42,
   "metadata": {},
   "outputs": [
    {
     "data": {
      "text/plain": [
       "1.5555555555555556"
      ]
     },
     "execution_count": 42,
     "metadata": {},
     "output_type": "execute_result"
    }
   ],
   "source": [
    "#行列の平均値を取得\n",
    "B.mean()"
   ]
  },
  {
   "cell_type": "code",
   "execution_count": 43,
   "metadata": {},
   "outputs": [
    {
     "data": {
      "text/plain": [
       "9.135802469135802"
      ]
     },
     "execution_count": 43,
     "metadata": {},
     "output_type": "execute_result"
    }
   ],
   "source": [
    "#行列の分散を取得\n",
    "B.var()"
   ]
  },
  {
   "cell_type": "code",
   "execution_count": 44,
   "metadata": {},
   "outputs": [
    {
     "data": {
      "text/plain": [
       "3.0225490019412096"
      ]
     },
     "execution_count": 44,
     "metadata": {},
     "output_type": "execute_result"
    }
   ],
   "source": [
    "#行列の標準偏差を取得\n",
    "B.std()"
   ]
  },
  {
   "attachments": {},
   "cell_type": "markdown",
   "metadata": {},
   "source": [
    "### 13. ユニバーサル関数 part 1\n",
    "NumPyに用意されている下記の数理的な関数をこちらの行列にて実装してください.\n",
    "- 平方根\n",
    "- eの指数関数\n",
    "$$\n",
    " \\boldsymbol{A} =\n",
    "        \\left[\\begin{array}{c}\n",
    "            0 & 1 \\\\\n",
    "            2 & 4 \\\\ \n",
    "        \\end{array}\\right] \\quad\n",
    "$$"
   ]
  },
  {
   "cell_type": "code",
   "execution_count": 45,
   "metadata": {},
   "outputs": [
    {
     "data": {
      "text/plain": [
       "array([[0, 1],\n",
       "       [2, 4]])"
      ]
     },
     "execution_count": 45,
     "metadata": {},
     "output_type": "execute_result"
    }
   ],
   "source": [
    "#----------解答----------\n",
    "\n",
    "A = np.array([0,1,2,4]).reshape(2,-1)\n",
    "A"
   ]
  },
  {
   "cell_type": "code",
   "execution_count": 46,
   "metadata": {},
   "outputs": [
    {
     "data": {
      "text/plain": [
       "array([[0.        , 1.        ],\n",
       "       [1.41421356, 2.        ]])"
      ]
     },
     "execution_count": 46,
     "metadata": {},
     "output_type": "execute_result"
    }
   ],
   "source": [
    "#平方根\n",
    "np.sqrt(A)"
   ]
  },
  {
   "cell_type": "code",
   "execution_count": 47,
   "metadata": {},
   "outputs": [
    {
     "data": {
      "text/plain": [
       "array([[ 1.        ,  2.71828183],\n",
       "       [ 7.3890561 , 54.59815003]])"
      ]
     },
     "execution_count": 47,
     "metadata": {},
     "output_type": "execute_result"
    }
   ],
   "source": [
    "#eの指数関数\n",
    "np.exp(A)"
   ]
  },
  {
   "attachments": {},
   "cell_type": "markdown",
   "metadata": {},
   "source": [
    "### 14. ユニバーサル関数 part 2\n",
    "NumPyに用意されている下記の数理的な関数をこちらの行列にて実装してください.\n",
    "- sin関数\n",
    "- cos関数\n",
    "```python\n",
    "A = np.array([0 ,np.pi ,np.pi/2 ,-np.pi/4]).reshape(2,-1)\n",
    "```\n",
    "$$\n",
    "\n",
    " \\boldsymbol{A} =\n",
    "        \\left[\\begin{array}{c}\n",
    "            0 & \\pi \\\\\n",
    "            \\pi/2 & -\\pi/4 \\\\\n",
    "        \\end{array}\\right] \\quad\n",
    "$$\n"
   ]
  },
  {
   "cell_type": "code",
   "execution_count": 48,
   "metadata": {},
   "outputs": [
    {
     "data": {
      "text/plain": [
       "array([[ 0.        ,  3.14159265],\n",
       "       [ 1.57079633, -0.78539816]])"
      ]
     },
     "execution_count": 48,
     "metadata": {},
     "output_type": "execute_result"
    }
   ],
   "source": [
    "#----------解答----------\n",
    "\n",
    "A = np.array([0 ,np.pi ,np.pi/2 ,-np.pi/4]).reshape(2,-1)\n",
    "A"
   ]
  },
  {
   "cell_type": "code",
   "execution_count": 49,
   "metadata": {},
   "outputs": [
    {
     "data": {
      "text/plain": [
       "array([[ 0.00000000e+00,  1.22464680e-16],\n",
       "       [ 1.00000000e+00, -7.07106781e-01]])"
      ]
     },
     "execution_count": 49,
     "metadata": {},
     "output_type": "execute_result"
    }
   ],
   "source": [
    "#sin関数\n",
    "np.sin(A)"
   ]
  },
  {
   "cell_type": "code",
   "execution_count": 50,
   "metadata": {},
   "outputs": [
    {
     "data": {
      "text/plain": [
       "array([[ 1.00000000e+00, -1.00000000e+00],\n",
       "       [ 6.12323400e-17,  7.07106781e-01]])"
      ]
     },
     "execution_count": 50,
     "metadata": {},
     "output_type": "execute_result"
    }
   ],
   "source": [
    "#cos関数\n",
    "np.cos(A)"
   ]
  },
  {
   "attachments": {},
   "cell_type": "markdown",
   "metadata": {},
   "source": [
    "### 15. 行列の結合\n",
    "次の行列を使って以下の項目に従い、結合を行ってください\n",
    "- 縦方向に結合: Cで定義\n",
    "- 横方向に結合: Dで定義\n",
    "$$\n",
    " \\boldsymbol{A} =\n",
    "        \\left[\\begin{array}{c}\n",
    "            0 & 1 & -1 \\\\\n",
    "            2 & 4 & -3\\\\\n",
    "            5 & -2 & 7 \\\\ \n",
    "        \\end{array}\\right] \\quad\n",
    "$$\n",
    "$$\n",
    " \\boldsymbol{B} =\n",
    "        \\left[\\begin{array}{c}\n",
    "            -2 & 0 & 1 \\\\\n",
    "            5 & -1 & 2\\\\\n",
    "            -6 & 3 & 4 \\\\ \n",
    "        \\end{array}\\right] \\quad\n",
    "$$"
   ]
  },
  {
   "cell_type": "code",
   "execution_count": 51,
   "metadata": {},
   "outputs": [],
   "source": [
    "#----------解答----------\n",
    "\n",
    "A = np.array([0,1,-1,2,4,-3,5,-2,7]).reshape(3,-1)\n",
    "B = np.array([-2,0,1,5,-1,2,-6,3,4]).reshape(3,-1)"
   ]
  },
  {
   "cell_type": "code",
   "execution_count": 52,
   "metadata": {},
   "outputs": [
    {
     "data": {
      "text/plain": [
       "array([[ 0,  1, -1],\n",
       "       [ 2,  4, -3],\n",
       "       [ 5, -2,  7],\n",
       "       [-2,  0,  1],\n",
       "       [ 5, -1,  2],\n",
       "       [-6,  3,  4]])"
      ]
     },
     "execution_count": 52,
     "metadata": {},
     "output_type": "execute_result"
    }
   ],
   "source": [
    "C = np.vstack((A,B))\n",
    "C"
   ]
  },
  {
   "cell_type": "code",
   "execution_count": 53,
   "metadata": {},
   "outputs": [
    {
     "data": {
      "text/plain": [
       "array([[ 0,  1, -1, -2,  0,  1],\n",
       "       [ 2,  4, -3,  5, -1,  2],\n",
       "       [ 5, -2,  7, -6,  3,  4]])"
      ]
     },
     "execution_count": 53,
     "metadata": {},
     "output_type": "execute_result"
    }
   ],
   "source": [
    "D = np.hstack((A,B))\n",
    "D"
   ]
  },
  {
   "attachments": {},
   "cell_type": "markdown",
   "metadata": {},
   "source": [
    "### 16. 行列の分解\n",
    "先程の結合の部分で作成した行列を使って以下の項目に従い、分解を行ってください\n",
    "- 縦方向に分解: Cを2つに分けた場合/ Cを3つに分けた場合\n",
    "- 横方向に分解: Dを2つに分けた場合"
   ]
  },
  {
   "cell_type": "code",
   "execution_count": 54,
   "metadata": {},
   "outputs": [
    {
     "data": {
      "text/plain": [
       "[array([[ 0,  1, -1],\n",
       "        [ 2,  4, -3],\n",
       "        [ 5, -2,  7]]),\n",
       " array([[-2,  0,  1],\n",
       "        [ 5, -1,  2],\n",
       "        [-6,  3,  4]])]"
      ]
     },
     "execution_count": 54,
     "metadata": {},
     "output_type": "execute_result"
    }
   ],
   "source": [
    "#----------解答----------\n",
    "\n",
    "np.vsplit(C,2)"
   ]
  },
  {
   "cell_type": "code",
   "execution_count": 55,
   "metadata": {},
   "outputs": [
    {
     "data": {
      "text/plain": [
       "array([[ 0,  1, -1],\n",
       "       [ 2,  4, -3],\n",
       "       [ 5, -2,  7]])"
      ]
     },
     "execution_count": 55,
     "metadata": {},
     "output_type": "execute_result"
    }
   ],
   "source": [
    "#[0]とすることで分解したうちの最初の行列を取得\n",
    "np.vsplit(C,2)[0]"
   ]
  },
  {
   "cell_type": "code",
   "execution_count": 56,
   "metadata": {},
   "outputs": [
    {
     "data": {
      "text/plain": [
       "array([[-2,  0,  1],\n",
       "       [ 5, -1,  2],\n",
       "       [-6,  3,  4]])"
      ]
     },
     "execution_count": 56,
     "metadata": {},
     "output_type": "execute_result"
    }
   ],
   "source": [
    "#[1]とすることで分解したうちの2番目の行列を取得\n",
    "np.vsplit(C,2)[1]"
   ]
  },
  {
   "cell_type": "code",
   "execution_count": 57,
   "metadata": {},
   "outputs": [
    {
     "data": {
      "text/plain": [
       "[array([[ 0,  1, -1],\n",
       "        [ 2,  4, -3]]),\n",
       " array([[ 5, -2,  7],\n",
       "        [-2,  0,  1]]),\n",
       " array([[ 5, -1,  2],\n",
       "        [-6,  3,  4]])]"
      ]
     },
     "execution_count": 57,
     "metadata": {},
     "output_type": "execute_result"
    }
   ],
   "source": [
    "np.vsplit(C,3)"
   ]
  },
  {
   "cell_type": "code",
   "execution_count": 58,
   "metadata": {},
   "outputs": [
    {
     "data": {
      "text/plain": [
       "[array([[ 0,  1, -1],\n",
       "        [ 2,  4, -3],\n",
       "        [ 5, -2,  7]]),\n",
       " array([[-2,  0,  1],\n",
       "        [ 5, -1,  2],\n",
       "        [-6,  3,  4]])]"
      ]
     },
     "execution_count": 58,
     "metadata": {},
     "output_type": "execute_result"
    }
   ],
   "source": [
    "np.hsplit(D,2)"
   ]
  },
  {
   "attachments": {},
   "cell_type": "markdown",
   "metadata": {},
   "source": [
    "###　17. グラフ化\n",
    "ここからはNumPyで作成したデータをMatplotlibを使ってグラフ化していきます。下記二つを実装してください\n",
    "- 0~2πまでを500サンプルで区切ってsin波,cos波をプロット\n",
    "- 0~30までの整数からランダムに100サンプルを作成しヒストグラムにする\n",
    "\n",
    "またMatplotlibをJupyter Notebook上で使う場合は以下のように予め読み込みましょう.\n",
    "```python\n",
    "import matplotlib.pyplot as plt\n",
    "%matplotlib inline\n",
    "```"
   ]
  },
  {
   "cell_type": "code",
   "execution_count": 59,
   "metadata": {},
   "outputs": [],
   "source": [
    "#----------解答----------\n",
    "\n",
    "import matplotlib.pyplot as plt\n",
    "%matplotlib inline"
   ]
  },
  {
   "cell_type": "code",
   "execution_count": 60,
   "metadata": {},
   "outputs": [
    {
     "data": {
      "text/plain": [
       "500"
      ]
     },
     "execution_count": 60,
     "metadata": {},
     "output_type": "execute_result"
    }
   ],
   "source": [
    "x = np.linspace(0, 2*np.pi, 500)\n",
    "x.size"
   ]
  },
  {
   "cell_type": "code",
   "execution_count": 61,
   "metadata": {},
   "outputs": [
    {
     "data": {
      "image/png": "[encoded data removed]",
      "text/plain": [
       "<Figure size 640x480 with 1 Axes>"
      ]
     },
     "metadata": {},
     "output_type": "display_data"
    }
   ],
   "source": [
    "plt.plot(x,np.sin(x))\n",
    "plt.plot(x,np.sin(x))\n",
    "plt.show()"
   ]
  },
  {
   "cell_type": "code",
   "execution_count": 62,
   "metadata": {},
   "outputs": [
    {
     "data": {
      "text/plain": [
       "(array([10., 15.,  9.,  5.,  8.,  7., 10., 11., 10., 15.]),\n",
       " array([ 0. ,  2.9,  5.8,  8.7, 11.6, 14.5, 17.4, 20.3, 23.2, 26.1, 29. ]),\n",
       " <BarContainer object of 10 artists>)"
      ]
     },
     "execution_count": 62,
     "metadata": {},
     "output_type": "execute_result"
    },
    {
     "data": {
      "image/png": "[encoded data removed]",
      "text/plain": [
       "<Figure size 640x480 with 1 Axes>"
      ]
     },
     "metadata": {},
     "output_type": "display_data"
    }
   ],
   "source": [
    "data = np.random.randint(0,30,100)\n",
    "plt.hist(data)\n",
    "#binsは表示する棒の数\n",
    "#plt.hist(data, bins=50)"
   ]
  },
  {
   "attachments": {},
   "cell_type": "markdown",
   "metadata": {},
   "source": [
    "### 18. 演習課題\n",
    "ここまでの内容を理解しているか確認するために取り組みます。\n",
    "下記の行列の形状を見て計算可能なことを確認したのち\n",
    "C = AB\n",
    "を計算してください.\n",
    "$$\n",
    " \\boldsymbol{A} =\n",
    "        \\left[\\begin{array}{c}\n",
    "            -10 & -8 & -6 \\\\\n",
    "            -4 & -2 & 0\\\\\n",
    "            2 & 4 & 6 \\\\\n",
    "            8 & 10 & 12 \\\\ \n",
    "        \\end{array}\\right] \\quad\n",
    "$$\n",
    "$$\n",
    " \\boldsymbol{B} =\n",
    "        \\left[\\begin{array}{c}\n",
    "            -1 & -2 & -2 & -2\\\\\n",
    "            -2 & -1 & -2 & -2\\\\\n",
    "            -2 & -2 & -1 & -2\\\\ \n",
    "        \\end{array}\\right] \\quad\n",
    "$$\n"
   ]
  },
  {
   "cell_type": "code",
   "execution_count": 63,
   "metadata": {},
   "outputs": [],
   "source": [
    "#----------解答----------\n",
    "\n",
    "A = np.arange(-10,13,2).reshape(4,-1)\n",
    "B = np.eye(3,4) - 2 "
   ]
  },
  {
   "cell_type": "code",
   "execution_count": 64,
   "metadata": {},
   "outputs": [
    {
     "data": {
      "text/plain": [
       "((4, 3), (3, 4))"
      ]
     },
     "execution_count": 64,
     "metadata": {},
     "output_type": "execute_result"
    }
   ],
   "source": [
    "A.shape,B.shape"
   ]
  },
  {
   "cell_type": "code",
   "execution_count": 65,
   "metadata": {},
   "outputs": [
    {
     "data": {
      "text/plain": [
       "array([[ 38.,  40.,  42.,  48.],\n",
       "       [  8.,  10.,  12.,  12.],\n",
       "       [-22., -20., -18., -24.],\n",
       "       [-52., -50., -48., -60.]])"
      ]
     },
     "execution_count": 65,
     "metadata": {},
     "output_type": "execute_result"
    }
   ],
   "source": [
    "C = A @ B\n",
    "C"
   ]
  },
  {
   "attachments": {},
   "cell_type": "markdown",
   "metadata": {},
   "source": [
    "### 19. 演習課題\n",
    "先程作成した行列Cの2行2列目までをDとして取り出し、一度転置したあと逆行列を求めてください."
   ]
  },
  {
   "cell_type": "code",
   "execution_count": 66,
   "metadata": {},
   "outputs": [
    {
     "data": {
      "text/plain": [
       "array([[38., 40.],\n",
       "       [ 8., 10.]])"
      ]
     },
     "execution_count": 66,
     "metadata": {},
     "output_type": "execute_result"
    }
   ],
   "source": [
    "#----------解答----------\n",
    "\n",
    "D = C[:2,:2]\n",
    "D"
   ]
  },
  {
   "cell_type": "code",
   "execution_count": 67,
   "metadata": {},
   "outputs": [
    {
     "data": {
      "text/plain": [
       "59.999999999999986"
      ]
     },
     "execution_count": 67,
     "metadata": {},
     "output_type": "execute_result"
    }
   ],
   "source": [
    "np.linalg.det(D.T)"
   ]
  },
  {
   "cell_type": "code",
   "execution_count": 68,
   "metadata": {},
   "outputs": [
    {
     "data": {
      "text/plain": [
       "array([[ 0.16666667, -0.13333333],\n",
       "       [-0.66666667,  0.63333333]])"
      ]
     },
     "execution_count": 68,
     "metadata": {},
     "output_type": "execute_result"
    }
   ],
   "source": [
    "np.linalg.inv(D.T)"
   ]
  },
  {
   "attachments": {},
   "cell_type": "markdown",
   "metadata": {},
   "source": [
    "### 20. 演習課題\n",
    "-100~100までの整数の乱数300サンプルを2つ作成し、\n",
    "それぞれをx軸の値,y軸の値とした場合の散布図をプロットしてください."
   ]
  },
  {
   "cell_type": "code",
   "execution_count": 69,
   "metadata": {},
   "outputs": [],
   "source": [
    "#----------解答----------\n",
    "\n",
    "data1 = np.random.randint(-100,100,300)\n",
    "data2 = np.random.randint(-100,100,300)"
   ]
  },
  {
   "cell_type": "code",
   "execution_count": 70,
   "metadata": {},
   "outputs": [
    {
     "data": {
      "text/plain": [
       "<matplotlib.collections.PathCollection at 0x1cc4a6afac0>"
      ]
     },
     "execution_count": 70,
     "metadata": {},
     "output_type": "execute_result"
    },
    {
     "data": {
      "image/png": "[encoded data removed]",
      "text/plain": [
       "<Figure size 640x480 with 1 Axes>"
      ]
     },
     "metadata": {},
     "output_type": "display_data"
    }
   ],
   "source": [
    "plt.scatter(data1,data2)"
   ]
  }
 ],
 "metadata": {
  "kernelspec": {
   "display_name": "Python 3",
   "language": "python",
   "name": "python3"
  },
  "language_info": {
   "codemirror_mode": {
    "name": "ipython",
    "version": 3
   },
   "file_extension": ".py",
   "mimetype": "text/x-python",
   "name": "python",
   "nbconvert_exporter": "python",
   "pygments_lexer": "ipython3",
   "version": "3.9.16"
  },
  "orig_nbformat": 4
 },
 "nbformat": 4,
 "nbformat_minor": 2
}
