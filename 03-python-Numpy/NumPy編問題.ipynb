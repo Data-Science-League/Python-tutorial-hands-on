{
 "cells": [
  {
   "attachments": {},
   "cell_type": "markdown",
   "metadata": {},
   "source": [
    "# Python基礎 NumPy編\n",
    "\n",
    "この講座ではPythonの基本的なライブラリの1つであるnumpyについての講座です．  \n",
    "ぜひ，この講座を通じてnumpy操作を身につけましょう！"
   ]
  },
  {
   "attachments": {},
   "cell_type": "markdown",
   "metadata": {},
   "source": [
    "### 1. ベクトルの定義\n",
    "np.array()を使って次のベクトルを定義してください.\n",
    "$$\n",
    "\\boldsymbol{a} =\n",
    "        \\left[\\begin{array}{c}\n",
    "           1,2,3,4 \n",
    "        \\end{array}\\right] \\quad\n",
    "        \n",
    " \\boldsymbol{b} =\n",
    "        \\left[\\begin{array}{c}\n",
    "            4 \\\\\n",
    "            -1 \\\\\n",
    "            6 \\\\\n",
    "        \\end{array}\\right] \\quad\n",
    "$$"
   ]
  },
  {
   "cell_type": "code",
   "execution_count": null,
   "metadata": {},
   "outputs": [],
   "source": []
  },
  {
   "attachments": {},
   "cell_type": "markdown",
   "metadata": {},
   "source": [
    "### 2. 行列の定義\n",
    "np.array()を使って次の行列を定義してください.\n",
    "$$\n",
    "\\boldsymbol{C} =\n",
    "        \\left[\\begin{array}{c}\n",
    "           3 & -1 \\\\\n",
    "           7 & 1 \n",
    "        \\end{array}\\right] \\quad\n",
    "        \n",
    " \\boldsymbol{D} =\n",
    "        \\left[\\begin{array}{c}\n",
    "            3 & -1 & 0 & 1 \\\\\n",
    "            7 & 1 & -1 & 2 \\\\\n",
    "            4 & -5 & 1 & 3 \\\\\n",
    "        \\end{array}\\right] \\quad\n",
    "$$"
   ]
  },
  {
   "cell_type": "code",
   "execution_count": null,
   "metadata": {},
   "outputs": [],
   "source": []
  },
  {
   "attachments": {},
   "cell_type": "markdown",
   "metadata": {},
   "source": [
    "### 3. ベクトルの作成\n",
    "こちらのように規則性のあるベクトルを作成してください.\n",
    "$$\n",
    "\\boldsymbol{a} =\n",
    "        \\left[\\begin{array}{c}\n",
    "           0 & 0 \\\\ \n",
    "        \\end{array}\\right] \\quad\n",
    "        \n",
    " \\boldsymbol{b} =\n",
    "        \\left[\\begin{array}{c}\n",
    "            1 \\\\\n",
    "            1 \\\\\n",
    "            1 \\\\\n",
    "            1 \\\\\n",
    "        \\end{array}\\right] \\quad\n",
    "$$"
   ]
  },
  {
   "cell_type": "code",
   "execution_count": null,
   "metadata": {},
   "outputs": [],
   "source": []
  },
  {
   "attachments": {},
   "cell_type": "markdown",
   "metadata": {},
   "source": [
    "### 4. 行列の作成\n",
    "こちらのように規則性のある行列(単位行列)を作成してください.\n",
    "$$\n",
    "\\boldsymbol{C} =\n",
    "        \\left[\\begin{array}{c}\n",
    "           1 & 0 & 0 \\\\ \n",
    "           0 & 1 & 0 \\\\ \n",
    "           0 & 0 & 1 \\\\ \n",
    "        \\end{array}\\right] \\quad\n",
    "        \n",
    " \\boldsymbol{D} =\n",
    "        \\left[\\begin{array}{c}\n",
    "            1 & 0 & 0 & 0\\\\\n",
    "            0 & 1 & 0 & 0\\\\ \n",
    "            0 & 0 & 1 & 0\\\\  \n",
    "        \\end{array}\\right] \\quad\n",
    "$$"
   ]
  },
  {
   "cell_type": "code",
   "execution_count": null,
   "metadata": {},
   "outputs": [],
   "source": []
  },
  {
   "attachments": {},
   "cell_type": "markdown",
   "metadata": {},
   "source": [
    "### 5. 基本情報の取得\n",
    "こちらベクトルと行列の基本情報(下記項目)を取得してください.\n",
    "- 形状\n",
    "- 次元\n",
    "- データ型\n",
    "- 要素数\n",
    "$$\n",
    "\\boldsymbol{a} =\n",
    "        \\left[\\begin{array}{c}\n",
    "           2,3,4 \\\\ \n",
    "        \\end{array}\\right] \\quad\n",
    "        \n",
    " \\boldsymbol{B} =\n",
    "        \\left[\\begin{array}{c}\n",
    "            1.2 & 3.5 & 5.1 \\\\\n",
    "            -0.3 & 1.1 & -4.5 \\\\ \n",
    "        \\end{array}\\right] \\quad\n",
    "$$"
   ]
  },
  {
   "cell_type": "code",
   "execution_count": null,
   "metadata": {},
   "outputs": [],
   "source": []
  },
  {
   "attachments": {},
   "cell_type": "markdown",
   "metadata": {},
   "source": [
    "### 6.　インデックスとスライシング\n",
    "こちらのベクトル・行列から以下の項目に従ってそれぞれの要素を取得してください.\n",
    "\n",
    "ベクトル\n",
    "- 3つ目~5つ目まで\n",
    "- 逆順で\n",
    "$$\n",
    "\\boldsymbol{a} =\n",
    "        \\left[\\begin{array}{c}\n",
    "           1,3,5,7,9,11 \\\\ \n",
    "        \\end{array}\\right] \\quad\n",
    "$$\n",
    "```python\n",
    "a = np.arrange(1,13,2)\n",
    "```\n",
    "\n",
    "行列\n",
    "- 一行目全て(3つ)\n",
    "- 3行1列目(1つ)\n",
    "- 2~3行目2~3列目\n",
    "$$\n",
    " \\boldsymbol{B} =\n",
    "        \\left[\\begin{array}{c}\n",
    "            2 & 4 & 6 \\\\\n",
    "            -1 & 5 & -3 \\\\\n",
    "            0 & -2 & 3 \\\\  \n",
    "        \\end{array}\\right] \\quad\n",
    "$$"
   ]
  },
  {
   "cell_type": "code",
   "execution_count": null,
   "metadata": {},
   "outputs": [],
   "source": []
  },
  {
   "attachments": {},
   "cell_type": "markdown",
   "metadata": {},
   "source": [
    "### 7.　四則演算\n",
    "こちらの行列の四則演算を行ってください\n",
    "\n",
    "足し算\n",
    "$$\n",
    "        \\left[\\begin{array}{c}\n",
    "           1 & 3 \\\\\n",
    "           -2 & 4 \n",
    "        \\end{array}\\right] \n",
    "        +\n",
    "        \\left[\\begin{array}{c}\n",
    "            2 & -1 \\\\\n",
    "            3 & 0 \\\\ \n",
    "        \\end{array}\\right] \n",
    "$$\n",
    "\n",
    "引き算\n",
    "$$\n",
    "        \\left[\\begin{array}{c}\n",
    "           1 & 3 \\\\\n",
    "           -2 & 4 \n",
    "        \\end{array}\\right] \n",
    "        -\n",
    "        \\left[\\begin{array}{c}\n",
    "            2 & -1 \\\\\n",
    "            3 & 0 \\\\ \n",
    "        \\end{array}\\right] \n",
    "$$\n",
    "\n",
    "行列積\n",
    "$$\n",
    "        \\left[\\begin{array}{c}\n",
    "           -2 & -5 \\\\\n",
    "           1 & 3 \n",
    "        \\end{array}\\right] \n",
    "        \\left[\\begin{array}{c}\n",
    "            3 & 0 \\\\\n",
    "            6 & -2 \\\\ \n",
    "        \\end{array}\\right] \n",
    "$$\n",
    "\n",
    "アダマール積\n",
    "$$\n",
    "        \\left[\\begin{array}{c}\n",
    "           3 & 5 \\\\\n",
    "           4 & -1 \n",
    "        \\end{array}\\right]\n",
    "        ・ \n",
    "        \\left[\\begin{array}{c}\n",
    "            -2 & 1 \\\\\n",
    "            0 & -3 \\\\ \n",
    "        \\end{array}\\right] \n",
    "$$\n",
    "\n",
    "$$\n",
    "=\n",
    "        \\left[\\begin{array}{c}\n",
    "           3*(-2) & 5*1 \\\\\n",
    "           4*0 & -1*(-3) \n",
    "        \\end{array}\\right]\n",
    "$$"
   ]
  },
  {
   "cell_type": "code",
   "execution_count": null,
   "metadata": {},
   "outputs": [],
   "source": []
  },
  {
   "attachments": {},
   "cell_type": "markdown",
   "metadata": {},
   "source": [
    "### 8. 転置\n",
    "こちらのベクトル・行列の転置を行ってください.\n",
    "$$\n",
    "\\boldsymbol{a} =\n",
    "        \\left[\\begin{array}{c}\n",
    "           2,3,4 \\\\ \n",
    "        \\end{array}\\right] \\quad\n",
    "        \n",
    " \\boldsymbol{B} =\n",
    "        \\left[\\begin{array}{c}\n",
    "            1.2 & 3.5 & 5.1 \\\\\n",
    "            -0.3 & 1.1 & -4.5 \\\\ \n",
    "        \\end{array}\\right] \\quad\n",
    "$$"
   ]
  },
  {
   "cell_type": "code",
   "execution_count": null,
   "metadata": {},
   "outputs": [],
   "source": []
  },
  {
   "attachments": {},
   "cell_type": "markdown",
   "metadata": {},
   "source": [
    "### 9. 逆行列\n",
    "下記の値を求めてください\n",
    "- 行列の行列式\n",
    "- 行列式の値が0でなければその逆行列\n",
    "$$\n",
    " \\boldsymbol{A} =\n",
    "        \\left[\\begin{array}{c}\n",
    "            4 & -2 \\\\\n",
    "            1 & 0\\\\ \n",
    "        \\end{array}\\right] \\quad\n",
    "$$"
   ]
  },
  {
   "cell_type": "code",
   "execution_count": null,
   "metadata": {},
   "outputs": [],
   "source": []
  },
  {
   "attachments": {},
   "cell_type": "markdown",
   "metadata": {},
   "source": [
    "### 10. ブロードキャスト\n",
    "NumPyで定義されたベクトル・行列にスカラーを掛けた場合の計算結果を確認してください.\n",
    "\n",
    "$$\n",
    "        \\left[\\begin{array}{c}\n",
    "            4 & -2 \\\\\n",
    "            1 & 0\\\\ \n",
    "        \\end{array}\\right] \n",
    "        * 0.5\n",
    "$$\n",
    "$$\n",
    "        \\left[\\begin{array}{c}\n",
    "            8 & 1 & 5 \\\\\n",
    "            -3 & 0 & 7\\\\ \n",
    "        \\end{array}\\right]\n",
    "        * 2 \n",
    "$$"
   ]
  },
  {
   "cell_type": "code",
   "execution_count": null,
   "metadata": {},
   "outputs": [],
   "source": []
  },
  {
   "attachments": {},
   "cell_type": "markdown",
   "metadata": {},
   "source": [
    "### 11. ベクトルのサイズ変更\n",
    "これらのように定義されたベクトルを次の行列にサイズ変更してください.\n",
    "```python\n",
    "d = np.arange(12)\n",
    ">>> array([0,1,2,3,4,5,6,7,8,9,10,11])\n",
    "```\n",
    "$$\n",
    " \\boldsymbol{D} =\n",
    "        \\left[\\begin{array}{c}\n",
    "            0 & 1 & 2 & 3 \\\\\n",
    "            4 & 5 & 6 & 7\\\\\n",
    "            8 & 9 & 10 & 11 \\\\ \n",
    "        \\end{array}\\right] \\quad\n",
    "$$"
   ]
  },
  {
   "cell_type": "code",
   "execution_count": null,
   "metadata": {},
   "outputs": [],
   "source": []
  },
  {
   "attachments": {},
   "cell_type": "markdown",
   "metadata": {},
   "source": [
    "### 12. 統計値\n",
    "こちらの行列の統計値(以下の項目)を確認してください.\n",
    "- 最大値 　\n",
    "- 最小値\n",
    "- 総和\n",
    "- 平均\n",
    "- 分散\n",
    "- 標準偏差\n",
    "$$\n",
    " \\boldsymbol{B} =\n",
    "        \\left[\\begin{array}{c}\n",
    "            2 & 4 & 6 \\\\\n",
    "            -1 & 5 & -3\\\\\n",
    "            0 & -2 & 3 \\\\ \n",
    "        \\end{array}\\right] \\quad\n",
    "$$\n"
   ]
  },
  {
   "cell_type": "code",
   "execution_count": null,
   "metadata": {},
   "outputs": [],
   "source": [
    " "
   ]
  },
  {
   "attachments": {},
   "cell_type": "markdown",
   "metadata": {},
   "source": [
    "### 13. ユニバーサル関数 part 1\n",
    "NumPyに用意されている下記の数理的な関数をこちらの行列にて実装してください.\n",
    "- 平方根\n",
    "- eの指数関数\n",
    "$$\n",
    " \\boldsymbol{A} =\n",
    "        \\left[\\begin{array}{c}\n",
    "            0 & 1 \\\\\n",
    "            2 & 4 \\\\ \n",
    "        \\end{array}\\right] \\quad\n",
    "$$"
   ]
  },
  {
   "cell_type": "code",
   "execution_count": null,
   "metadata": {},
   "outputs": [],
   "source": []
  },
  {
   "attachments": {},
   "cell_type": "markdown",
   "metadata": {},
   "source": [
    "### 14. ユニバーサル関数 part 2\n",
    "NumPyに用意されている下記の数理的な関数をこちらの行列にて実装してください.\n",
    "- sin関数\n",
    "- cos関数\n",
    "```python\n",
    "A = np.array([0 ,np.pi ,np.pi/2 ,-np.pi/4]).reshape(2,-1)\n",
    "```\n",
    "$$\n",
    "\n",
    " \\boldsymbol{A} =\n",
    "        \\left[\\begin{array}{c}\n",
    "            0 & \\pi \\\\\n",
    "            \\pi/2 & -\\pi/4 \\\\\n",
    "        \\end{array}\\right] \\quad\n",
    "$$\n"
   ]
  },
  {
   "cell_type": "code",
   "execution_count": null,
   "metadata": {},
   "outputs": [],
   "source": []
  },
  {
   "attachments": {},
   "cell_type": "markdown",
   "metadata": {},
   "source": [
    "### 15. 行列の結合\n",
    "次の行列を使って以下の項目に従い、結合を行ってください\n",
    "- 縦方向に結合: Cで定義\n",
    "- 横方向に結合: Dで定義\n",
    "$$\n",
    " \\boldsymbol{A} =\n",
    "        \\left[\\begin{array}{c}\n",
    "            0 & 1 & -1 \\\\\n",
    "            2 & 4 & -3\\\\\n",
    "            5 & -2 & 7 \\\\ \n",
    "        \\end{array}\\right] \\quad\n",
    "$$\n",
    "$$\n",
    " \\boldsymbol{B} =\n",
    "        \\left[\\begin{array}{c}\n",
    "            -2 & 0 & 1 \\\\\n",
    "            5 & -1 & 2\\\\\n",
    "            -6 & 3 & 4 \\\\ \n",
    "        \\end{array}\\right] \\quad\n",
    "$$"
   ]
  },
  {
   "cell_type": "code",
   "execution_count": null,
   "metadata": {},
   "outputs": [],
   "source": []
  },
  {
   "attachments": {},
   "cell_type": "markdown",
   "metadata": {},
   "source": [
    "### 16. 行列の分解\n",
    "先程の結合の部分で作成した行列を使って以下の項目に従い、分解を行ってください\n",
    "- 縦方向に分解: Cを2つに分けた場合/ Cを3つに分けた場合\n",
    "- 横方向に分解: Dを2つに分けた場合"
   ]
  },
  {
   "cell_type": "code",
   "execution_count": null,
   "metadata": {},
   "outputs": [],
   "source": []
  },
  {
   "attachments": {},
   "cell_type": "markdown",
   "metadata": {},
   "source": [
    "### 17. グラフ化\n",
    "ここからはNumPyで作成したデータをMatplotlibを使ってグラフ化していきます。下記二つを実装してください\n",
    "- 0~2πまでを500サンプルで区切ってsin波,cos波をプロット\n",
    "- 0~30までの整数からランダムに100サンプルを作成しヒストグラムにする\n",
    "\n",
    "またMatplotlibをJupyter Notebook上で使う場合は以下のように予め読み込みましょう.\n",
    "```python\n",
    "import matplotlib.pyplot as plt\n",
    "%matplotlib inline\n",
    "```"
   ]
  },
  {
   "cell_type": "code",
   "execution_count": null,
   "metadata": {},
   "outputs": [],
   "source": []
  },
  {
   "attachments": {},
   "cell_type": "markdown",
   "metadata": {},
   "source": [
    "### 18. 演習課題\n",
    "ここまでの内容を理解しているか確認するために取り組みます。\n",
    "下記の行列の形状を見て計算可能なことを確認したのち\n",
    "C = AB\n",
    "を計算してください.\n",
    "$$\n",
    " \\boldsymbol{A} =\n",
    "        \\left[\\begin{array}{c}\n",
    "            -10 & -8 & -6 \\\\\n",
    "            -4 & -2 & 0\\\\\n",
    "            2 & 4 & 6 \\\\\n",
    "            8 & 10 & 12 \\\\ \n",
    "        \\end{array}\\right] \\quad\n",
    "$$\n",
    "$$\n",
    " \\boldsymbol{B} =\n",
    "        \\left[\\begin{array}{c}\n",
    "            -1 & -2 & -2 & -2\\\\\n",
    "            -2 & -1 & -2 & -2\\\\\n",
    "            -2 & -2 & -1 & -2\\\\ \n",
    "        \\end{array}\\right] \\quad\n",
    "$$\n"
   ]
  },
  {
   "cell_type": "code",
   "execution_count": null,
   "metadata": {},
   "outputs": [],
   "source": []
  },
  {
   "attachments": {},
   "cell_type": "markdown",
   "metadata": {},
   "source": [
    "### 19. 演習課題\n",
    "先程作成した行列Cの2行2列目までをDとして取り出し、一度転置したあと逆行列を求めてください."
   ]
  },
  {
   "cell_type": "code",
   "execution_count": null,
   "metadata": {},
   "outputs": [],
   "source": []
  },
  {
   "attachments": {},
   "cell_type": "markdown",
   "metadata": {},
   "source": [
    "### 20. 演習課題\n",
    "-100~100までの整数の乱数300サンプルを2つ作成し、\n",
    "それぞれをx軸の値,y軸の値とした場合の散布図をプロットしてください."
   ]
  },
  {
   "cell_type": "code",
   "execution_count": null,
   "metadata": {},
   "outputs": [],
   "source": []
  }
 ],
 "metadata": {
  "kernelspec": {
   "display_name": "Python 3",
   "language": "python",
   "name": "python3"
  },
  "language_info": {
   "codemirror_mode": {
    "name": "ipython",
    "version": 3
   },
   "file_extension": ".py",
   "mimetype": "text/x-python",
   "name": "python",
   "nbconvert_exporter": "python",
   "pygments_lexer": "ipython3",
   "version": "3.9.16"
  },
  "orig_nbformat": 4
 },
 "nbformat": 4,
 "nbformat_minor": 2
}
